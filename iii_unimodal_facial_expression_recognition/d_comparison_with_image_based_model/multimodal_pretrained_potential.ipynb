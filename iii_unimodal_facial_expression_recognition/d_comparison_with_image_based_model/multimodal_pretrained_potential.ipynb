{
 "cells": [
  {
   "cell_type": "markdown",
   "source": [
    "# Multimodal\n",
    "Combining images with facial action unit activations. "
   ],
   "metadata": {
    "collapsed": false
   },
   "id": "cb3580b964bfd5e5"
  },
  {
   "cell_type": "code",
   "source": [
    "name_of_this_notebook = 'multimodal_pretrained_potential.ipynb'\n",
    "\n",
    "BATCH_SIZE = 32\n",
    "\n",
    "experiment_name = f'multimodal-potential'\n"
   ],
   "metadata": {
    "collapsed": false,
    "ExecuteTime": {
     "end_time": "2024-12-18T12:58:06.622306Z",
     "start_time": "2024-12-18T12:58:06.620719Z"
    }
   },
   "id": "5338febc41bcd0ad",
   "outputs": [],
   "execution_count": 1
  },
  {
   "metadata": {
    "ExecuteTime": {
     "end_time": "2024-12-18T12:58:07.687572Z",
     "start_time": "2024-12-18T12:58:06.641695Z"
    }
   },
   "cell_type": "code",
   "source": [
    "import random\n",
    "import numpy as np\n",
    "import tensorflow as tf\n",
    "\n",
    "SEED = 42\n",
    "random.seed(SEED)\n",
    "np.random.seed(SEED)\n",
    "tf.random.set_seed(SEED)"
   ],
   "id": "1cc5f3640226f14d",
   "outputs": [
    {
     "name": "stderr",
     "output_type": "stream",
     "text": [
      "2024-12-18 13:58:06.753633: I tensorflow/core/util/port.cc:113] oneDNN custom operations are on. You may see slightly different numerical results due to floating-point round-off errors from different computation orders. To turn them off, set the environment variable `TF_ENABLE_ONEDNN_OPTS=0`.\n",
      "2024-12-18 13:58:06.774743: E external/local_xla/xla/stream_executor/cuda/cuda_dnn.cc:9261] Unable to register cuDNN factory: Attempting to register factory for plugin cuDNN when one has already been registered\n",
      "2024-12-18 13:58:06.774763: E external/local_xla/xla/stream_executor/cuda/cuda_fft.cc:607] Unable to register cuFFT factory: Attempting to register factory for plugin cuFFT when one has already been registered\n",
      "2024-12-18 13:58:06.775325: E external/local_xla/xla/stream_executor/cuda/cuda_blas.cc:1515] Unable to register cuBLAS factory: Attempting to register factory for plugin cuBLAS when one has already been registered\n",
      "2024-12-18 13:58:06.778897: I tensorflow/core/platform/cpu_feature_guard.cc:182] This TensorFlow binary is optimized to use available CPU instructions in performance-critical operations.\n",
      "To enable the following instructions: AVX2 AVX_VNNI FMA, in other operations, rebuild TensorFlow with the appropriate compiler flags.\n",
      "2024-12-18 13:58:07.250700: W tensorflow/compiler/tf2tensorrt/utils/py_utils.cc:38] TF-TRT Warning: Could not find TensorRT\n"
     ]
    }
   ],
   "execution_count": 2
  },
  {
   "cell_type": "markdown",
   "source": [
    "## Prepare Data"
   ],
   "metadata": {
    "collapsed": false
   },
   "id": "f00c9d48d0834a1b"
  },
  {
   "cell_type": "code",
   "source": [
    "from pathlib import Path\n",
    "\n",
    "dataset_path = Path(r'/home/thor/Desktop/datasets/emoji-hero-multimodal/')"
   ],
   "metadata": {
    "collapsed": false,
    "ExecuteTime": {
     "end_time": "2024-12-18T12:58:07.732039Z",
     "start_time": "2024-12-18T12:58:07.730371Z"
    }
   },
   "id": "e4dbeea4c1ef309b",
   "outputs": [],
   "execution_count": 3
  },
  {
   "cell_type": "markdown",
   "source": [
    "### Prepare FAU Data"
   ],
   "metadata": {
    "collapsed": false
   },
   "id": "6a9a214e26b0416e"
  },
  {
   "cell_type": "code",
   "source": [
    "import pandas as pd\n",
    "\n",
    "fau_data_path = dataset_path / 'facial_action_unit_activations'\n",
    "\n",
    "fau_test_df = pd.read_csv(str(fau_data_path / 'test_set.csv')).sort_values(by='timestamp').reset_index(drop=True)\n",
    "\n",
    "\n",
    "def prepare_fau_data(df):\n",
    "    X = df.iloc[:, 2:-1].values  # All columns except timestamp, participant_id, and label\n",
    "    y = df.iloc[:, -1].values  # The last column is the label\n",
    "    return X, y\n",
    "\n",
    "\n",
    "fau_X_test, fau_y_test = prepare_fau_data(fau_test_df)"
   ],
   "metadata": {
    "collapsed": false,
    "ExecuteTime": {
     "end_time": "2024-12-18T12:58:07.753705Z",
     "start_time": "2024-12-18T12:58:07.735478Z"
    }
   },
   "id": "65a9dac7488dc118",
   "outputs": [],
   "execution_count": 4
  },
  {
   "cell_type": "markdown",
   "source": [
    "### Combine FAU with Image Data"
   ],
   "metadata": {
    "collapsed": false
   },
   "id": "a0db6d0507acd1af"
  },
  {
   "cell_type": "markdown",
   "source": "Make sure that we have exactly two images (central and 45° side-view) for each FAU activations record. It is expected that there is not data for participant 7 (`<timestamp>-7-<camera-index>.jpg`). ",
   "metadata": {
    "collapsed": false
   },
   "id": "fb2dba1ee783f0b2"
  },
  {
   "cell_type": "code",
   "source": [
    "image_dataset_path = dataset_path / 'images'\n",
    "image_test_set_path = image_dataset_path / 'test_set'\n",
    "\n",
    "\n",
    "def load_image_paths(image_set_path, fau_df):\n",
    "    print(f'\\nLoading images from {image_set_path}...')\n",
    "    image_paths = []\n",
    "    labels = []\n",
    "    fau_records = []\n",
    "    perspectives = []\n",
    "    for label_dir in image_set_path.iterdir():\n",
    "        for img_file in label_dir.iterdir():\n",
    "            timestamp = int(img_file.name.split('-')[0])\n",
    "            perspective = int(img_file.name.split('-')[-1].split('.')[0])\n",
    "            matching_fau = fau_df[fau_df['timestamp'] == timestamp]\n",
    "            if not matching_fau.empty:\n",
    "                image_paths.append(str(img_file))\n",
    "                labels.append(int(label_dir.name))\n",
    "                fau_records.append(matching_fau.iloc[0, 2:-1].values)\n",
    "                perspectives.append(perspective)\n",
    "            else:\n",
    "                print(f'Could not find FAU data for image {img_file.name}')\n",
    "    print(f'Found {len(image_paths)} images with corresponding fau data in {image_set_path}\\n')\n",
    "    return fau_records, image_paths, labels, perspectives\n",
    "\n",
    "\n",
    "fau_test_records, image_test_paths, test_labels, test_perspectives = load_image_paths(image_test_set_path, fau_test_df)\n"
   ],
   "metadata": {
    "collapsed": false,
    "ExecuteTime": {
     "end_time": "2024-12-18T12:58:07.883385Z",
     "start_time": "2024-12-18T12:58:07.777142Z"
    }
   },
   "id": "fb552260c6a64cc8",
   "outputs": [
    {
     "name": "stdout",
     "output_type": "stream",
     "text": [
      "\n",
      "Loading images from /home/thor/Desktop/datasets/emoji-hero-multimodal/images/test_set...\n",
      "Found 756 images with corresponding fau data in /home/thor/Desktop/datasets/emoji-hero-multimodal/images/test_set\n",
      "\n"
     ]
    }
   ],
   "execution_count": 5
  },
  {
   "cell_type": "code",
   "source": [
    "import tensorflow as tf\n",
    "\n",
    "IMAGE_SIZE = (224, 224)\n",
    "\n",
    "\n",
    "def parse_image(filename):\n",
    "    image_string = tf.io.read_file(filename)\n",
    "    image = tf.image.decode_jpeg(image_string, channels=3)\n",
    "    image = tf.image.resize(image, IMAGE_SIZE)\n",
    "    return image\n",
    "\n",
    "\n",
    "def load_combined_data(fau_records, image_paths, labels, perspectives, batch_size):\n",
    "    fau_dataset = tf.data.Dataset.from_tensor_slices(fau_records)\n",
    "\n",
    "    image_dataset = tf.data.Dataset.from_tensor_slices(image_paths)\n",
    "    image_dataset = image_dataset.map(parse_image, num_parallel_calls=tf.data.experimental.AUTOTUNE)\n",
    "\n",
    "    label_dataset = tf.data.Dataset.from_tensor_slices(labels)\n",
    "    perspective_dataset = tf.data.Dataset.from_tensor_slices(perspectives)\n",
    "\n",
    "    dataset = tf.data.Dataset.zip(((image_dataset, fau_dataset, perspective_dataset), label_dataset))\n",
    "    dataset = dataset.batch(batch_size).prefetch(tf.data.experimental.AUTOTUNE)\n",
    "    return dataset\n",
    "\n",
    "\n",
    "test_dataset = load_combined_data(fau_test_records, image_test_paths, test_labels, test_perspectives, BATCH_SIZE)"
   ],
   "metadata": {
    "collapsed": false,
    "ExecuteTime": {
     "end_time": "2024-12-18T12:58:08.035162Z",
     "start_time": "2024-12-18T12:58:07.891498Z"
    }
   },
   "id": "df84978e4b888a0a",
   "outputs": [
    {
     "name": "stderr",
     "output_type": "stream",
     "text": [
      "2024-12-18 13:58:07.919411: I external/local_xla/xla/stream_executor/cuda/cuda_executor.cc:901] successful NUMA node read from SysFS had negative value (-1), but there must be at least one NUMA node, so returning NUMA node zero. See more at https://github.com/torvalds/linux/blob/v6.0/Documentation/ABI/testing/sysfs-bus-pci#L344-L355\n",
      "2024-12-18 13:58:07.939417: I external/local_xla/xla/stream_executor/cuda/cuda_executor.cc:901] successful NUMA node read from SysFS had negative value (-1), but there must be at least one NUMA node, so returning NUMA node zero. See more at https://github.com/torvalds/linux/blob/v6.0/Documentation/ABI/testing/sysfs-bus-pci#L344-L355\n",
      "2024-12-18 13:58:07.939543: I external/local_xla/xla/stream_executor/cuda/cuda_executor.cc:901] successful NUMA node read from SysFS had negative value (-1), but there must be at least one NUMA node, so returning NUMA node zero. See more at https://github.com/torvalds/linux/blob/v6.0/Documentation/ABI/testing/sysfs-bus-pci#L344-L355\n",
      "2024-12-18 13:58:07.940751: I external/local_xla/xla/stream_executor/cuda/cuda_executor.cc:901] successful NUMA node read from SysFS had negative value (-1), but there must be at least one NUMA node, so returning NUMA node zero. See more at https://github.com/torvalds/linux/blob/v6.0/Documentation/ABI/testing/sysfs-bus-pci#L344-L355\n",
      "2024-12-18 13:58:07.940838: I external/local_xla/xla/stream_executor/cuda/cuda_executor.cc:901] successful NUMA node read from SysFS had negative value (-1), but there must be at least one NUMA node, so returning NUMA node zero. See more at https://github.com/torvalds/linux/blob/v6.0/Documentation/ABI/testing/sysfs-bus-pci#L344-L355\n",
      "2024-12-18 13:58:07.940889: I external/local_xla/xla/stream_executor/cuda/cuda_executor.cc:901] successful NUMA node read from SysFS had negative value (-1), but there must be at least one NUMA node, so returning NUMA node zero. See more at https://github.com/torvalds/linux/blob/v6.0/Documentation/ABI/testing/sysfs-bus-pci#L344-L355\n",
      "2024-12-18 13:58:07.980200: I external/local_xla/xla/stream_executor/cuda/cuda_executor.cc:901] successful NUMA node read from SysFS had negative value (-1), but there must be at least one NUMA node, so returning NUMA node zero. See more at https://github.com/torvalds/linux/blob/v6.0/Documentation/ABI/testing/sysfs-bus-pci#L344-L355\n",
      "2024-12-18 13:58:07.980312: I external/local_xla/xla/stream_executor/cuda/cuda_executor.cc:901] successful NUMA node read from SysFS had negative value (-1), but there must be at least one NUMA node, so returning NUMA node zero. See more at https://github.com/torvalds/linux/blob/v6.0/Documentation/ABI/testing/sysfs-bus-pci#L344-L355\n",
      "2024-12-18 13:58:07.980377: I external/local_xla/xla/stream_executor/cuda/cuda_executor.cc:901] successful NUMA node read from SysFS had negative value (-1), but there must be at least one NUMA node, so returning NUMA node zero. See more at https://github.com/torvalds/linux/blob/v6.0/Documentation/ABI/testing/sysfs-bus-pci#L344-L355\n",
      "2024-12-18 13:58:07.980424: I tensorflow/core/common_runtime/gpu/gpu_device.cc:1929] Created device /job:localhost/replica:0/task:0/device:GPU:0 with 1169 MB memory:  -> device: 0, name: NVIDIA GeForce RTX 3090, pci bus id: 0000:01:00.0, compute capability: 8.6\n"
     ]
    }
   ],
   "execution_count": 6
  },
  {
   "cell_type": "markdown",
   "source": [
    "## Compute Potential"
   ],
   "metadata": {
    "collapsed": false
   },
   "id": "d2800cc5d1c5fe66"
  },
  {
   "cell_type": "markdown",
   "source": [
    "### Load Pretrained Models"
   ],
   "metadata": {
    "collapsed": false
   },
   "id": "9cc098512c417de6"
  },
  {
   "cell_type": "code",
   "source": [
    "from tensorflow.keras.models import load_model\n",
    "\n",
    "models_base_path = Path(r'/home/thor/Desktop/repos/emoji-hero-baseline')\n",
    "\n",
    "img_model_path = models_base_path / '2_image' / 'emojihero_transfer_imagenet_20240320-1526' / 'best_model_phase_5.keras'\n",
    "fau_model_path = models_base_path / '1_face_expressions' / '20241031-1748-checkpoint-batch-32-lr-1e-03_val_8155_test_7169' / 'fau_model.keras'\n",
    "\n",
    "img_model = load_model(str(img_model_path))\n",
    "fau_model = load_model(str(fau_model_path))"
   ],
   "metadata": {
    "collapsed": false,
    "ExecuteTime": {
     "end_time": "2024-12-18T12:58:19.085338Z",
     "start_time": "2024-12-18T12:58:08.045358Z"
    }
   },
   "id": "b20383eb49a41081",
   "outputs": [],
   "execution_count": 7
  },
  {
   "cell_type": "code",
   "source": [
    "img_test_dataset = test_dataset.map(lambda inputs, labels: (inputs[0], labels))\n",
    "img_loss, img_accuracy = img_model.evaluate(img_test_dataset)\n",
    "print(f'Image Model - Test Loss: {img_loss}, Test Accuracy: {img_accuracy}')"
   ],
   "metadata": {
    "collapsed": false,
    "ExecuteTime": {
     "end_time": "2024-12-18T12:58:21.350142Z",
     "start_time": "2024-12-18T12:58:19.100320Z"
    }
   },
   "id": "3bb950d58a0ac3c5",
   "outputs": [
    {
     "name": "stderr",
     "output_type": "stream",
     "text": [
      "2024-12-18 13:58:20.199584: I external/local_tsl/tsl/platform/default/subprocess.cc:304] Start cannot spawn child process: No such file or directory\n",
      "2024-12-18 13:58:20.419183: I external/local_xla/xla/stream_executor/cuda/cuda_dnn.cc:454] Loaded cuDNN version 8904\n",
      "2024-12-18 13:58:20.461053: I external/local_tsl/tsl/platform/default/subprocess.cc:304] Start cannot spawn child process: No such file or directory\n"
     ]
    },
    {
     "name": "stdout",
     "output_type": "stream",
     "text": [
      "24/24 [==============================] - 2s 27ms/step - loss: 1.5114 - accuracy: 0.6984\n",
      "Image Model - Test Loss: 1.5113862752914429, Test Accuracy: 0.6984127163887024\n"
     ]
    }
   ],
   "execution_count": 8
  },
  {
   "cell_type": "code",
   "source": [
    "fau_test_dataset = test_dataset.map(lambda inputs, labels: (inputs[1], labels))\n",
    "fau_loss, fau_accuracy = fau_model.evaluate(fau_test_dataset)\n",
    "print(f'FAU Model - Test Loss: {fau_loss}, Test Accuracy: {fau_accuracy}')"
   ],
   "metadata": {
    "collapsed": false,
    "ExecuteTime": {
     "end_time": "2024-12-18T12:58:21.550111Z",
     "start_time": "2024-12-18T12:58:21.352247Z"
    }
   },
   "id": "2760af68bb9b4889",
   "outputs": [
    {
     "name": "stdout",
     "output_type": "stream",
     "text": [
      "24/24 [==============================] - 0s 1ms/step - loss: 0.9676 - accuracy: 0.7169\n",
      "FAU Model - Test Loss: 0.967613935470581, Test Accuracy: 0.7169312238693237\n"
     ]
    }
   ],
   "execution_count": 9
  },
  {
   "cell_type": "code",
   "source": [
    "import numpy as np\n",
    "\n",
    "fau_predictions = fau_model.predict(fau_test_dataset)\n",
    "img_predictions = img_model.predict(img_test_dataset)\n",
    "\n",
    "fau_pred_labels = np.argmax(fau_predictions, axis=1)\n",
    "img_pred_labels = np.argmax(img_predictions, axis=1)"
   ],
   "metadata": {
    "collapsed": false,
    "ExecuteTime": {
     "end_time": "2024-12-18T12:58:22.735011Z",
     "start_time": "2024-12-18T12:58:21.558887Z"
    }
   },
   "id": "f753b2bf3a56a36f",
   "outputs": [
    {
     "name": "stdout",
     "output_type": "stream",
     "text": [
      "24/24 [==============================] - 0s 2ms/step\n",
      "24/24 [==============================] - 1s 18ms/step\n"
     ]
    }
   ],
   "execution_count": 10
  },
  {
   "cell_type": "code",
   "source": [
    "fau_correct = np.sum(fau_pred_labels == test_labels)\n",
    "img_correct = np.sum(img_pred_labels == test_labels)\n",
    "\n",
    "print(f'FAU Model - Correct Predictions: {fau_correct} out of {len(test_labels)}')\n",
    "print(f'Image Model - Correct Predictions: {img_correct} out of {len(test_labels)}')"
   ],
   "metadata": {
    "collapsed": false,
    "ExecuteTime": {
     "end_time": "2024-12-18T12:58:22.747659Z",
     "start_time": "2024-12-18T12:58:22.745800Z"
    }
   },
   "id": "8c08781c8c192d1d",
   "outputs": [
    {
     "name": "stdout",
     "output_type": "stream",
     "text": [
      "FAU Model - Correct Predictions: 542 out of 756\n",
      "Image Model - Correct Predictions: 528 out of 756\n"
     ]
    }
   ],
   "execution_count": 11
  },
  {
   "cell_type": "code",
   "source": [
    "case_counts = {\n",
    "    'both_correct': np.zeros((7, 2)),\n",
    "    'both_wrong': np.zeros((7, 2)),\n",
    "    'image_correct_fau_wrong': np.zeros((7, 2)),\n",
    "    'image_wrong_fau_correct': np.zeros((7, 2)),\n",
    "}\n",
    "\n",
    "for i in range(len(test_labels)):\n",
    "    true_label = test_labels[i]\n",
    "    img_pred = img_pred_labels[i]\n",
    "    fau_pred = fau_pred_labels[i]\n",
    "    perspective = int(test_perspectives[i])\n",
    "\n",
    "    if img_pred == true_label and fau_pred == true_label:\n",
    "        case_counts['both_correct'][true_label, perspective] += 1\n",
    "    elif img_pred != true_label and fau_pred != true_label:\n",
    "        case_counts['both_wrong'][true_label, perspective] += 1\n",
    "    elif img_pred == true_label and fau_pred != true_label:\n",
    "        case_counts['image_correct_fau_wrong'][true_label, perspective] += 1\n",
    "    elif img_pred != true_label and fau_pred == true_label:\n",
    "        case_counts['image_wrong_fau_correct'][true_label, perspective] += 1"
   ],
   "metadata": {
    "collapsed": false,
    "ExecuteTime": {
     "end_time": "2024-12-18T12:58:22.794369Z",
     "start_time": "2024-12-18T12:58:22.791490Z"
    }
   },
   "id": "4ae258cfcf5eff25",
   "outputs": [],
   "execution_count": 12
  },
  {
   "cell_type": "code",
   "source": [
    "import seaborn as sns\n",
    "\n",
    "emotions = ['Neutral', 'Happiness', 'Sadness', 'Surprise', 'Fear', 'Disgust', 'Anger']\n",
    "cases = ['both_correct', 'both_wrong', 'image_correct_fau_wrong', 'image_wrong_fau_correct']\n",
    "colors = sns.color_palette(\"Blues\", n_colors=len(cases))\n",
    "perspective_labels = ['Central', 'Side']"
   ],
   "metadata": {
    "collapsed": false,
    "ExecuteTime": {
     "end_time": "2024-12-18T12:58:22.839600Z",
     "start_time": "2024-12-18T12:58:22.837343Z"
    }
   },
   "id": "d6d08cb4e30f88c3",
   "outputs": [],
   "execution_count": 13
  },
  {
   "cell_type": "markdown",
   "source": [
    "## Save data"
   ],
   "metadata": {
    "collapsed": false
   },
   "id": "86cf0bdfd62ff1a7"
  },
  {
   "cell_type": "code",
   "source": [
    "data = {\n",
    "    'Emotion': [],\n",
    "    'Perspective': [],\n",
    "    'Case': [],\n",
    "    'Count': []\n",
    "}\n",
    "\n",
    "emotions = ['Neutral', 'Happiness', 'Sadness', 'Surprise', 'Fear', 'Disgust', 'Anger']\n",
    "cases = ['both_correct', 'image_correct_fau_wrong', 'image_wrong_fau_correct', 'both_wrong']\n",
    "perspective_labels = ['Central', 'Side']\n",
    "\n",
    "for i, emotion in enumerate(emotions):\n",
    "    for j, perspective in enumerate(perspective_labels):\n",
    "        for case in cases:\n",
    "            count = case_counts[case][i, j]\n",
    "            data['Emotion'].append(emotion)\n",
    "            data['Perspective'].append(perspective)\n",
    "            data['Case'].append(case)\n",
    "            data['Count'].append(count)\n",
    "\n",
    "df = pd.DataFrame(data)\n",
    "\n",
    "csv_path = 'prediction_cases_data.csv'\n",
    "df.to_csv(csv_path, index=False)\n",
    "print(f'Data saved to {csv_path}')"
   ],
   "metadata": {
    "collapsed": false,
    "ExecuteTime": {
     "end_time": "2024-12-18T12:58:22.886333Z",
     "start_time": "2024-12-18T12:58:22.882195Z"
    }
   },
   "id": "5c368f9bf62afcd1",
   "outputs": [
    {
     "name": "stdout",
     "output_type": "stream",
     "text": [
      "Data saved to prediction_cases_data.csv\n"
     ]
    }
   ],
   "execution_count": 14
  },
  {
   "cell_type": "code",
   "source": [
    "df.head(20)"
   ],
   "metadata": {
    "collapsed": false,
    "ExecuteTime": {
     "end_time": "2024-12-18T12:58:22.937881Z",
     "start_time": "2024-12-18T12:58:22.931405Z"
    }
   },
   "id": "7a97155c921e62f6",
   "outputs": [
    {
     "data": {
      "text/plain": [
       "      Emotion Perspective                     Case  Count\n",
       "0     Neutral     Central             both_correct   32.0\n",
       "1     Neutral     Central  image_correct_fau_wrong    6.0\n",
       "2     Neutral     Central  image_wrong_fau_correct   13.0\n",
       "3     Neutral     Central               both_wrong    3.0\n",
       "4     Neutral        Side             both_correct   38.0\n",
       "5     Neutral        Side  image_correct_fau_wrong    5.0\n",
       "6     Neutral        Side  image_wrong_fau_correct    7.0\n",
       "7     Neutral        Side               both_wrong    4.0\n",
       "8   Happiness     Central             both_correct   45.0\n",
       "9   Happiness     Central  image_correct_fau_wrong    1.0\n",
       "10  Happiness     Central  image_wrong_fau_correct    8.0\n",
       "11  Happiness     Central               both_wrong    0.0\n",
       "12  Happiness        Side             both_correct   47.0\n",
       "13  Happiness        Side  image_correct_fau_wrong    0.0\n",
       "14  Happiness        Side  image_wrong_fau_correct    6.0\n",
       "15  Happiness        Side               both_wrong    1.0\n",
       "16    Sadness     Central             both_correct   22.0\n",
       "17    Sadness     Central  image_correct_fau_wrong   11.0\n",
       "18    Sadness     Central  image_wrong_fau_correct   14.0\n",
       "19    Sadness     Central               both_wrong    7.0"
      ],
      "text/html": [
       "<div>\n",
       "<style scoped>\n",
       "    .dataframe tbody tr th:only-of-type {\n",
       "        vertical-align: middle;\n",
       "    }\n",
       "\n",
       "    .dataframe tbody tr th {\n",
       "        vertical-align: top;\n",
       "    }\n",
       "\n",
       "    .dataframe thead th {\n",
       "        text-align: right;\n",
       "    }\n",
       "</style>\n",
       "<table border=\"1\" class=\"dataframe\">\n",
       "  <thead>\n",
       "    <tr style=\"text-align: right;\">\n",
       "      <th></th>\n",
       "      <th>Emotion</th>\n",
       "      <th>Perspective</th>\n",
       "      <th>Case</th>\n",
       "      <th>Count</th>\n",
       "    </tr>\n",
       "  </thead>\n",
       "  <tbody>\n",
       "    <tr>\n",
       "      <th>0</th>\n",
       "      <td>Neutral</td>\n",
       "      <td>Central</td>\n",
       "      <td>both_correct</td>\n",
       "      <td>32.0</td>\n",
       "    </tr>\n",
       "    <tr>\n",
       "      <th>1</th>\n",
       "      <td>Neutral</td>\n",
       "      <td>Central</td>\n",
       "      <td>image_correct_fau_wrong</td>\n",
       "      <td>6.0</td>\n",
       "    </tr>\n",
       "    <tr>\n",
       "      <th>2</th>\n",
       "      <td>Neutral</td>\n",
       "      <td>Central</td>\n",
       "      <td>image_wrong_fau_correct</td>\n",
       "      <td>13.0</td>\n",
       "    </tr>\n",
       "    <tr>\n",
       "      <th>3</th>\n",
       "      <td>Neutral</td>\n",
       "      <td>Central</td>\n",
       "      <td>both_wrong</td>\n",
       "      <td>3.0</td>\n",
       "    </tr>\n",
       "    <tr>\n",
       "      <th>4</th>\n",
       "      <td>Neutral</td>\n",
       "      <td>Side</td>\n",
       "      <td>both_correct</td>\n",
       "      <td>38.0</td>\n",
       "    </tr>\n",
       "    <tr>\n",
       "      <th>5</th>\n",
       "      <td>Neutral</td>\n",
       "      <td>Side</td>\n",
       "      <td>image_correct_fau_wrong</td>\n",
       "      <td>5.0</td>\n",
       "    </tr>\n",
       "    <tr>\n",
       "      <th>6</th>\n",
       "      <td>Neutral</td>\n",
       "      <td>Side</td>\n",
       "      <td>image_wrong_fau_correct</td>\n",
       "      <td>7.0</td>\n",
       "    </tr>\n",
       "    <tr>\n",
       "      <th>7</th>\n",
       "      <td>Neutral</td>\n",
       "      <td>Side</td>\n",
       "      <td>both_wrong</td>\n",
       "      <td>4.0</td>\n",
       "    </tr>\n",
       "    <tr>\n",
       "      <th>8</th>\n",
       "      <td>Happiness</td>\n",
       "      <td>Central</td>\n",
       "      <td>both_correct</td>\n",
       "      <td>45.0</td>\n",
       "    </tr>\n",
       "    <tr>\n",
       "      <th>9</th>\n",
       "      <td>Happiness</td>\n",
       "      <td>Central</td>\n",
       "      <td>image_correct_fau_wrong</td>\n",
       "      <td>1.0</td>\n",
       "    </tr>\n",
       "    <tr>\n",
       "      <th>10</th>\n",
       "      <td>Happiness</td>\n",
       "      <td>Central</td>\n",
       "      <td>image_wrong_fau_correct</td>\n",
       "      <td>8.0</td>\n",
       "    </tr>\n",
       "    <tr>\n",
       "      <th>11</th>\n",
       "      <td>Happiness</td>\n",
       "      <td>Central</td>\n",
       "      <td>both_wrong</td>\n",
       "      <td>0.0</td>\n",
       "    </tr>\n",
       "    <tr>\n",
       "      <th>12</th>\n",
       "      <td>Happiness</td>\n",
       "      <td>Side</td>\n",
       "      <td>both_correct</td>\n",
       "      <td>47.0</td>\n",
       "    </tr>\n",
       "    <tr>\n",
       "      <th>13</th>\n",
       "      <td>Happiness</td>\n",
       "      <td>Side</td>\n",
       "      <td>image_correct_fau_wrong</td>\n",
       "      <td>0.0</td>\n",
       "    </tr>\n",
       "    <tr>\n",
       "      <th>14</th>\n",
       "      <td>Happiness</td>\n",
       "      <td>Side</td>\n",
       "      <td>image_wrong_fau_correct</td>\n",
       "      <td>6.0</td>\n",
       "    </tr>\n",
       "    <tr>\n",
       "      <th>15</th>\n",
       "      <td>Happiness</td>\n",
       "      <td>Side</td>\n",
       "      <td>both_wrong</td>\n",
       "      <td>1.0</td>\n",
       "    </tr>\n",
       "    <tr>\n",
       "      <th>16</th>\n",
       "      <td>Sadness</td>\n",
       "      <td>Central</td>\n",
       "      <td>both_correct</td>\n",
       "      <td>22.0</td>\n",
       "    </tr>\n",
       "    <tr>\n",
       "      <th>17</th>\n",
       "      <td>Sadness</td>\n",
       "      <td>Central</td>\n",
       "      <td>image_correct_fau_wrong</td>\n",
       "      <td>11.0</td>\n",
       "    </tr>\n",
       "    <tr>\n",
       "      <th>18</th>\n",
       "      <td>Sadness</td>\n",
       "      <td>Central</td>\n",
       "      <td>image_wrong_fau_correct</td>\n",
       "      <td>14.0</td>\n",
       "    </tr>\n",
       "    <tr>\n",
       "      <th>19</th>\n",
       "      <td>Sadness</td>\n",
       "      <td>Central</td>\n",
       "      <td>both_wrong</td>\n",
       "      <td>7.0</td>\n",
       "    </tr>\n",
       "  </tbody>\n",
       "</table>\n",
       "</div>"
      ]
     },
     "execution_count": 15,
     "metadata": {},
     "output_type": "execute_result"
    }
   ],
   "execution_count": 15
  },
  {
   "cell_type": "code",
   "source": [
    "import pandas as pd\n",
    "import seaborn as sns\n",
    "\n",
    "df = pd.read_csv('prediction_cases_data.csv')\n",
    "print(df.shape)\n",
    "df.head()"
   ],
   "metadata": {
    "collapsed": false,
    "ExecuteTime": {
     "end_time": "2024-12-18T12:58:23.000253Z",
     "start_time": "2024-12-18T12:58:22.995648Z"
    }
   },
   "id": "d03f74d631ffb455",
   "outputs": [
    {
     "name": "stdout",
     "output_type": "stream",
     "text": [
      "(56, 4)\n"
     ]
    },
    {
     "data": {
      "text/plain": [
       "   Emotion Perspective                     Case  Count\n",
       "0  Neutral     Central             both_correct   32.0\n",
       "1  Neutral     Central  image_correct_fau_wrong    6.0\n",
       "2  Neutral     Central  image_wrong_fau_correct   13.0\n",
       "3  Neutral     Central               both_wrong    3.0\n",
       "4  Neutral        Side             both_correct   38.0"
      ],
      "text/html": [
       "<div>\n",
       "<style scoped>\n",
       "    .dataframe tbody tr th:only-of-type {\n",
       "        vertical-align: middle;\n",
       "    }\n",
       "\n",
       "    .dataframe tbody tr th {\n",
       "        vertical-align: top;\n",
       "    }\n",
       "\n",
       "    .dataframe thead th {\n",
       "        text-align: right;\n",
       "    }\n",
       "</style>\n",
       "<table border=\"1\" class=\"dataframe\">\n",
       "  <thead>\n",
       "    <tr style=\"text-align: right;\">\n",
       "      <th></th>\n",
       "      <th>Emotion</th>\n",
       "      <th>Perspective</th>\n",
       "      <th>Case</th>\n",
       "      <th>Count</th>\n",
       "    </tr>\n",
       "  </thead>\n",
       "  <tbody>\n",
       "    <tr>\n",
       "      <th>0</th>\n",
       "      <td>Neutral</td>\n",
       "      <td>Central</td>\n",
       "      <td>both_correct</td>\n",
       "      <td>32.0</td>\n",
       "    </tr>\n",
       "    <tr>\n",
       "      <th>1</th>\n",
       "      <td>Neutral</td>\n",
       "      <td>Central</td>\n",
       "      <td>image_correct_fau_wrong</td>\n",
       "      <td>6.0</td>\n",
       "    </tr>\n",
       "    <tr>\n",
       "      <th>2</th>\n",
       "      <td>Neutral</td>\n",
       "      <td>Central</td>\n",
       "      <td>image_wrong_fau_correct</td>\n",
       "      <td>13.0</td>\n",
       "    </tr>\n",
       "    <tr>\n",
       "      <th>3</th>\n",
       "      <td>Neutral</td>\n",
       "      <td>Central</td>\n",
       "      <td>both_wrong</td>\n",
       "      <td>3.0</td>\n",
       "    </tr>\n",
       "    <tr>\n",
       "      <th>4</th>\n",
       "      <td>Neutral</td>\n",
       "      <td>Side</td>\n",
       "      <td>both_correct</td>\n",
       "      <td>38.0</td>\n",
       "    </tr>\n",
       "  </tbody>\n",
       "</table>\n",
       "</div>"
      ]
     },
     "execution_count": 16,
     "metadata": {},
     "output_type": "execute_result"
    }
   ],
   "execution_count": 16
  },
  {
   "cell_type": "code",
   "source": [
    "df_pivoted = df.pivot_table(index=['Emotion', 'Perspective'], columns='Case', values='Count',\n",
    "                            fill_value=0).reset_index()\n",
    "df_pivoted.head()\n",
    "\n",
    "csv_path = 'pivoted_prediction_cases_data.csv'\n",
    "df_pivoted.to_csv(csv_path, index=False)\n",
    "print(f'Data saved to {csv_path}')"
   ],
   "metadata": {
    "collapsed": false,
    "ExecuteTime": {
     "end_time": "2024-12-18T12:58:23.051547Z",
     "start_time": "2024-12-18T12:58:23.045034Z"
    }
   },
   "id": "a7c39b024a0ef9c",
   "outputs": [
    {
     "name": "stdout",
     "output_type": "stream",
     "text": [
      "Data saved to pivoted_prediction_cases_data.csv\n"
     ]
    }
   ],
   "execution_count": 17
  },
  {
   "cell_type": "code",
   "source": [
    "emotions = ['Neutral', 'Happiness', 'Sadness', 'Surprise', 'Fear', 'Disgust', 'Anger']\n",
    "cases = ['both_correct', 'both_wrong', 'image_correct_fau_wrong', 'image_wrong_fau_correct']\n",
    "colors = sns.color_palette(\"Blues\", n_colors=len(cases))\n",
    "perspective_labels = ['Central', 'Side']"
   ],
   "metadata": {
    "collapsed": false,
    "ExecuteTime": {
     "end_time": "2024-12-18T12:58:23.109570Z",
     "start_time": "2024-12-18T12:58:23.106907Z"
    }
   },
   "id": "e2fc7ec84923e782",
   "outputs": [],
   "execution_count": 18
  },
  {
   "metadata": {
    "ExecuteTime": {
     "end_time": "2024-12-18T12:58:23.179666Z",
     "start_time": "2024-12-18T12:58:23.174426Z"
    }
   },
   "cell_type": "code",
   "source": [
    "import pandas as pd\n",
    "import numpy as np\n",
    "import seaborn as sns\n",
    "from matplotlib import pyplot as plt\n",
    "\n",
    "# CSV-Datei laden\n",
    "csv_path = 'prediction_cases_data.csv'\n",
    "df = pd.read_csv(csv_path)\n",
    "\n",
    "# DataFrame für das Diagramm vorbereiten und alphabetisch sortieren\n",
    "emotions = sorted(['Neutral', 'Happiness', 'Sadness', 'Surprise', 'Fear', 'Disgust', 'Anger'])\n",
    "cases = ['both_correct', 'image_wrong_fau_correct', 'image_correct_fau_wrong', 'both_wrong']\n",
    "\n",
    "# Farbpalette definieren und Farben in der gewünschten Reihenfolge anpassen\n",
    "colors = sns.color_palette('colorblind', n_colors=len(cases))\n",
    "colors = [colors[2], colors[1], colors[0], colors[3]]  # Grün, helles Orange, Blau, dunkles Orange\n",
    "\n",
    "# Summiere die Werte für beide Perspektiven\n",
    "data_summed = df.groupby(['Emotion', 'Case']).sum().reset_index()\n",
    "\n",
    "# Pivotiere das DataFrame, um es für das Plotting vorzubereiten und sortiere nach Emotionen\n",
    "data_pivoted = data_summed.pivot(index='Emotion', columns='Case', values='Count').loc[emotions].fillna(0)\n",
    "\n",
    "# Umbenennen der Labels\n",
    "case_labels = {\n",
    "    'both_correct': 'Both correct',\n",
    "    'image_wrong_fau_correct': 'Only FEA correct',\n",
    "    'image_correct_fau_wrong': 'Only Image correct',\n",
    "    'both_wrong': 'Both wrong'\n",
    "}"
   ],
   "id": "207e0aa4f2f7c2a",
   "outputs": [],
   "execution_count": 19
  },
  {
   "metadata": {
    "collapsed": false,
    "ExecuteTime": {
     "end_time": "2024-12-18T12:58:23.657730Z",
     "start_time": "2024-12-18T12:58:23.215352Z"
    }
   },
   "cell_type": "code",
   "source": [
    "# Balkendiagramm erstellen\n",
    "fig, ax = plt.subplots(figsize=(12, 6))\n",
    "\n",
    "width = 0.6  # Breite der Balken\n",
    "x = np.arange(len(emotions))\n",
    "\n",
    "# Balkendiagramm erstellen\n",
    "bottom = np.zeros(len(emotions))\n",
    "for i, case in enumerate(cases):\n",
    "    values = data_pivoted[case].values\n",
    "    bars = ax.bar(x, values, width, bottom=bottom, label=case_labels[case], color=colors[i])\n",
    "    bottom += values\n",
    "\n",
    "    # Jeden Balken mit dem Wert annotieren\n",
    "    for bar in bars:\n",
    "        height = bar.get_height()\n",
    "        if height > 1:\n",
    "            ax.text(bar.get_x() + bar.get_width() / 2, bar.get_y() + height*0.9 / 2, str(int(height)), ha='center',\n",
    "                    va='center', fontsize=16, color='black', fontweight='bold')\n",
    "\n",
    "# Beschriftungen und Titel\n",
    "ax.set_xlabel('Emotion', fontsize=16, fontweight='bold')\n",
    "ax.set_ylabel('Number of Samples', fontsize=16, fontweight='bold')\n",
    "# ax.set_title('Distribution of Prediction Cases by Emotion', fontsize=14, fontweight='bold')\n",
    "\n",
    "# x-Achsen-Beschriftungen anpassen\n",
    "ax.set_xticks(x)\n",
    "ax.set_xticklabels(emotions, fontsize=14)\n",
    "\n",
    "# Legende anpassen\n",
    "# handles, labels = ax.get_legend_handles_labels()\n",
    "# ax.legend(handles, labels, title='', fontsize=12, loc='upper right', bbox_to_anchor=(1.16, 1))\n",
    "\n",
    "# x-Achsen-Beschriftungen\n",
    "plt.xticks(rotation=45)\n",
    "plt.tight_layout()\n",
    "\n",
    "plt.savefig('prediction_comparison.png', dpi=400)\n",
    "\n",
    "plt.show()\n"
   ],
   "id": "f1a29aae70a94b36",
   "outputs": [
    {
     "data": {
      "text/plain": [
       "<Figure size 1200x600 with 1 Axes>"
      ],
      "image/png": "[encoded data removed]"
     },
     "metadata": {},
     "output_type": "display_data"
    }
   ],
   "execution_count": 20
  },
  {
   "metadata": {
    "ExecuteTime": {
     "end_time": "2024-12-18T12:58:24.279375Z",
     "start_time": "2024-12-18T12:58:23.675693Z"
    }
   },
   "cell_type": "code",
   "source": [
    "import pandas as pd\n",
    "import numpy as np\n",
    "import seaborn as sns\n",
    "from matplotlib import pyplot as plt\n",
    "\n",
    "def plot_stacked_barchart(df):\n",
    "    # DataFrame für das Diagramm vorbereiten und alphabetisch sortieren\n",
    "    emotions = sorted(['Neutral', 'Happiness', 'Sadness', 'Surprise', 'Fear', 'Disgust', 'Anger'])\n",
    "    cases = ['both_correct', 'image_wrong_fau_correct', 'image_correct_fau_wrong', 'both_wrong']\n",
    "    perspective_labels = ['Central', 'Side']\n",
    "\n",
    "    # Farbpalette definieren und Farben in der gewünschten Reihenfolge anpassen\n",
    "    colors = sns.color_palette('colorblind', n_colors=len(cases))\n",
    "    colors = [colors[2], colors[1], colors[0], colors[3]]  # Grün, helles Orange, Blau, dunkles Orange\n",
    "\n",
    "    # Pivotiere das DataFrame, um es für das Plotting vorzubereiten und sortiere nach Emotionen\n",
    "    data_pivoted = df.pivot_table(index=['Emotion', 'Perspective'], columns='Case', values='Count',\n",
    "                                  fill_value=0).reset_index()\n",
    "    data_pivoted = data_pivoted.set_index('Emotion').loc[emotions].reset_index()\n",
    "\n",
    "    # Balkendiagramm erstellen\n",
    "    fig, ax = plt.subplots(figsize=(14, 7))\n",
    "    ax.set_facecolor('white')  # Setze den Hintergrund auf weiß (anstatt des Standard-Graus)\n",
    "    ax.grid(True, which='both', linestyle='-', linewidth=0.6, color='lightgray')  # Setze die Gitternetzlinien auf grau\n",
    "    for spine in ['top', 'bottom', 'left', 'right']:\n",
    "        ax.spines[spine].set_visible(True)  # Stelle sicher, dass die Spines sichtbar sind\n",
    "        ax.spines[spine].set_color('lightgray')  # Setze die Farbe der Spines auf Grau\n",
    "        ax.spines[spine].set_linewidth(0.6)\n",
    "\n",
    "    width = 0.35  # Breite der Balken\n",
    "    x = np.arange(len(emotions))\n",
    "\n",
    "    # Balkendiagramm erstellen\n",
    "    for j, perspective in enumerate(perspective_labels):\n",
    "        bottom = np.zeros(len(emotions))\n",
    "        for i, case in enumerate(cases):\n",
    "            values = data_pivoted[data_pivoted['Perspective'] == perspective][case].values\n",
    "            bars = ax.bar(x + (j - 0.5) * width, values, width, bottom=bottom,\n",
    "                          label=case_labels[case] if j == 0 else None, color=colors[i])\n",
    "            bottom += values\n",
    "\n",
    "            # Jeden Balken mit dem Wert annotieren\n",
    "            for bar in bars:\n",
    "                height = bar.get_height()\n",
    "                if height > 1:\n",
    "                    ax.text(bar.get_x() + bar.get_width() / 2, bar.get_y() + height * 0.9 / 2, str(int(height)), ha='center',\n",
    "                            va='center', fontsize=20, color='black', fontweight='bold')\n",
    "\n",
    "    # Beschriftungen und Titel\n",
    "    ax.set_ylabel('Number of Samples', fontsize=24, fontweight='bold')\n",
    "    # y-Achsen-Beschriftungen (Ticks) größer machen\n",
    "    ax.tick_params(axis='y', labelsize=18)  # Schriftgröße der y-Ticks anpassen\n",
    "\n",
    "    # x-Achsen-Beschriftungen anpassen\n",
    "    xticks = []\n",
    "    xticklabels = []\n",
    "    for i, emotion in enumerate(emotions):\n",
    "        xticks.append(x[i] - width / 2)\n",
    "        xticks.append(x[i] + width / 2)\n",
    "        xticklabels.append('c')\n",
    "        xticklabels.append('s')\n",
    "\n",
    "    ax.set_xticks(xticks)\n",
    "    ax.set_xticklabels(xticklabels, fontsize=22, fontweight='bold')\n",
    "\n",
    "    # Hinzufügen von Emotionen über den c/s Labels\n",
    "    for i, emotion in enumerate(emotions):\n",
    "        ax.text(x[i], -5, emotion, ha='center', va='top', fontsize=24, fontweight='bold')  # HIER ANGEPASST: Abstand zwischen Emotionen und c/s Labels verkleinert  # HIER ANGEPASST: Emotionen hinzugefügt\n",
    "\n",
    "    # x-Achsen-Limits anpassen, damit die Balken direkt an den Rändern des Diagramms beginnen und enden\n",
    "    ax.set_xlim(x[0] - width, x[-1] + width)\n",
    "\n",
    "    # x-Achsen-Beschriftungen\n",
    "    plt.xticks(rotation=0)\n",
    "    plt.tight_layout()\n",
    "    plt.savefig(f'prediction_comparison_central_and_side.png', dpi=400)\n",
    "    plt.show()\n",
    "\n",
    "# Beispielaufruf der Funktion\n",
    "plot_stacked_barchart(df=pd.read_csv('prediction_cases_data.csv'))\n"
   ],
   "id": "5890c693cbb61745",
   "outputs": [
    {
     "data": {
      "text/plain": [
       "<Figure size 1400x700 with 1 Axes>"
      ],
      "image/png": "[encoded data removed]"
     },
     "metadata": {},
     "output_type": "display_data"
    }
   ],
   "execution_count": 21
  },
  {
   "metadata": {
    "ExecuteTime": {
     "end_time": "2024-12-18T12:58:24.287768Z",
     "start_time": "2024-12-18T12:58:24.286078Z"
    }
   },
   "cell_type": "code",
   "source": "",
   "id": "7bc8820e305914c5",
   "outputs": [],
   "execution_count": null
  }
 ],
 "metadata": {
  "kernelspec": {
   "display_name": "Python 3",
   "language": "python",
   "name": "python3"
  },
  "language_info": {
   "codemirror_mode": {
    "name": "ipython",
    "version": 2
   },
   "file_extension": ".py",
   "mimetype": "text/x-python",
   "name": "python",
   "nbconvert_exporter": "python",
   "pygments_lexer": "ipython2",
   "version": "2.7.6"
  }
 },
 "nbformat": 4,
 "nbformat_minor": 5
}
