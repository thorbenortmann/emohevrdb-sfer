{
 "cells": [
  {
   "cell_type": "markdown",
   "source": [
    "# K Neighbors"
   ],
   "metadata": {
    "collapsed": false
   },
   "id": "66c9afb5bcd2b5ba"
  },
  {
   "cell_type": "markdown",
   "source": [
    "## Load Data"
   ],
   "metadata": {
    "collapsed": false
   },
   "id": "6392fe770569a2d7"
  },
  {
   "cell_type": "code",
   "source": [
    "from pathlib import Path\n",
    "\n",
    "import pandas as pd"
   ],
   "metadata": {
    "collapsed": false,
    "ExecuteTime": {
     "end_time": "2024-10-31T08:52:23.161044Z",
     "start_time": "2024-10-31T08:52:22.955593Z"
    }
   },
   "id": "b6406bbe130b2472",
   "outputs": [],
   "execution_count": 1
  },
  {
   "cell_type": "code",
   "source": [
    "from sklearn.utils import shuffle\n",
    "\n",
    "base_directory = Path(r'/media/thor/PortableSSD/mydata/emojihero/dataset/dataset-face-expression-csv')\n",
    "train_df = pd.read_csv(base_directory / 'training_set.csv')\n",
    "val_df = pd.read_csv(base_directory / 'validation_set.csv')\n",
    "\n",
    "SEED = 42\n",
    "train_df = shuffle(train_df, random_state=SEED)\n",
    "val_df = shuffle(val_df, random_state=SEED)\n",
    "train_df.head()"
   ],
   "metadata": {
    "collapsed": false,
    "ExecuteTime": {
     "end_time": "2024-10-31T08:52:24.396168Z",
     "start_time": "2024-10-31T08:52:23.171392Z"
    }
   },
   "id": "bef367bdf4c7f38a",
   "outputs": [
    {
     "data": {
      "text/plain": [
       "         timestamp  participant_id     FAU_0     FAU_1         FAU_2  \\\n",
       "760  1700488114760               3  0.107896  0.194889  1.401298e-45   \n",
       "884  1700748819058              16  0.834857  0.764817  1.026462e-20   \n",
       "938  1701357565849              34  0.131417  0.130338  1.680341e-04   \n",
       "901  1700827807807              21  0.615232  0.514535  9.174733e-03   \n",
       "622  1700748690839              16  0.000001  0.000020  1.059425e-02   \n",
       "\n",
       "            FAU_3     FAU_4     FAU_5         FAU_6         FAU_7  ...  \\\n",
       "760  1.320220e-22  0.024912  0.024321  1.401298e-45  1.401298e-45  ...   \n",
       "884  2.168397e-11  0.416924  0.377339  2.632983e-03  1.401298e-45  ...   \n",
       "938  1.439196e-04  0.252091  0.225658  0.000000e+00  0.000000e+00  ...   \n",
       "901  9.058302e-03  0.389754  0.374438  0.000000e+00  0.000000e+00  ...   \n",
       "622  1.085821e-02  0.010866  0.000002  1.401298e-45  0.000000e+00  ...   \n",
       "\n",
       "           FAU_54        FAU_55        FAU_56        FAU_57        FAU_58  \\\n",
       "760  9.209801e-21  2.610711e-37  1.000182e-13  5.099260e-05  1.002689e-02   \n",
       "884  2.479763e-03  2.194700e-01  2.563659e-01  1.888640e-06  5.865657e-03   \n",
       "938  1.401298e-45  1.083556e-02  1.089628e-02  2.802597e-45  1.980103e-34   \n",
       "901  2.141047e-02  9.831126e-01  9.945938e-01  8.538091e-03  4.727362e-02   \n",
       "622  7.473406e-12  5.651674e-10  1.086265e-02  1.238884e-02  9.620150e-03   \n",
       "\n",
       "           FAU_59        FAU_60        FAU_61        FAU_62  Label  \n",
       "760  4.672041e-07  2.050273e-07  5.688704e-02  8.172417e-02      4  \n",
       "884  8.533958e-10  2.958799e-04  1.071407e-02  2.710130e-02      5  \n",
       "938  1.401298e-45  1.401298e-45  2.718902e-01  2.924575e-01      5  \n",
       "901  9.986752e-05  4.469715e-06  3.522862e-01  4.055933e-01      5  \n",
       "622  1.538864e-01  1.280742e-01  1.139681e-12  6.957371e-13      3  \n",
       "\n",
       "[5 rows x 66 columns]"
      ],
      "text/html": [
       "<div>\n",
       "<style scoped>\n",
       "    .dataframe tbody tr th:only-of-type {\n",
       "        vertical-align: middle;\n",
       "    }\n",
       "\n",
       "    .dataframe tbody tr th {\n",
       "        vertical-align: top;\n",
       "    }\n",
       "\n",
       "    .dataframe thead th {\n",
       "        text-align: right;\n",
       "    }\n",
       "</style>\n",
       "<table border=\"1\" class=\"dataframe\">\n",
       "  <thead>\n",
       "    <tr style=\"text-align: right;\">\n",
       "      <th></th>\n",
       "      <th>timestamp</th>\n",
       "      <th>participant_id</th>\n",
       "      <th>FAU_0</th>\n",
       "      <th>FAU_1</th>\n",
       "      <th>FAU_2</th>\n",
       "      <th>FAU_3</th>\n",
       "      <th>FAU_4</th>\n",
       "      <th>FAU_5</th>\n",
       "      <th>FAU_6</th>\n",
       "      <th>FAU_7</th>\n",
       "      <th>...</th>\n",
       "      <th>FAU_54</th>\n",
       "      <th>FAU_55</th>\n",
       "      <th>FAU_56</th>\n",
       "      <th>FAU_57</th>\n",
       "      <th>FAU_58</th>\n",
       "      <th>FAU_59</th>\n",
       "      <th>FAU_60</th>\n",
       "      <th>FAU_61</th>\n",
       "      <th>FAU_62</th>\n",
       "      <th>Label</th>\n",
       "    </tr>\n",
       "  </thead>\n",
       "  <tbody>\n",
       "    <tr>\n",
       "      <th>760</th>\n",
       "      <td>1700488114760</td>\n",
       "      <td>3</td>\n",
       "      <td>0.107896</td>\n",
       "      <td>0.194889</td>\n",
       "      <td>1.401298e-45</td>\n",
       "      <td>1.320220e-22</td>\n",
       "      <td>0.024912</td>\n",
       "      <td>0.024321</td>\n",
       "      <td>1.401298e-45</td>\n",
       "      <td>1.401298e-45</td>\n",
       "      <td>...</td>\n",
       "      <td>9.209801e-21</td>\n",
       "      <td>2.610711e-37</td>\n",
       "      <td>1.000182e-13</td>\n",
       "      <td>5.099260e-05</td>\n",
       "      <td>1.002689e-02</td>\n",
       "      <td>4.672041e-07</td>\n",
       "      <td>2.050273e-07</td>\n",
       "      <td>5.688704e-02</td>\n",
       "      <td>8.172417e-02</td>\n",
       "      <td>4</td>\n",
       "    </tr>\n",
       "    <tr>\n",
       "      <th>884</th>\n",
       "      <td>1700748819058</td>\n",
       "      <td>16</td>\n",
       "      <td>0.834857</td>\n",
       "      <td>0.764817</td>\n",
       "      <td>1.026462e-20</td>\n",
       "      <td>2.168397e-11</td>\n",
       "      <td>0.416924</td>\n",
       "      <td>0.377339</td>\n",
       "      <td>2.632983e-03</td>\n",
       "      <td>1.401298e-45</td>\n",
       "      <td>...</td>\n",
       "      <td>2.479763e-03</td>\n",
       "      <td>2.194700e-01</td>\n",
       "      <td>2.563659e-01</td>\n",
       "      <td>1.888640e-06</td>\n",
       "      <td>5.865657e-03</td>\n",
       "      <td>8.533958e-10</td>\n",
       "      <td>2.958799e-04</td>\n",
       "      <td>1.071407e-02</td>\n",
       "      <td>2.710130e-02</td>\n",
       "      <td>5</td>\n",
       "    </tr>\n",
       "    <tr>\n",
       "      <th>938</th>\n",
       "      <td>1701357565849</td>\n",
       "      <td>34</td>\n",
       "      <td>0.131417</td>\n",
       "      <td>0.130338</td>\n",
       "      <td>1.680341e-04</td>\n",
       "      <td>1.439196e-04</td>\n",
       "      <td>0.252091</td>\n",
       "      <td>0.225658</td>\n",
       "      <td>0.000000e+00</td>\n",
       "      <td>0.000000e+00</td>\n",
       "      <td>...</td>\n",
       "      <td>1.401298e-45</td>\n",
       "      <td>1.083556e-02</td>\n",
       "      <td>1.089628e-02</td>\n",
       "      <td>2.802597e-45</td>\n",
       "      <td>1.980103e-34</td>\n",
       "      <td>1.401298e-45</td>\n",
       "      <td>1.401298e-45</td>\n",
       "      <td>2.718902e-01</td>\n",
       "      <td>2.924575e-01</td>\n",
       "      <td>5</td>\n",
       "    </tr>\n",
       "    <tr>\n",
       "      <th>901</th>\n",
       "      <td>1700827807807</td>\n",
       "      <td>21</td>\n",
       "      <td>0.615232</td>\n",
       "      <td>0.514535</td>\n",
       "      <td>9.174733e-03</td>\n",
       "      <td>9.058302e-03</td>\n",
       "      <td>0.389754</td>\n",
       "      <td>0.374438</td>\n",
       "      <td>0.000000e+00</td>\n",
       "      <td>0.000000e+00</td>\n",
       "      <td>...</td>\n",
       "      <td>2.141047e-02</td>\n",
       "      <td>9.831126e-01</td>\n",
       "      <td>9.945938e-01</td>\n",
       "      <td>8.538091e-03</td>\n",
       "      <td>4.727362e-02</td>\n",
       "      <td>9.986752e-05</td>\n",
       "      <td>4.469715e-06</td>\n",
       "      <td>3.522862e-01</td>\n",
       "      <td>4.055933e-01</td>\n",
       "      <td>5</td>\n",
       "    </tr>\n",
       "    <tr>\n",
       "      <th>622</th>\n",
       "      <td>1700748690839</td>\n",
       "      <td>16</td>\n",
       "      <td>0.000001</td>\n",
       "      <td>0.000020</td>\n",
       "      <td>1.059425e-02</td>\n",
       "      <td>1.085821e-02</td>\n",
       "      <td>0.010866</td>\n",
       "      <td>0.000002</td>\n",
       "      <td>1.401298e-45</td>\n",
       "      <td>0.000000e+00</td>\n",
       "      <td>...</td>\n",
       "      <td>7.473406e-12</td>\n",
       "      <td>5.651674e-10</td>\n",
       "      <td>1.086265e-02</td>\n",
       "      <td>1.238884e-02</td>\n",
       "      <td>9.620150e-03</td>\n",
       "      <td>1.538864e-01</td>\n",
       "      <td>1.280742e-01</td>\n",
       "      <td>1.139681e-12</td>\n",
       "      <td>6.957371e-13</td>\n",
       "      <td>3</td>\n",
       "    </tr>\n",
       "  </tbody>\n",
       "</table>\n",
       "<p>5 rows × 66 columns</p>\n",
       "</div>"
      ]
     },
     "execution_count": 2,
     "metadata": {},
     "output_type": "execute_result"
    }
   ],
   "execution_count": 2
  },
  {
   "cell_type": "code",
   "source": [
    "import numpy as np\n",
    "from sklearn.model_selection import PredefinedSplit\n",
    "\n",
    "X_train = train_df.drop(['Label', 'timestamp', 'participant_id'], axis=1)\n",
    "y_train = train_df['Label']\n",
    "X_val = val_df.drop(['Label', 'timestamp', 'participant_id'], axis=1)\n",
    "y_val = val_df['Label']\n",
    "X_combined = pd.concat([X_train, X_val])\n",
    "y_combined = pd.concat([y_train, y_val])\n",
    "\n",
    "train_indices = -1 * np.ones(len(train_df), dtype=int)\n",
    "val_indices = np.zeros(len(val_df), dtype=int)\n",
    "split_index = np.concatenate((train_indices, val_indices))\n",
    "ps = PredefinedSplit(split_index)"
   ],
   "metadata": {
    "collapsed": false,
    "ExecuteTime": {
     "end_time": "2024-10-31T08:52:35.872457Z",
     "start_time": "2024-10-31T08:52:35.852440Z"
    }
   },
   "id": "df743ff65a8aeef8",
   "outputs": [],
   "execution_count": 3
  },
  {
   "cell_type": "markdown",
   "source": [
    "## Find optimal Hyperparameters via GridSearch"
   ],
   "metadata": {
    "collapsed": false
   },
   "id": "1c39883843a28ca5"
  },
  {
   "cell_type": "code",
   "source": [
    "from sklearn.model_selection import GridSearchCV\n",
    "from sklearn.pipeline import Pipeline\n",
    "from sklearn.neighbors import KNeighborsClassifier\n",
    "from sklearn.preprocessing import StandardScaler\n",
    "\n",
    "pipeline = Pipeline([\n",
    "    ('scaler', StandardScaler()),\n",
    "    ('knn', KNeighborsClassifier())\n",
    "])\n",
    "\n",
    "param_grid = {\n",
    "    'knn__n_neighbors': [1, 3, 5, 7, 9, 11],\n",
    "    'knn__weights': ['uniform', 'distance'],\n",
    "    'knn__algorithm': ['ball_tree', 'kd_tree', 'brute'],\n",
    "    'knn__metric': ['minkowski', 'euclidean', 'l1', 'l2', 'manhattan']\n",
    "}\n",
    "\n",
    "grid_search = GridSearchCV(pipeline, param_grid, cv=ps, refit=False, scoring='accuracy', n_jobs=-1, verbose=2)"
   ],
   "metadata": {
    "collapsed": false,
    "ExecuteTime": {
     "end_time": "2024-10-31T08:54:27.452743Z",
     "start_time": "2024-10-31T08:54:27.430602Z"
    }
   },
   "id": "37d8c0ae6e2d5a5a",
   "outputs": [],
   "execution_count": 4
  },
  {
   "cell_type": "code",
   "source": [
    "import time\n",
    "\n",
    "start_time = time.time()\n",
    "grid_search.fit(X_combined, y_combined)\n",
    "end_time = time.time()\n",
    "\n",
    "print(f'GridSearch took: {end_time - start_time:.2f} seconds.')"
   ],
   "metadata": {
    "collapsed": false,
    "ExecuteTime": {
     "end_time": "2024-10-31T08:54:36.786076Z",
     "start_time": "2024-10-31T08:54:35.452532Z"
    }
   },
   "id": "71c373769708ba38",
   "outputs": [
    {
     "name": "stdout",
     "output_type": "stream",
     "text": [
      "Fitting 1 folds for each of 180 candidates, totalling 180 fits\n",
      "GridSearch took: 1.33 seconds.\n"
     ]
    }
   ],
   "execution_count": 5
  },
  {
   "cell_type": "code",
   "source": [
    "best_parameters = grid_search.best_params_\n",
    "print('Best Parameters:', best_parameters)\n",
    "print('Best Cross-Validation-Accuracy:', grid_search.best_score_)"
   ],
   "metadata": {
    "collapsed": false,
    "ExecuteTime": {
     "end_time": "2024-10-31T08:57:26.355622Z",
     "start_time": "2024-10-31T08:57:26.353678Z"
    }
   },
   "id": "af79c519e60f000b",
   "outputs": [
    {
     "name": "stdout",
     "output_type": "stream",
     "text": [
      "Best Parameters: {'knn__algorithm': 'ball_tree', 'knn__metric': 'minkowski', 'knn__n_neighbors': 5, 'knn__weights': 'distance'}\n",
      "Best Cross-Validation-Accuracy: 0.7324675324675325\n"
     ]
    }
   ],
   "execution_count": 7
  },
  {
   "cell_type": "markdown",
   "source": [
    "## Evaluation"
   ],
   "metadata": {
    "collapsed": false
   },
   "id": "9e0a0593d2ee785a"
  },
  {
   "metadata": {
    "ExecuteTime": {
     "end_time": "2024-10-31T09:01:10.855004Z",
     "start_time": "2024-10-31T09:01:10.849645Z"
    }
   },
   "cell_type": "code",
   "source": [
    "best_model = Pipeline([\n",
    "    ('scaler', StandardScaler()),\n",
    "    ('knn', KNeighborsClassifier(\n",
    "        algorithm=best_parameters['knn__algorithm'],\n",
    "        metric=best_parameters['knn__metric'],\n",
    "        n_neighbors=best_parameters['knn__n_neighbors'],\n",
    "        weights=best_parameters['knn__weights']\n",
    "    ))\n",
    "])\n",
    "\n",
    "best_model.fit(X_train, y_train)\n",
    "print('Trained model on training set with optimal hyperparameters.')"
   ],
   "id": "e19a82dc652638c1",
   "outputs": [
    {
     "name": "stdout",
     "output_type": "stream",
     "text": [
      "Trained model on training set with optimal hyperparameters.\n"
     ]
    }
   ],
   "execution_count": 12
  },
  {
   "metadata": {
    "collapsed": false,
    "ExecuteTime": {
     "end_time": "2024-10-31T09:01:31.421953Z",
     "start_time": "2024-10-31T09:01:31.409282Z"
    }
   },
   "cell_type": "code",
   "source": [
    "from sklearn.metrics import accuracy_score\n",
    "\n",
    "y_val_pred = best_model.predict(X_val)\n",
    "val_accuracy = accuracy_score(y_val, y_val_pred)\n",
    "print(f\"Validation Accuracy with optimized Hyperparameters: {val_accuracy:.4f}\")"
   ],
   "id": "98b3efda9dca470",
   "outputs": [
    {
     "name": "stdout",
     "output_type": "stream",
     "text": [
      "Validation Accuracy with optimized Hyperparameters: 0.7325\n"
     ]
    }
   ],
   "execution_count": 14
  },
  {
   "cell_type": "code",
   "source": [
    "test_df = pd.read_csv(base_directory / 'test_set.csv')\n",
    "X_test, y_test = test_df.drop(['Label', 'timestamp', 'participant_id'], axis=1), test_df['Label']"
   ],
   "metadata": {
    "collapsed": false,
    "ExecuteTime": {
     "end_time": "2024-10-31T09:01:51.478270Z",
     "start_time": "2024-10-31T09:01:50.602048Z"
    }
   },
   "id": "a2e7cd402ec7c8cf",
   "outputs": [],
   "execution_count": 15
  },
  {
   "cell_type": "code",
   "source": [
    "y_test_pred = best_model.predict(X_test)\n",
    "test_accuracy = accuracy_score(y_test, y_test_pred)\n",
    "print(f\"Test Accuracy with optimized Hyperparameters: {test_accuracy:.4f}\")"
   ],
   "metadata": {
    "collapsed": false,
    "ExecuteTime": {
     "end_time": "2024-10-31T09:01:59.702393Z",
     "start_time": "2024-10-31T09:01:59.689855Z"
    }
   },
   "id": "de1cc84eae370de1",
   "outputs": [
    {
     "name": "stdout",
     "output_type": "stream",
     "text": [
      "Test Accuracy with optimized Hyperparameters: 0.6243\n"
     ]
    }
   ],
   "execution_count": 17
  },
  {
   "cell_type": "code",
   "source": [
    "from sklearn.metrics import classification_report\n",
    "\n",
    "emotion_to_id = {'Neutral': 0, 'Happiness': 1, 'Sadness': 2, 'Surprise': 3, 'Fear': 4, 'Disgust': 5, 'Anger': 6}\n",
    "\n",
    "print(\"Classification Report (Test Set):\")\n",
    "print(classification_report(y_test, y_test_pred, target_names=emotion_to_id.keys(), digits=4))"
   ],
   "metadata": {
    "collapsed": false,
    "ExecuteTime": {
     "end_time": "2024-10-31T09:02:05.209690Z",
     "start_time": "2024-10-31T09:02:05.204157Z"
    }
   },
   "id": "d7721d99397e73d9",
   "outputs": [
    {
     "name": "stdout",
     "output_type": "stream",
     "text": [
      "Classification Report (Test Set):\n",
      "              precision    recall  f1-score   support\n",
      "\n",
      "     Neutral     0.5949    0.8704    0.7068        54\n",
      "   Happiness     0.7027    0.9630    0.8125        54\n",
      "     Sadness     0.8333    0.7407    0.7843        54\n",
      "    Surprise     0.6143    0.7963    0.6935        54\n",
      "        Fear     0.4884    0.3889    0.4330        54\n",
      "     Disgust     0.4400    0.4074    0.4231        54\n",
      "       Anger     0.7857    0.2037    0.3235        54\n",
      "\n",
      "    accuracy                         0.6243       378\n",
      "   macro avg     0.6370    0.6243    0.5967       378\n",
      "weighted avg     0.6370    0.6243    0.5967       378\n",
      "\n"
     ]
    }
   ],
   "execution_count": 18
  },
  {
   "cell_type": "code",
   "source": [
    "from sklearn.utils import compute_class_weight\n",
    "\n",
    "class_weights = compute_class_weight(class_weight='balanced', classes=np.unique(y_train), y=y_train)\n",
    "class_weight_dict = dict(zip(np.unique(y_train), class_weights))"
   ],
   "metadata": {
    "collapsed": false,
    "ExecuteTime": {
     "end_time": "2024-10-31T09:02:17.096080Z",
     "start_time": "2024-10-31T09:02:17.092815Z"
    }
   },
   "id": "1820d635ac82fac",
   "outputs": [],
   "execution_count": 19
  },
  {
   "cell_type": "code",
   "source": [
    "def weighted_predict(model, X, class_weight_dict):\n",
    "    pred_proba = model.predict_proba(X)\n",
    "    \n",
    "    weighted_pred_proba = np.zeros_like(pred_proba)\n",
    "    for cls, weight in class_weight_dict.items():\n",
    "        weighted_pred_proba[:, cls] = pred_proba[:, cls] * weight\n",
    "    \n",
    "    weighted_pred = np.argmax(weighted_pred_proba, axis=1)\n",
    "    return weighted_pred"
   ],
   "metadata": {
    "collapsed": false,
    "ExecuteTime": {
     "end_time": "2024-10-31T09:02:20.054292Z",
     "start_time": "2024-10-31T09:02:20.051714Z"
    }
   },
   "id": "fd8352de6b4c59ea",
   "outputs": [],
   "execution_count": 20
  },
  {
   "cell_type": "code",
   "source": [
    "weighted_predictions = weighted_predict(best_model, X_test, class_weight_dict)\n",
    "test_accuracy2 = accuracy_score(y_test, weighted_predictions)\n",
    "print(f\"Test Accuracy with optimized Hyperparameters and weighted predictions: {test_accuracy2:.2f}\")"
   ],
   "metadata": {
    "collapsed": false,
    "ExecuteTime": {
     "end_time": "2024-10-31T09:02:26.270902Z",
     "start_time": "2024-10-31T09:02:26.258095Z"
    }
   },
   "id": "c364ee68296a79f3",
   "outputs": [
    {
     "name": "stdout",
     "output_type": "stream",
     "text": [
      "Test Accuracy with optimized Hyperparameters and weighted predictions: 0.63\n"
     ]
    }
   ],
   "execution_count": 21
  },
  {
   "cell_type": "code",
   "source": [
    "print(\"Classification Report (Test Set):\")\n",
    "print(classification_report(y_test, weighted_predictions, target_names=emotion_to_id.keys(), digits=4))"
   ],
   "metadata": {
    "collapsed": false,
    "ExecuteTime": {
     "end_time": "2024-10-31T09:02:28.737789Z",
     "start_time": "2024-10-31T09:02:28.732773Z"
    }
   },
   "id": "f932464a2ceabaf",
   "outputs": [
    {
     "name": "stdout",
     "output_type": "stream",
     "text": [
      "Classification Report (Test Set):\n",
      "              precision    recall  f1-score   support\n",
      "\n",
      "     Neutral     0.6111    0.8148    0.6984        54\n",
      "   Happiness     0.7761    0.9630    0.8595        54\n",
      "     Sadness     0.8182    0.6667    0.7347        54\n",
      "    Surprise     0.7292    0.6481    0.6863        54\n",
      "        Fear     0.4507    0.5926    0.5120        54\n",
      "     Disgust     0.4694    0.4259    0.4466        54\n",
      "       Anger     0.5556    0.2778    0.3704        54\n",
      "\n",
      "    accuracy                         0.6270       378\n",
      "   macro avg     0.6300    0.6270    0.6154       378\n",
      "weighted avg     0.6300    0.6270    0.6154       378\n",
      "\n"
     ]
    }
   ],
   "execution_count": 22
  },
  {
   "metadata": {},
   "cell_type": "code",
   "outputs": [],
   "execution_count": null,
   "source": "",
   "id": "9c1b20ebc723b9ba"
  }
 ],
 "metadata": {
  "kernelspec": {
   "display_name": "Python 3",
   "language": "python",
   "name": "python3"
  },
  "language_info": {
   "codemirror_mode": {
    "name": "ipython",
    "version": 2
   },
   "file_extension": ".py",
   "mimetype": "text/x-python",
   "name": "python",
   "nbconvert_exporter": "python",
   "pygments_lexer": "ipython2",
   "version": "2.7.6"
  }
 },
 "nbformat": 4,
 "nbformat_minor": 5
}
