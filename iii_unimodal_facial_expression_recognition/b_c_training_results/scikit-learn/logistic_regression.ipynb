{
 "cells": [
  {
   "cell_type": "markdown",
   "source": [
    "# Logistic Regression"
   ],
   "metadata": {
    "collapsed": false
   },
   "id": "66c9afb5bcd2b5ba"
  },
  {
   "cell_type": "markdown",
   "source": [
    "## Load Data"
   ],
   "metadata": {
    "collapsed": false
   },
   "id": "6392fe770569a2d7"
  },
  {
   "cell_type": "code",
   "source": [
    "from pathlib import Path\n",
    "import numpy as np\n",
    "import random\n",
    "import pandas as pd"
   ],
   "metadata": {
    "collapsed": false,
    "ExecuteTime": {
     "end_time": "2024-10-31T16:26:49.133305Z",
     "start_time": "2024-10-31T16:26:49.131540Z"
    }
   },
   "id": "b6406bbe130b2472",
   "outputs": [],
   "execution_count": 1
  },
  {
   "cell_type": "code",
   "source": [
    "from sklearn.utils import shuffle\n",
    "\n",
    "base_directory = Path(r'/media/thor/PortableSSD/mydata/emojihero/dataset/dataset-face-expression-csv')\n",
    "train_df = pd.read_csv(base_directory / 'training_set.csv')\n",
    "val_df = pd.read_csv(base_directory / 'validation_set.csv')\n",
    "\n",
    "SEED = 42\n",
    "random.seed(SEED)\n",
    "np.random.seed(SEED)\n",
    "\n",
    "train_df = shuffle(train_df, random_state=SEED)\n",
    "val_df = shuffle(val_df, random_state=SEED)\n",
    "\n",
    "print(f'Number of Training Samples: {len(train_df)}')\n",
    "print(train_df['Label'].value_counts())\n",
    "print(f'Number of Validation Samples: {len(val_df)}')\n",
    "print(val_df['Label'].value_counts())\n",
    "\n",
    "train_df.head()"
   ],
   "metadata": {
    "collapsed": false,
    "ExecuteTime": {
     "end_time": "2024-10-31T16:26:49.184243Z",
     "start_time": "2024-10-31T16:26:49.139834Z"
    }
   },
   "id": "bef367bdf4c7f38a",
   "outputs": [
    {
     "name": "stdout",
     "output_type": "stream",
     "text": [
      "Number of Training Samples: 964\n",
      "Label\n",
      "0    197\n",
      "1    191\n",
      "3    172\n",
      "2    131\n",
      "4    105\n",
      "5    102\n",
      "6     66\n",
      "Name: count, dtype: int64\n",
      "Number of Validation Samples: 385\n",
      "Label\n",
      "5    55\n",
      "4    55\n",
      "1    55\n",
      "2    55\n",
      "6    55\n",
      "0    55\n",
      "3    55\n",
      "Name: count, dtype: int64\n"
     ]
    },
    {
     "data": {
      "text/plain": [
       "         timestamp  participant_id     FAU_0     FAU_1         FAU_2  \\\n",
       "760  1700488114760               3  0.107896  0.194889  1.401298e-45   \n",
       "884  1700748819058              16  0.834857  0.764817  1.026462e-20   \n",
       "938  1701357565849              34  0.131417  0.130338  1.680341e-04   \n",
       "901  1700827807807              21  0.615232  0.514535  9.174733e-03   \n",
       "622  1700748690839              16  0.000001  0.000020  1.059425e-02   \n",
       "\n",
       "            FAU_3     FAU_4     FAU_5         FAU_6         FAU_7  ...  \\\n",
       "760  1.320220e-22  0.024912  0.024321  1.401298e-45  1.401298e-45  ...   \n",
       "884  2.168397e-11  0.416924  0.377339  2.632983e-03  1.401298e-45  ...   \n",
       "938  1.439196e-04  0.252091  0.225658  0.000000e+00  0.000000e+00  ...   \n",
       "901  9.058302e-03  0.389754  0.374438  0.000000e+00  0.000000e+00  ...   \n",
       "622  1.085821e-02  0.010866  0.000002  1.401298e-45  0.000000e+00  ...   \n",
       "\n",
       "           FAU_54        FAU_55        FAU_56        FAU_57        FAU_58  \\\n",
       "760  9.209801e-21  2.610711e-37  1.000182e-13  5.099260e-05  1.002689e-02   \n",
       "884  2.479763e-03  2.194700e-01  2.563659e-01  1.888640e-06  5.865657e-03   \n",
       "938  1.401298e-45  1.083556e-02  1.089628e-02  2.802597e-45  1.980103e-34   \n",
       "901  2.141047e-02  9.831126e-01  9.945938e-01  8.538091e-03  4.727362e-02   \n",
       "622  7.473406e-12  5.651674e-10  1.086265e-02  1.238884e-02  9.620150e-03   \n",
       "\n",
       "           FAU_59        FAU_60        FAU_61        FAU_62  Label  \n",
       "760  4.672041e-07  2.050273e-07  5.688704e-02  8.172417e-02      4  \n",
       "884  8.533958e-10  2.958799e-04  1.071407e-02  2.710130e-02      5  \n",
       "938  1.401298e-45  1.401298e-45  2.718902e-01  2.924575e-01      5  \n",
       "901  9.986752e-05  4.469715e-06  3.522862e-01  4.055933e-01      5  \n",
       "622  1.538864e-01  1.280742e-01  1.139681e-12  6.957371e-13      3  \n",
       "\n",
       "[5 rows x 66 columns]"
      ],
      "text/html": [
       "<div>\n",
       "<style scoped>\n",
       "    .dataframe tbody tr th:only-of-type {\n",
       "        vertical-align: middle;\n",
       "    }\n",
       "\n",
       "    .dataframe tbody tr th {\n",
       "        vertical-align: top;\n",
       "    }\n",
       "\n",
       "    .dataframe thead th {\n",
       "        text-align: right;\n",
       "    }\n",
       "</style>\n",
       "<table border=\"1\" class=\"dataframe\">\n",
       "  <thead>\n",
       "    <tr style=\"text-align: right;\">\n",
       "      <th></th>\n",
       "      <th>timestamp</th>\n",
       "      <th>participant_id</th>\n",
       "      <th>FAU_0</th>\n",
       "      <th>FAU_1</th>\n",
       "      <th>FAU_2</th>\n",
       "      <th>FAU_3</th>\n",
       "      <th>FAU_4</th>\n",
       "      <th>FAU_5</th>\n",
       "      <th>FAU_6</th>\n",
       "      <th>FAU_7</th>\n",
       "      <th>...</th>\n",
       "      <th>FAU_54</th>\n",
       "      <th>FAU_55</th>\n",
       "      <th>FAU_56</th>\n",
       "      <th>FAU_57</th>\n",
       "      <th>FAU_58</th>\n",
       "      <th>FAU_59</th>\n",
       "      <th>FAU_60</th>\n",
       "      <th>FAU_61</th>\n",
       "      <th>FAU_62</th>\n",
       "      <th>Label</th>\n",
       "    </tr>\n",
       "  </thead>\n",
       "  <tbody>\n",
       "    <tr>\n",
       "      <th>760</th>\n",
       "      <td>1700488114760</td>\n",
       "      <td>3</td>\n",
       "      <td>0.107896</td>\n",
       "      <td>0.194889</td>\n",
       "      <td>1.401298e-45</td>\n",
       "      <td>1.320220e-22</td>\n",
       "      <td>0.024912</td>\n",
       "      <td>0.024321</td>\n",
       "      <td>1.401298e-45</td>\n",
       "      <td>1.401298e-45</td>\n",
       "      <td>...</td>\n",
       "      <td>9.209801e-21</td>\n",
       "      <td>2.610711e-37</td>\n",
       "      <td>1.000182e-13</td>\n",
       "      <td>5.099260e-05</td>\n",
       "      <td>1.002689e-02</td>\n",
       "      <td>4.672041e-07</td>\n",
       "      <td>2.050273e-07</td>\n",
       "      <td>5.688704e-02</td>\n",
       "      <td>8.172417e-02</td>\n",
       "      <td>4</td>\n",
       "    </tr>\n",
       "    <tr>\n",
       "      <th>884</th>\n",
       "      <td>1700748819058</td>\n",
       "      <td>16</td>\n",
       "      <td>0.834857</td>\n",
       "      <td>0.764817</td>\n",
       "      <td>1.026462e-20</td>\n",
       "      <td>2.168397e-11</td>\n",
       "      <td>0.416924</td>\n",
       "      <td>0.377339</td>\n",
       "      <td>2.632983e-03</td>\n",
       "      <td>1.401298e-45</td>\n",
       "      <td>...</td>\n",
       "      <td>2.479763e-03</td>\n",
       "      <td>2.194700e-01</td>\n",
       "      <td>2.563659e-01</td>\n",
       "      <td>1.888640e-06</td>\n",
       "      <td>5.865657e-03</td>\n",
       "      <td>8.533958e-10</td>\n",
       "      <td>2.958799e-04</td>\n",
       "      <td>1.071407e-02</td>\n",
       "      <td>2.710130e-02</td>\n",
       "      <td>5</td>\n",
       "    </tr>\n",
       "    <tr>\n",
       "      <th>938</th>\n",
       "      <td>1701357565849</td>\n",
       "      <td>34</td>\n",
       "      <td>0.131417</td>\n",
       "      <td>0.130338</td>\n",
       "      <td>1.680341e-04</td>\n",
       "      <td>1.439196e-04</td>\n",
       "      <td>0.252091</td>\n",
       "      <td>0.225658</td>\n",
       "      <td>0.000000e+00</td>\n",
       "      <td>0.000000e+00</td>\n",
       "      <td>...</td>\n",
       "      <td>1.401298e-45</td>\n",
       "      <td>1.083556e-02</td>\n",
       "      <td>1.089628e-02</td>\n",
       "      <td>2.802597e-45</td>\n",
       "      <td>1.980103e-34</td>\n",
       "      <td>1.401298e-45</td>\n",
       "      <td>1.401298e-45</td>\n",
       "      <td>2.718902e-01</td>\n",
       "      <td>2.924575e-01</td>\n",
       "      <td>5</td>\n",
       "    </tr>\n",
       "    <tr>\n",
       "      <th>901</th>\n",
       "      <td>1700827807807</td>\n",
       "      <td>21</td>\n",
       "      <td>0.615232</td>\n",
       "      <td>0.514535</td>\n",
       "      <td>9.174733e-03</td>\n",
       "      <td>9.058302e-03</td>\n",
       "      <td>0.389754</td>\n",
       "      <td>0.374438</td>\n",
       "      <td>0.000000e+00</td>\n",
       "      <td>0.000000e+00</td>\n",
       "      <td>...</td>\n",
       "      <td>2.141047e-02</td>\n",
       "      <td>9.831126e-01</td>\n",
       "      <td>9.945938e-01</td>\n",
       "      <td>8.538091e-03</td>\n",
       "      <td>4.727362e-02</td>\n",
       "      <td>9.986752e-05</td>\n",
       "      <td>4.469715e-06</td>\n",
       "      <td>3.522862e-01</td>\n",
       "      <td>4.055933e-01</td>\n",
       "      <td>5</td>\n",
       "    </tr>\n",
       "    <tr>\n",
       "      <th>622</th>\n",
       "      <td>1700748690839</td>\n",
       "      <td>16</td>\n",
       "      <td>0.000001</td>\n",
       "      <td>0.000020</td>\n",
       "      <td>1.059425e-02</td>\n",
       "      <td>1.085821e-02</td>\n",
       "      <td>0.010866</td>\n",
       "      <td>0.000002</td>\n",
       "      <td>1.401298e-45</td>\n",
       "      <td>0.000000e+00</td>\n",
       "      <td>...</td>\n",
       "      <td>7.473406e-12</td>\n",
       "      <td>5.651674e-10</td>\n",
       "      <td>1.086265e-02</td>\n",
       "      <td>1.238884e-02</td>\n",
       "      <td>9.620150e-03</td>\n",
       "      <td>1.538864e-01</td>\n",
       "      <td>1.280742e-01</td>\n",
       "      <td>1.139681e-12</td>\n",
       "      <td>6.957371e-13</td>\n",
       "      <td>3</td>\n",
       "    </tr>\n",
       "  </tbody>\n",
       "</table>\n",
       "<p>5 rows × 66 columns</p>\n",
       "</div>"
      ]
     },
     "execution_count": 2,
     "metadata": {},
     "output_type": "execute_result"
    }
   ],
   "execution_count": 2
  },
  {
   "cell_type": "code",
   "source": [
    "import numpy as np\n",
    "from sklearn.model_selection import PredefinedSplit\n",
    "\n",
    "X_train = train_df.drop(['Label', 'timestamp', 'participant_id'], axis=1)\n",
    "y_train = train_df['Label']\n",
    "X_val = val_df.drop(['Label', 'timestamp', 'participant_id'], axis=1)\n",
    "y_val = val_df['Label']\n",
    "X_combined = pd.concat([X_train, X_val])\n",
    "y_combined = pd.concat([y_train, y_val])\n",
    "\n",
    "train_indices = -1 * np.ones(len(train_df), dtype=int)\n",
    "val_indices = np.zeros(len(val_df), dtype=int)\n",
    "split_index = np.concatenate((train_indices, val_indices))\n",
    "ps = PredefinedSplit(split_index)"
   ],
   "metadata": {
    "collapsed": false,
    "ExecuteTime": {
     "end_time": "2024-10-31T16:26:49.333048Z",
     "start_time": "2024-10-31T16:26:49.315145Z"
    }
   },
   "id": "df743ff65a8aeef8",
   "outputs": [],
   "execution_count": 3
  },
  {
   "cell_type": "markdown",
   "source": [
    "## Find optimal Hyperparameters via GridSearch"
   ],
   "metadata": {
    "collapsed": false
   },
   "id": "1c39883843a28ca5"
  },
  {
   "cell_type": "code",
   "source": [
    "from sklearn.model_selection import GridSearchCV\n",
    "from sklearn.pipeline import Pipeline\n",
    "from sklearn.linear_model import LogisticRegression\n",
    "from sklearn.preprocessing import StandardScaler\n",
    "\n",
    "pipeline = Pipeline([\n",
    "    ('scaler', StandardScaler()),\n",
    "    ('logreg', LogisticRegression(random_state=SEED))\n",
    "])\n",
    "\n",
    "param_grid = {\n",
    "    'logreg__C': [0.01, 0.1, 1, 10],\n",
    "    'logreg__max_iter': [10, 100, 1000, 10000],\n",
    "    'logreg__solver': ['lbfgs', 'liblinear', 'newton-cg', 'newton-cholesky', 'sag', 'saga'],\n",
    "    'logreg__class_weight': [None, 'balanced']\n",
    "}\n",
    "\n",
    "grid_search = GridSearchCV(pipeline, param_grid, cv=ps, refit=False, scoring='accuracy', n_jobs=-1, verbose=2)"
   ],
   "metadata": {
    "collapsed": false,
    "ExecuteTime": {
     "end_time": "2024-10-31T16:26:49.354564Z",
     "start_time": "2024-10-31T16:26:49.339631Z"
    }
   },
   "id": "37d8c0ae6e2d5a5a",
   "outputs": [],
   "execution_count": 4
  },
  {
   "cell_type": "code",
   "source": [
    "import time\n",
    "\n",
    "start_time = time.time()\n",
    "grid_search.fit(X_combined, y_combined)\n",
    "end_time = time.time()\n",
    "\n",
    "print(f'GridSearch took: {end_time - start_time:.2f} seconds.')"
   ],
   "metadata": {
    "collapsed": false,
    "ExecuteTime": {
     "end_time": "2024-10-31T16:26:56.507832Z",
     "start_time": "2024-10-31T16:26:49.395032Z"
    }
   },
   "id": "71c373769708ba38",
   "outputs": [
    {
     "name": "stdout",
     "output_type": "stream",
     "text": [
      "Fitting 1 folds for each of 192 candidates, totalling 192 fits\n"
     ]
    },
    {
     "name": "stderr",
     "output_type": "stream",
     "text": [
      "/home/thor/Desktop/repos/emoji-hero-baseline/1_face_expressions/machine-learning/venv/lib/python3.11/site-packages/sklearn/linear_model/_sag.py:350: ConvergenceWarning: The max_iter was reached which means the coef_ did not converge\n",
      "  warnings.warn(\n",
      "/home/thor/Desktop/repos/emoji-hero-baseline/1_face_expressions/machine-learning/venv/lib/python3.11/site-packages/sklearn/linear_model/_logistic.py:469: ConvergenceWarning: lbfgs failed to converge (status=1):\n",
      "STOP: TOTAL NO. of ITERATIONS REACHED LIMIT.\n",
      "\n",
      "Increase the number of iterations (max_iter) or scale the data as shown in:\n",
      "    https://scikit-learn.org/stable/modules/preprocessing.html\n",
      "Please also refer to the documentation for alternative solver options:\n",
      "    https://scikit-learn.org/stable/modules/linear_model.html#logistic-regression\n",
      "  n_iter_i = _check_optimize_result(\n",
      "/home/thor/Desktop/repos/emoji-hero-baseline/1_face_expressions/machine-learning/venv/lib/python3.11/site-packages/sklearn/linear_model/_logistic.py:469: ConvergenceWarning: lbfgs failed to converge (status=1):\n",
      "STOP: TOTAL NO. of ITERATIONS REACHED LIMIT.\n",
      "\n",
      "Increase the number of iterations (max_iter) or scale the data as shown in:\n",
      "    https://scikit-learn.org/stable/modules/preprocessing.html\n",
      "Please also refer to the documentation for alternative solver options:\n",
      "    https://scikit-learn.org/stable/modules/linear_model.html#logistic-regression\n",
      "  n_iter_i = _check_optimize_result(\n",
      "/home/thor/Desktop/repos/emoji-hero-baseline/1_face_expressions/machine-learning/venv/lib/python3.11/site-packages/sklearn/linear_model/_sag.py:350: ConvergenceWarning: The max_iter was reached which means the coef_ did not converge\n",
      "  warnings.warn(\n",
      "/home/thor/Desktop/repos/emoji-hero-baseline/1_face_expressions/machine-learning/venv/lib/python3.11/site-packages/sklearn/linear_model/_sag.py:350: ConvergenceWarning: The max_iter was reached which means the coef_ did not converge\n",
      "  warnings.warn(\n",
      "/home/thor/Desktop/repos/emoji-hero-baseline/1_face_expressions/machine-learning/venv/lib/python3.11/site-packages/sklearn/linear_model/_sag.py:350: ConvergenceWarning: The max_iter was reached which means the coef_ did not converge\n",
      "  warnings.warn(\n",
      "/home/thor/Desktop/repos/emoji-hero-baseline/1_face_expressions/machine-learning/venv/lib/python3.11/site-packages/sklearn/linear_model/_logistic.py:469: ConvergenceWarning: lbfgs failed to converge (status=1):\n",
      "STOP: TOTAL NO. of ITERATIONS REACHED LIMIT.\n",
      "\n",
      "Increase the number of iterations (max_iter) or scale the data as shown in:\n",
      "    https://scikit-learn.org/stable/modules/preprocessing.html\n",
      "Please also refer to the documentation for alternative solver options:\n",
      "    https://scikit-learn.org/stable/modules/linear_model.html#logistic-regression\n",
      "  n_iter_i = _check_optimize_result(\n",
      "/home/thor/Desktop/repos/emoji-hero-baseline/1_face_expressions/machine-learning/venv/lib/python3.11/site-packages/sklearn/linear_model/_sag.py:350: ConvergenceWarning: The max_iter was reached which means the coef_ did not converge\n",
      "  warnings.warn(\n",
      "/home/thor/Desktop/repos/emoji-hero-baseline/1_face_expressions/machine-learning/venv/lib/python3.11/site-packages/sklearn/linear_model/_sag.py:350: ConvergenceWarning: The max_iter was reached which means the coef_ did not converge\n",
      "  warnings.warn(\n",
      "/home/thor/Desktop/repos/emoji-hero-baseline/1_face_expressions/machine-learning/venv/lib/python3.11/site-packages/sklearn/linear_model/_logistic.py:469: ConvergenceWarning: lbfgs failed to converge (status=1):\n",
      "STOP: TOTAL NO. of ITERATIONS REACHED LIMIT.\n",
      "\n",
      "Increase the number of iterations (max_iter) or scale the data as shown in:\n",
      "    https://scikit-learn.org/stable/modules/preprocessing.html\n",
      "Please also refer to the documentation for alternative solver options:\n",
      "    https://scikit-learn.org/stable/modules/linear_model.html#logistic-regression\n",
      "  n_iter_i = _check_optimize_result(\n",
      "/home/thor/Desktop/repos/emoji-hero-baseline/1_face_expressions/machine-learning/venv/lib/python3.11/site-packages/sklearn/linear_model/_sag.py:350: ConvergenceWarning: The max_iter was reached which means the coef_ did not converge\n",
      "  warnings.warn(\n",
      "/home/thor/Desktop/repos/emoji-hero-baseline/1_face_expressions/machine-learning/venv/lib/python3.11/site-packages/sklearn/linear_model/_sag.py:350: ConvergenceWarning: The max_iter was reached which means the coef_ did not converge\n",
      "  warnings.warn(\n",
      "/home/thor/Desktop/repos/emoji-hero-baseline/1_face_expressions/machine-learning/venv/lib/python3.11/site-packages/sklearn/linear_model/_logistic.py:469: ConvergenceWarning: lbfgs failed to converge (status=1):\n",
      "STOP: TOTAL NO. of ITERATIONS REACHED LIMIT.\n",
      "\n",
      "Increase the number of iterations (max_iter) or scale the data as shown in:\n",
      "    https://scikit-learn.org/stable/modules/preprocessing.html\n",
      "Please also refer to the documentation for alternative solver options:\n",
      "    https://scikit-learn.org/stable/modules/linear_model.html#logistic-regression\n",
      "  n_iter_i = _check_optimize_result(\n",
      "/home/thor/Desktop/repos/emoji-hero-baseline/1_face_expressions/machine-learning/venv/lib/python3.11/site-packages/sklearn/linear_model/_sag.py:350: ConvergenceWarning: The max_iter was reached which means the coef_ did not converge\n",
      "  warnings.warn(\n",
      "/home/thor/Desktop/repos/emoji-hero-baseline/1_face_expressions/machine-learning/venv/lib/python3.11/site-packages/sklearn/linear_model/_sag.py:350: ConvergenceWarning: The max_iter was reached which means the coef_ did not converge\n",
      "  warnings.warn(\n",
      "/home/thor/Desktop/repos/emoji-hero-baseline/1_face_expressions/machine-learning/venv/lib/python3.11/site-packages/sklearn/linear_model/_sag.py:350: ConvergenceWarning: The max_iter was reached which means the coef_ did not converge\n",
      "  warnings.warn(\n",
      "/home/thor/Desktop/repos/emoji-hero-baseline/1_face_expressions/machine-learning/venv/lib/python3.11/site-packages/sklearn/linear_model/_sag.py:350: ConvergenceWarning: The max_iter was reached which means the coef_ did not converge\n",
      "  warnings.warn(\n",
      "/home/thor/Desktop/repos/emoji-hero-baseline/1_face_expressions/machine-learning/venv/lib/python3.11/site-packages/sklearn/linear_model/_logistic.py:469: ConvergenceWarning: lbfgs failed to converge (status=1):\n",
      "STOP: TOTAL NO. of ITERATIONS REACHED LIMIT.\n",
      "\n",
      "Increase the number of iterations (max_iter) or scale the data as shown in:\n",
      "    https://scikit-learn.org/stable/modules/preprocessing.html\n",
      "Please also refer to the documentation for alternative solver options:\n",
      "    https://scikit-learn.org/stable/modules/linear_model.html#logistic-regression\n",
      "  n_iter_i = _check_optimize_result(\n",
      "/home/thor/Desktop/repos/emoji-hero-baseline/1_face_expressions/machine-learning/venv/lib/python3.11/site-packages/sklearn/linear_model/_sag.py:350: ConvergenceWarning: The max_iter was reached which means the coef_ did not converge\n",
      "  warnings.warn(\n",
      "/home/thor/Desktop/repos/emoji-hero-baseline/1_face_expressions/machine-learning/venv/lib/python3.11/site-packages/sklearn/linear_model/_sag.py:350: ConvergenceWarning: The max_iter was reached which means the coef_ did not converge\n",
      "  warnings.warn(\n",
      "/home/thor/Desktop/repos/emoji-hero-baseline/1_face_expressions/machine-learning/venv/lib/python3.11/site-packages/sklearn/linear_model/_sag.py:350: ConvergenceWarning: The max_iter was reached which means the coef_ did not converge\n",
      "  warnings.warn(\n",
      "/home/thor/Desktop/repos/emoji-hero-baseline/1_face_expressions/machine-learning/venv/lib/python3.11/site-packages/sklearn/linear_model/_sag.py:350: ConvergenceWarning: The max_iter was reached which means the coef_ did not converge\n",
      "  warnings.warn(\n",
      "/home/thor/Desktop/repos/emoji-hero-baseline/1_face_expressions/machine-learning/venv/lib/python3.11/site-packages/sklearn/linear_model/_sag.py:350: ConvergenceWarning: The max_iter was reached which means the coef_ did not converge\n",
      "  warnings.warn(\n",
      "/home/thor/Desktop/repos/emoji-hero-baseline/1_face_expressions/machine-learning/venv/lib/python3.11/site-packages/sklearn/linear_model/_logistic.py:469: ConvergenceWarning: lbfgs failed to converge (status=1):\n",
      "STOP: TOTAL NO. of ITERATIONS REACHED LIMIT.\n",
      "\n",
      "Increase the number of iterations (max_iter) or scale the data as shown in:\n",
      "    https://scikit-learn.org/stable/modules/preprocessing.html\n",
      "Please also refer to the documentation for alternative solver options:\n",
      "    https://scikit-learn.org/stable/modules/linear_model.html#logistic-regression\n",
      "  n_iter_i = _check_optimize_result(\n",
      "/home/thor/Desktop/repos/emoji-hero-baseline/1_face_expressions/machine-learning/venv/lib/python3.11/site-packages/sklearn/linear_model/_sag.py:350: ConvergenceWarning: The max_iter was reached which means the coef_ did not converge\n",
      "  warnings.warn(\n",
      "/home/thor/Desktop/repos/emoji-hero-baseline/1_face_expressions/machine-learning/venv/lib/python3.11/site-packages/sklearn/utils/optimize.py:246: ConvergenceWarning: newton-cg failed to converge. Increase the number of iterations.\n",
      "  warnings.warn(\n",
      "/home/thor/Desktop/repos/emoji-hero-baseline/1_face_expressions/machine-learning/venv/lib/python3.11/site-packages/sklearn/linear_model/_logistic.py:469: ConvergenceWarning: lbfgs failed to converge (status=1):\n",
      "STOP: TOTAL NO. of ITERATIONS REACHED LIMIT.\n",
      "\n",
      "Increase the number of iterations (max_iter) or scale the data as shown in:\n",
      "    https://scikit-learn.org/stable/modules/preprocessing.html\n",
      "Please also refer to the documentation for alternative solver options:\n",
      "    https://scikit-learn.org/stable/modules/linear_model.html#logistic-regression\n",
      "  n_iter_i = _check_optimize_result(\n",
      "/home/thor/Desktop/repos/emoji-hero-baseline/1_face_expressions/machine-learning/venv/lib/python3.11/site-packages/sklearn/linear_model/_sag.py:350: ConvergenceWarning: The max_iter was reached which means the coef_ did not converge\n",
      "  warnings.warn(\n",
      "/home/thor/Desktop/repos/emoji-hero-baseline/1_face_expressions/machine-learning/venv/lib/python3.11/site-packages/sklearn/linear_model/_sag.py:350: ConvergenceWarning: The max_iter was reached which means the coef_ did not converge\n",
      "  warnings.warn(\n",
      "/home/thor/Desktop/repos/emoji-hero-baseline/1_face_expressions/machine-learning/venv/lib/python3.11/site-packages/sklearn/linear_model/_logistic.py:469: ConvergenceWarning: lbfgs failed to converge (status=1):\n",
      "STOP: TOTAL NO. of ITERATIONS REACHED LIMIT.\n",
      "\n",
      "Increase the number of iterations (max_iter) or scale the data as shown in:\n",
      "    https://scikit-learn.org/stable/modules/preprocessing.html\n",
      "Please also refer to the documentation for alternative solver options:\n",
      "    https://scikit-learn.org/stable/modules/linear_model.html#logistic-regression\n",
      "  n_iter_i = _check_optimize_result(\n",
      "/home/thor/Desktop/repos/emoji-hero-baseline/1_face_expressions/machine-learning/venv/lib/python3.11/site-packages/sklearn/linear_model/_sag.py:350: ConvergenceWarning: The max_iter was reached which means the coef_ did not converge\n",
      "  warnings.warn(\n",
      "/home/thor/Desktop/repos/emoji-hero-baseline/1_face_expressions/machine-learning/venv/lib/python3.11/site-packages/sklearn/utils/optimize.py:246: ConvergenceWarning: newton-cg failed to converge. Increase the number of iterations.\n",
      "  warnings.warn(\n",
      "/home/thor/Desktop/repos/emoji-hero-baseline/1_face_expressions/machine-learning/venv/lib/python3.11/site-packages/sklearn/linear_model/_sag.py:350: ConvergenceWarning: The max_iter was reached which means the coef_ did not converge\n",
      "  warnings.warn(\n",
      "/home/thor/Desktop/repos/emoji-hero-baseline/1_face_expressions/machine-learning/venv/lib/python3.11/site-packages/sklearn/svm/_base.py:1237: ConvergenceWarning: Liblinear failed to converge, increase the number of iterations.\n",
      "  warnings.warn(\n",
      "/home/thor/Desktop/repos/emoji-hero-baseline/1_face_expressions/machine-learning/venv/lib/python3.11/site-packages/sklearn/linear_model/_sag.py:350: ConvergenceWarning: The max_iter was reached which means the coef_ did not converge\n",
      "  warnings.warn(\n",
      "/home/thor/Desktop/repos/emoji-hero-baseline/1_face_expressions/machine-learning/venv/lib/python3.11/site-packages/sklearn/linear_model/_sag.py:350: ConvergenceWarning: The max_iter was reached which means the coef_ did not converge\n",
      "  warnings.warn(\n",
      "/home/thor/Desktop/repos/emoji-hero-baseline/1_face_expressions/machine-learning/venv/lib/python3.11/site-packages/sklearn/linear_model/_logistic.py:469: ConvergenceWarning: lbfgs failed to converge (status=1):\n",
      "STOP: TOTAL NO. of ITERATIONS REACHED LIMIT.\n",
      "\n",
      "Increase the number of iterations (max_iter) or scale the data as shown in:\n",
      "    https://scikit-learn.org/stable/modules/preprocessing.html\n",
      "Please also refer to the documentation for alternative solver options:\n",
      "    https://scikit-learn.org/stable/modules/linear_model.html#logistic-regression\n",
      "  n_iter_i = _check_optimize_result(\n",
      "/home/thor/Desktop/repos/emoji-hero-baseline/1_face_expressions/machine-learning/venv/lib/python3.11/site-packages/sklearn/svm/_base.py:1237: ConvergenceWarning: Liblinear failed to converge, increase the number of iterations.\n",
      "  warnings.warn(\n",
      "/home/thor/Desktop/repos/emoji-hero-baseline/1_face_expressions/machine-learning/venv/lib/python3.11/site-packages/sklearn/linear_model/_sag.py:350: ConvergenceWarning: The max_iter was reached which means the coef_ did not converge\n",
      "  warnings.warn(\n",
      "/home/thor/Desktop/repos/emoji-hero-baseline/1_face_expressions/machine-learning/venv/lib/python3.11/site-packages/sklearn/linear_model/_sag.py:350: ConvergenceWarning: The max_iter was reached which means the coef_ did not converge\n",
      "  warnings.warn(\n",
      "/home/thor/Desktop/repos/emoji-hero-baseline/1_face_expressions/machine-learning/venv/lib/python3.11/site-packages/sklearn/linear_model/_sag.py:350: ConvergenceWarning: The max_iter was reached which means the coef_ did not converge\n",
      "  warnings.warn(\n",
      "/home/thor/Desktop/repos/emoji-hero-baseline/1_face_expressions/machine-learning/venv/lib/python3.11/site-packages/sklearn/linear_model/_sag.py:350: ConvergenceWarning: The max_iter was reached which means the coef_ did not converge\n",
      "  warnings.warn(\n",
      "/home/thor/Desktop/repos/emoji-hero-baseline/1_face_expressions/machine-learning/venv/lib/python3.11/site-packages/sklearn/linear_model/_sag.py:350: ConvergenceWarning: The max_iter was reached which means the coef_ did not converge\n",
      "  warnings.warn(\n",
      "/home/thor/Desktop/repos/emoji-hero-baseline/1_face_expressions/machine-learning/venv/lib/python3.11/site-packages/sklearn/linear_model/_sag.py:350: ConvergenceWarning: The max_iter was reached which means the coef_ did not converge\n",
      "  warnings.warn(\n",
      "/home/thor/Desktop/repos/emoji-hero-baseline/1_face_expressions/machine-learning/venv/lib/python3.11/site-packages/sklearn/linear_model/_sag.py:350: ConvergenceWarning: The max_iter was reached which means the coef_ did not converge\n",
      "  warnings.warn(\n",
      "/home/thor/Desktop/repos/emoji-hero-baseline/1_face_expressions/machine-learning/venv/lib/python3.11/site-packages/sklearn/linear_model/_sag.py:350: ConvergenceWarning: The max_iter was reached which means the coef_ did not converge\n",
      "  warnings.warn(\n",
      "/home/thor/Desktop/repos/emoji-hero-baseline/1_face_expressions/machine-learning/venv/lib/python3.11/site-packages/sklearn/linear_model/_sag.py:350: ConvergenceWarning: The max_iter was reached which means the coef_ did not converge\n",
      "  warnings.warn(\n",
      "/home/thor/Desktop/repos/emoji-hero-baseline/1_face_expressions/machine-learning/venv/lib/python3.11/site-packages/sklearn/linear_model/_sag.py:350: ConvergenceWarning: The max_iter was reached which means the coef_ did not converge\n",
      "  warnings.warn(\n"
     ]
    },
    {
     "name": "stdout",
     "output_type": "stream",
     "text": [
      "GridSearch took: 7.11 seconds.\n"
     ]
    }
   ],
   "execution_count": 5
  },
  {
   "cell_type": "code",
   "source": [
    "best_parameters = grid_search.best_params_\n",
    "print('Best Parameters:', best_parameters)\n",
    "print('Best Cross-Validation-Accuracy:', grid_search.best_score_)"
   ],
   "metadata": {
    "collapsed": false,
    "ExecuteTime": {
     "end_time": "2024-10-31T16:26:56.571801Z",
     "start_time": "2024-10-31T16:26:56.569755Z"
    }
   },
   "id": "af79c519e60f000b",
   "outputs": [
    {
     "name": "stdout",
     "output_type": "stream",
     "text": [
      "Best Parameters: {'logreg__C': 0.1, 'logreg__class_weight': 'balanced', 'logreg__max_iter': 1000, 'logreg__solver': 'saga'}\n",
      "Best Cross-Validation-Accuracy: 0.8233766233766234\n"
     ]
    }
   ],
   "execution_count": 6
  },
  {
   "cell_type": "markdown",
   "source": [
    "## Evaluation"
   ],
   "metadata": {
    "collapsed": false
   },
   "id": "9e0a0593d2ee785a"
  },
  {
   "metadata": {
    "ExecuteTime": {
     "end_time": "2024-10-31T16:26:57.017366Z",
     "start_time": "2024-10-31T16:26:56.669660Z"
    }
   },
   "cell_type": "code",
   "source": [
    "best_parameters = {k.replace('logreg__', ''): v for k, v in best_parameters.items()}\n",
    "\n",
    "best_model = Pipeline([\n",
    "    ('scaler', StandardScaler()),\n",
    "    ('logreg', LogisticRegression(**best_parameters, random_state=SEED))\n",
    "])\n",
    "\n",
    "best_model.fit(X_train, y_train)\n",
    "print(f'Trained model on training set with optimal hyperparameters: {best_parameters}')"
   ],
   "id": "bfe379173d4da4f5",
   "outputs": [
    {
     "name": "stdout",
     "output_type": "stream",
     "text": [
      "Trained model on training set with optimal hyperparameters: {'C': 0.1, 'class_weight': 'balanced', 'max_iter': 1000, 'solver': 'saga'}\n"
     ]
    }
   ],
   "execution_count": 7
  },
  {
   "metadata": {
    "collapsed": false,
    "ExecuteTime": {
     "end_time": "2024-10-31T16:26:57.044589Z",
     "start_time": "2024-10-31T16:26:57.041597Z"
    }
   },
   "cell_type": "code",
   "source": [
    "from sklearn.metrics import accuracy_score\n",
    "\n",
    "y_val_pred = best_model.predict(X_val)\n",
    "val_accuracy = accuracy_score(y_val, y_val_pred)\n",
    "print(f\"Validation Accuracy with optimized Hyperparameters: {val_accuracy:.4f}\")"
   ],
   "id": "98b3efda9dca470",
   "outputs": [
    {
     "name": "stdout",
     "output_type": "stream",
     "text": [
      "Validation Accuracy with optimized Hyperparameters: 0.8234\n"
     ]
    }
   ],
   "execution_count": 8
  },
  {
   "cell_type": "code",
   "source": [
    "test_df = pd.read_csv(base_directory / 'test_set.csv')\n",
    "print(f'Number of Test Samples: {len(test_df)}')\n",
    "X_test, y_test = test_df.drop(['Label', 'timestamp', 'participant_id'], axis=1), test_df['Label']"
   ],
   "metadata": {
    "collapsed": false,
    "ExecuteTime": {
     "end_time": "2024-10-31T16:26:57.091129Z",
     "start_time": "2024-10-31T16:26:57.084332Z"
    }
   },
   "id": "a2e7cd402ec7c8cf",
   "outputs": [
    {
     "name": "stdout",
     "output_type": "stream",
     "text": [
      "Number of Test Samples: 378\n"
     ]
    }
   ],
   "execution_count": 9
  },
  {
   "cell_type": "code",
   "source": [
    "y_test_pred = best_model.predict(X_test)\n",
    "test_accuracy = accuracy_score(y_test, y_test_pred)\n",
    "print(f\"Test Accuracy with optimized Hyperparameters: {test_accuracy:.4f}\")"
   ],
   "metadata": {
    "collapsed": false,
    "ExecuteTime": {
     "end_time": "2024-10-31T16:26:57.134070Z",
     "start_time": "2024-10-31T16:26:57.131168Z"
    }
   },
   "id": "de1cc84eae370de1",
   "outputs": [
    {
     "name": "stdout",
     "output_type": "stream",
     "text": [
      "Test Accuracy with optimized Hyperparameters: 0.7302\n"
     ]
    }
   ],
   "execution_count": 10
  },
  {
   "cell_type": "code",
   "source": [
    "from sklearn.metrics import classification_report\n",
    "\n",
    "emotion_to_id = {'Neutral': 0, 'Happiness': 1, 'Sadness': 2, 'Surprise': 3, 'Fear': 4, 'Disgust': 5, 'Anger': 6}\n",
    "\n",
    "print(\"Classification Report (Test Set):\")\n",
    "print(classification_report(y_test, y_test_pred, target_names=emotion_to_id.keys(), digits=4))"
   ],
   "metadata": {
    "collapsed": false,
    "ExecuteTime": {
     "end_time": "2024-10-31T16:26:57.181920Z",
     "start_time": "2024-10-31T16:26:57.177281Z"
    }
   },
   "id": "d7721d99397e73d9",
   "outputs": [
    {
     "name": "stdout",
     "output_type": "stream",
     "text": [
      "Classification Report (Test Set):\n",
      "              precision    recall  f1-score   support\n",
      "\n",
      "     Neutral     0.6667    0.8889    0.7619        54\n",
      "   Happiness     0.7794    0.9815    0.8689        54\n",
      "     Sadness     0.9302    0.7407    0.8247        54\n",
      "    Surprise     0.8889    0.7407    0.8081        54\n",
      "        Fear     0.6500    0.7222    0.6842        54\n",
      "     Disgust     0.5424    0.5926    0.5664        54\n",
      "       Anger     0.7742    0.4444    0.5647        54\n",
      "\n",
      "    accuracy                         0.7302       378\n",
      "   macro avg     0.7474    0.7302    0.7256       378\n",
      "weighted avg     0.7474    0.7302    0.7256       378\n",
      "\n"
     ]
    }
   ],
   "execution_count": 11
  },
  {
   "cell_type": "code",
   "source": [
    "import matplotlib.pyplot as plt\n",
    "import seaborn as sns\n",
    "from sklearn.metrics import confusion_matrix\n",
    "import numpy as np\n",
    "\n",
    "\n",
    "def plot_confusion_matrix(y_true, y_pred, classes, normalize=False, title='Confusion Matrix', cmap=plt.cm.Blues):\n",
    "    cm = confusion_matrix(y_true, y_pred)\n",
    "\n",
    "    if normalize:\n",
    "        cm = cm.astype('float') / cm.sum(axis=1)[:, np.newaxis]\n",
    "        print(\"Normalized Confusion Matrix\")\n",
    "    else:\n",
    "        print('Confusion Matrix, without normalization')\n",
    "\n",
    "    print(cm)\n",
    "\n",
    "    plt.figure(figsize=(10, 7))\n",
    "    sns.heatmap(cm, annot=True, fmt='.2f' if normalize else 'd', cmap=cmap,\n",
    "                xticklabels=classes, yticklabels=classes)\n",
    "    plt.title(title)\n",
    "    plt.xlabel('Predicted Label')\n",
    "    plt.ylabel('True Label')\n",
    "    plt.show()\n",
    "\n",
    "\n",
    "plot_confusion_matrix(y_test, y_test_pred, classes=emotion_to_id.keys(), title='Confusion Matrix')"
   ],
   "metadata": {
    "collapsed": false,
    "ExecuteTime": {
     "end_time": "2024-10-31T16:26:57.349408Z",
     "start_time": "2024-10-31T16:26:57.222062Z"
    }
   },
   "id": "76ba75b5aa44e0fb",
   "outputs": [
    {
     "name": "stdout",
     "output_type": "stream",
     "text": [
      "Confusion Matrix, without normalization\n",
      "[[48  2  1  0  3  0  0]\n",
      " [ 0 53  0  0  1  0  0]\n",
      " [ 8  0 40  0  2  1  3]\n",
      " [ 3  0  0 40 10  1  0]\n",
      " [ 6  3  0  2 39  3  1]\n",
      " [ 1  8  2  3  5 32  3]\n",
      " [ 6  2  0  0  0 22 24]]\n"
     ]
    },
    {
     "data": {
      "text/plain": [
       "<Figure size 1000x700 with 2 Axes>"
      ],
      "image/png": "[encoded data removed]"
     },
     "metadata": {},
     "output_type": "display_data"
    }
   ],
   "execution_count": 12
  },
  {
   "cell_type": "code",
   "source": [],
   "metadata": {
    "collapsed": false,
    "ExecuteTime": {
     "end_time": "2024-10-31T16:26:57.382516Z",
     "start_time": "2024-10-31T16:26:57.381410Z"
    }
   },
   "id": "e79d3ec9fb79feda",
   "outputs": [],
   "execution_count": null
  }
 ],
 "metadata": {
  "kernelspec": {
   "display_name": "Python 3",
   "language": "python",
   "name": "python3"
  },
  "language_info": {
   "codemirror_mode": {
    "name": "ipython",
    "version": 2
   },
   "file_extension": ".py",
   "mimetype": "text/x-python",
   "name": "python",
   "nbconvert_exporter": "python",
   "pygments_lexer": "ipython2",
   "version": "2.7.6"
  }
 },
 "nbformat": 4,
 "nbformat_minor": 5
}
