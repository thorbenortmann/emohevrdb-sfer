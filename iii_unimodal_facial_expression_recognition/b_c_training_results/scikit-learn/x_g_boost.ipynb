{
 "cells": [
  {
   "cell_type": "markdown",
   "source": "# XGBoost",
   "metadata": {
    "collapsed": false
   },
   "id": "66c9afb5bcd2b5ba"
  },
  {
   "cell_type": "markdown",
   "source": [
    "## Load Data"
   ],
   "metadata": {
    "collapsed": false
   },
   "id": "6392fe770569a2d7"
  },
  {
   "cell_type": "code",
   "source": [
    "from pathlib import Path\n",
    "\n",
    "import pandas as pd"
   ],
   "metadata": {
    "collapsed": false,
    "ExecuteTime": {
     "end_time": "2024-10-31T12:23:50.190479Z",
     "start_time": "2024-10-31T12:23:50.188642Z"
    }
   },
   "id": "b6406bbe130b2472",
   "outputs": [],
   "execution_count": 1
  },
  {
   "cell_type": "code",
   "source": [
    "from sklearn.utils import shuffle\n",
    "\n",
    "base_directory = Path(r'/media/thor/PortableSSD/mydata/emojihero/dataset/dataset-face-expression-csv')\n",
    "train_df = pd.read_csv(base_directory / 'training_set.csv')\n",
    "val_df = pd.read_csv(base_directory / 'validation_set.csv')\n",
    "\n",
    "SEED = 42\n",
    "train_df = shuffle(train_df, random_state=SEED)\n",
    "val_df = shuffle(val_df, random_state=SEED)\n",
    "\n",
    "print(f'Number of Training Samples: {len(train_df)}')\n",
    "print(train_df['Label'].value_counts())\n",
    "print(f'Number of Validation Samples: {len(val_df)}')\n",
    "print(val_df['Label'].value_counts())\n",
    "\n",
    "train_df.head()"
   ],
   "metadata": {
    "collapsed": false,
    "ExecuteTime": {
     "end_time": "2024-10-31T12:23:50.246600Z",
     "start_time": "2024-10-31T12:23:50.204702Z"
    }
   },
   "id": "bef367bdf4c7f38a",
   "outputs": [
    {
     "name": "stdout",
     "output_type": "stream",
     "text": [
      "Number of Training Samples: 964\n",
      "Label\n",
      "0    197\n",
      "1    191\n",
      "3    172\n",
      "2    131\n",
      "4    105\n",
      "5    102\n",
      "6     66\n",
      "Name: count, dtype: int64\n",
      "Number of Validation Samples: 385\n",
      "Label\n",
      "5    55\n",
      "4    55\n",
      "1    55\n",
      "2    55\n",
      "6    55\n",
      "0    55\n",
      "3    55\n",
      "Name: count, dtype: int64\n"
     ]
    },
    {
     "data": {
      "text/plain": [
       "         timestamp  participant_id     FAU_0     FAU_1         FAU_2  \\\n",
       "760  1700488114760               3  0.107896  0.194889  1.401298e-45   \n",
       "884  1700748819058              16  0.834857  0.764817  1.026462e-20   \n",
       "938  1701357565849              34  0.131417  0.130338  1.680341e-04   \n",
       "901  1700827807807              21  0.615232  0.514535  9.174733e-03   \n",
       "622  1700748690839              16  0.000001  0.000020  1.059425e-02   \n",
       "\n",
       "            FAU_3     FAU_4     FAU_5         FAU_6         FAU_7  ...  \\\n",
       "760  1.320220e-22  0.024912  0.024321  1.401298e-45  1.401298e-45  ...   \n",
       "884  2.168397e-11  0.416924  0.377339  2.632983e-03  1.401298e-45  ...   \n",
       "938  1.439196e-04  0.252091  0.225658  0.000000e+00  0.000000e+00  ...   \n",
       "901  9.058302e-03  0.389754  0.374438  0.000000e+00  0.000000e+00  ...   \n",
       "622  1.085821e-02  0.010866  0.000002  1.401298e-45  0.000000e+00  ...   \n",
       "\n",
       "           FAU_54        FAU_55        FAU_56        FAU_57        FAU_58  \\\n",
       "760  9.209801e-21  2.610711e-37  1.000182e-13  5.099260e-05  1.002689e-02   \n",
       "884  2.479763e-03  2.194700e-01  2.563659e-01  1.888640e-06  5.865657e-03   \n",
       "938  1.401298e-45  1.083556e-02  1.089628e-02  2.802597e-45  1.980103e-34   \n",
       "901  2.141047e-02  9.831126e-01  9.945938e-01  8.538091e-03  4.727362e-02   \n",
       "622  7.473406e-12  5.651674e-10  1.086265e-02  1.238884e-02  9.620150e-03   \n",
       "\n",
       "           FAU_59        FAU_60        FAU_61        FAU_62  Label  \n",
       "760  4.672041e-07  2.050273e-07  5.688704e-02  8.172417e-02      4  \n",
       "884  8.533958e-10  2.958799e-04  1.071407e-02  2.710130e-02      5  \n",
       "938  1.401298e-45  1.401298e-45  2.718902e-01  2.924575e-01      5  \n",
       "901  9.986752e-05  4.469715e-06  3.522862e-01  4.055933e-01      5  \n",
       "622  1.538864e-01  1.280742e-01  1.139681e-12  6.957371e-13      3  \n",
       "\n",
       "[5 rows x 66 columns]"
      ],
      "text/html": [
       "<div>\n",
       "<style scoped>\n",
       "    .dataframe tbody tr th:only-of-type {\n",
       "        vertical-align: middle;\n",
       "    }\n",
       "\n",
       "    .dataframe tbody tr th {\n",
       "        vertical-align: top;\n",
       "    }\n",
       "\n",
       "    .dataframe thead th {\n",
       "        text-align: right;\n",
       "    }\n",
       "</style>\n",
       "<table border=\"1\" class=\"dataframe\">\n",
       "  <thead>\n",
       "    <tr style=\"text-align: right;\">\n",
       "      <th></th>\n",
       "      <th>timestamp</th>\n",
       "      <th>participant_id</th>\n",
       "      <th>FAU_0</th>\n",
       "      <th>FAU_1</th>\n",
       "      <th>FAU_2</th>\n",
       "      <th>FAU_3</th>\n",
       "      <th>FAU_4</th>\n",
       "      <th>FAU_5</th>\n",
       "      <th>FAU_6</th>\n",
       "      <th>FAU_7</th>\n",
       "      <th>...</th>\n",
       "      <th>FAU_54</th>\n",
       "      <th>FAU_55</th>\n",
       "      <th>FAU_56</th>\n",
       "      <th>FAU_57</th>\n",
       "      <th>FAU_58</th>\n",
       "      <th>FAU_59</th>\n",
       "      <th>FAU_60</th>\n",
       "      <th>FAU_61</th>\n",
       "      <th>FAU_62</th>\n",
       "      <th>Label</th>\n",
       "    </tr>\n",
       "  </thead>\n",
       "  <tbody>\n",
       "    <tr>\n",
       "      <th>760</th>\n",
       "      <td>1700488114760</td>\n",
       "      <td>3</td>\n",
       "      <td>0.107896</td>\n",
       "      <td>0.194889</td>\n",
       "      <td>1.401298e-45</td>\n",
       "      <td>1.320220e-22</td>\n",
       "      <td>0.024912</td>\n",
       "      <td>0.024321</td>\n",
       "      <td>1.401298e-45</td>\n",
       "      <td>1.401298e-45</td>\n",
       "      <td>...</td>\n",
       "      <td>9.209801e-21</td>\n",
       "      <td>2.610711e-37</td>\n",
       "      <td>1.000182e-13</td>\n",
       "      <td>5.099260e-05</td>\n",
       "      <td>1.002689e-02</td>\n",
       "      <td>4.672041e-07</td>\n",
       "      <td>2.050273e-07</td>\n",
       "      <td>5.688704e-02</td>\n",
       "      <td>8.172417e-02</td>\n",
       "      <td>4</td>\n",
       "    </tr>\n",
       "    <tr>\n",
       "      <th>884</th>\n",
       "      <td>1700748819058</td>\n",
       "      <td>16</td>\n",
       "      <td>0.834857</td>\n",
       "      <td>0.764817</td>\n",
       "      <td>1.026462e-20</td>\n",
       "      <td>2.168397e-11</td>\n",
       "      <td>0.416924</td>\n",
       "      <td>0.377339</td>\n",
       "      <td>2.632983e-03</td>\n",
       "      <td>1.401298e-45</td>\n",
       "      <td>...</td>\n",
       "      <td>2.479763e-03</td>\n",
       "      <td>2.194700e-01</td>\n",
       "      <td>2.563659e-01</td>\n",
       "      <td>1.888640e-06</td>\n",
       "      <td>5.865657e-03</td>\n",
       "      <td>8.533958e-10</td>\n",
       "      <td>2.958799e-04</td>\n",
       "      <td>1.071407e-02</td>\n",
       "      <td>2.710130e-02</td>\n",
       "      <td>5</td>\n",
       "    </tr>\n",
       "    <tr>\n",
       "      <th>938</th>\n",
       "      <td>1701357565849</td>\n",
       "      <td>34</td>\n",
       "      <td>0.131417</td>\n",
       "      <td>0.130338</td>\n",
       "      <td>1.680341e-04</td>\n",
       "      <td>1.439196e-04</td>\n",
       "      <td>0.252091</td>\n",
       "      <td>0.225658</td>\n",
       "      <td>0.000000e+00</td>\n",
       "      <td>0.000000e+00</td>\n",
       "      <td>...</td>\n",
       "      <td>1.401298e-45</td>\n",
       "      <td>1.083556e-02</td>\n",
       "      <td>1.089628e-02</td>\n",
       "      <td>2.802597e-45</td>\n",
       "      <td>1.980103e-34</td>\n",
       "      <td>1.401298e-45</td>\n",
       "      <td>1.401298e-45</td>\n",
       "      <td>2.718902e-01</td>\n",
       "      <td>2.924575e-01</td>\n",
       "      <td>5</td>\n",
       "    </tr>\n",
       "    <tr>\n",
       "      <th>901</th>\n",
       "      <td>1700827807807</td>\n",
       "      <td>21</td>\n",
       "      <td>0.615232</td>\n",
       "      <td>0.514535</td>\n",
       "      <td>9.174733e-03</td>\n",
       "      <td>9.058302e-03</td>\n",
       "      <td>0.389754</td>\n",
       "      <td>0.374438</td>\n",
       "      <td>0.000000e+00</td>\n",
       "      <td>0.000000e+00</td>\n",
       "      <td>...</td>\n",
       "      <td>2.141047e-02</td>\n",
       "      <td>9.831126e-01</td>\n",
       "      <td>9.945938e-01</td>\n",
       "      <td>8.538091e-03</td>\n",
       "      <td>4.727362e-02</td>\n",
       "      <td>9.986752e-05</td>\n",
       "      <td>4.469715e-06</td>\n",
       "      <td>3.522862e-01</td>\n",
       "      <td>4.055933e-01</td>\n",
       "      <td>5</td>\n",
       "    </tr>\n",
       "    <tr>\n",
       "      <th>622</th>\n",
       "      <td>1700748690839</td>\n",
       "      <td>16</td>\n",
       "      <td>0.000001</td>\n",
       "      <td>0.000020</td>\n",
       "      <td>1.059425e-02</td>\n",
       "      <td>1.085821e-02</td>\n",
       "      <td>0.010866</td>\n",
       "      <td>0.000002</td>\n",
       "      <td>1.401298e-45</td>\n",
       "      <td>0.000000e+00</td>\n",
       "      <td>...</td>\n",
       "      <td>7.473406e-12</td>\n",
       "      <td>5.651674e-10</td>\n",
       "      <td>1.086265e-02</td>\n",
       "      <td>1.238884e-02</td>\n",
       "      <td>9.620150e-03</td>\n",
       "      <td>1.538864e-01</td>\n",
       "      <td>1.280742e-01</td>\n",
       "      <td>1.139681e-12</td>\n",
       "      <td>6.957371e-13</td>\n",
       "      <td>3</td>\n",
       "    </tr>\n",
       "  </tbody>\n",
       "</table>\n",
       "<p>5 rows × 66 columns</p>\n",
       "</div>"
      ]
     },
     "execution_count": 2,
     "metadata": {},
     "output_type": "execute_result"
    }
   ],
   "execution_count": 2
  },
  {
   "cell_type": "code",
   "source": [
    "import numpy as np\n",
    "from sklearn.model_selection import PredefinedSplit\n",
    "\n",
    "X_train = train_df.drop(['Label', 'timestamp', 'participant_id'], axis=1)\n",
    "y_train = train_df['Label']\n",
    "X_val = val_df.drop(['Label', 'timestamp', 'participant_id'], axis=1)\n",
    "y_val = val_df['Label']\n",
    "X_combined = pd.concat([X_train, X_val])\n",
    "y_combined = pd.concat([y_train, y_val])\n",
    "\n",
    "train_indices = -1 * np.ones(len(train_df), dtype=int)\n",
    "val_indices = np.zeros(len(val_df), dtype=int)\n",
    "split_index = np.concatenate((train_indices, val_indices))\n",
    "ps = PredefinedSplit(split_index)"
   ],
   "metadata": {
    "collapsed": false,
    "ExecuteTime": {
     "end_time": "2024-10-31T12:23:50.382672Z",
     "start_time": "2024-10-31T12:23:50.364400Z"
    }
   },
   "id": "df743ff65a8aeef8",
   "outputs": [],
   "execution_count": 3
  },
  {
   "cell_type": "markdown",
   "source": [
    "## Find optimal Hyperparameters via GridSearch"
   ],
   "metadata": {
    "collapsed": false
   },
   "id": "1c39883843a28ca5"
  },
  {
   "cell_type": "code",
   "source": [
    "from xgboost import XGBClassifier\n",
    "from sklearn.model_selection import GridSearchCV\n",
    "from sklearn.pipeline import Pipeline\n",
    "from sklearn.preprocessing import StandardScaler\n",
    "\n",
    "pipeline = Pipeline([\n",
    "    ('scaler', StandardScaler()),\n",
    "    ('xgb', XGBClassifier(random_state=SEED))\n",
    "])\n",
    "\n",
    "# See: https://xgboost.readthedocs.io/en/stable/python/python_api.html#xgboost.XGBClassifier\n",
    "param_grid = {\n",
    "    'xgb__learning_rate': [0.2, 0.3, 0.4],\n",
    "    'xgb__n_estimators': [50, 100, 200],\n",
    "    'xgb__max_depth': [4, 6, 8],\n",
    "    'xgb__subsample': [1., 0.8],\n",
    "    'xgb__colsample_bytree': [1., 0.8],\n",
    "    'xgb__gamma': [0, 0.1,],\n",
    "    'xgb__min_child_weight': [1, 2],\n",
    "}\n",
    "\n",
    "grid_search = GridSearchCV(pipeline, param_grid, cv=ps, refit=False, scoring='accuracy', n_jobs=-1, verbose=2)"
   ],
   "metadata": {
    "collapsed": false,
    "ExecuteTime": {
     "end_time": "2024-10-31T12:23:50.402388Z",
     "start_time": "2024-10-31T12:23:50.388120Z"
    }
   },
   "id": "37d8c0ae6e2d5a5a",
   "outputs": [],
   "execution_count": 4
  },
  {
   "metadata": {},
   "cell_type": "markdown",
   "source": "### Unbalanced",
   "id": "b6e5e502ba70851f"
  },
  {
   "cell_type": "code",
   "source": [
    "import time\n",
    "\n",
    "start_time = time.time()\n",
    "grid_search.fit(X_combined, y_combined)\n",
    "end_time = time.time()\n",
    "\n",
    "print(f'GridSearch took: {end_time - start_time:.2f} seconds.')"
   ],
   "metadata": {
    "collapsed": false,
    "ExecuteTime": {
     "end_time": "2024-10-31T12:24:18.608657Z",
     "start_time": "2024-10-31T12:23:50.438165Z"
    }
   },
   "id": "71c373769708ba38",
   "outputs": [
    {
     "name": "stdout",
     "output_type": "stream",
     "text": [
      "Fitting 1 folds for each of 432 candidates, totalling 432 fits\n",
      "GridSearch took: 28.17 seconds.\n"
     ]
    }
   ],
   "execution_count": 5
  },
  {
   "cell_type": "code",
   "source": [
    "best_unbalanced_parameters = grid_search.best_params_\n",
    "best_unbalanced_val_acc = grid_search.best_score_\n",
    "print('Best Parameters:', best_unbalanced_parameters)\n",
    "print('Best Cross-Validation-Accuracy:', best_unbalanced_val_acc)\n",
    "best_unbalanced_parameters = {k.replace('xgb__', ''): v for k, v in best_unbalanced_parameters.items()}"
   ],
   "metadata": {
    "collapsed": false,
    "ExecuteTime": {
     "end_time": "2024-10-31T12:24:18.614299Z",
     "start_time": "2024-10-31T12:24:18.611886Z"
    }
   },
   "id": "af79c519e60f000b",
   "outputs": [
    {
     "name": "stdout",
     "output_type": "stream",
     "text": [
      "Best Parameters: {'xgb__colsample_bytree': 0.8, 'xgb__gamma': 0, 'xgb__learning_rate': 0.4, 'xgb__max_depth': 4, 'xgb__min_child_weight': 2, 'xgb__n_estimators': 200, 'xgb__subsample': 1.0}\n",
      "Best Cross-Validation-Accuracy: 0.8155844155844156\n"
     ]
    }
   ],
   "execution_count": 6
  },
  {
   "metadata": {},
   "cell_type": "markdown",
   "source": "### Balanced",
   "id": "a114126d57d7b414"
  },
  {
   "metadata": {
    "ExecuteTime": {
     "end_time": "2024-10-31T12:24:18.661391Z",
     "start_time": "2024-10-31T12:24:18.657648Z"
    }
   },
   "cell_type": "code",
   "source": [
    "from sklearn.utils import compute_sample_weight\n",
    "\n",
    "sample_weight = compute_sample_weight(class_weight='balanced', y=y_train)"
   ],
   "id": "fb7b5e792b3aba77",
   "outputs": [],
   "execution_count": 7
  },
  {
   "metadata": {
    "ExecuteTime": {
     "end_time": "2024-10-31T12:24:45.893662Z",
     "start_time": "2024-10-31T12:24:18.703273Z"
    }
   },
   "cell_type": "code",
   "source": [
    "start_time = time.time()\n",
    "grid_search.fit(X_combined, y_combined, xgb__sample_weight=sample_weight)\n",
    "end_time = time.time()\n",
    "\n",
    "print(f'GridSearch took: {end_time - start_time:.4f} seconds.')"
   ],
   "id": "86c973ed135ac2b4",
   "outputs": [
    {
     "name": "stdout",
     "output_type": "stream",
     "text": [
      "Fitting 1 folds for each of 432 candidates, totalling 432 fits\n",
      "GridSearch took: 27.1887 seconds.\n"
     ]
    }
   ],
   "execution_count": 8
  },
  {
   "metadata": {
    "ExecuteTime": {
     "end_time": "2024-10-31T12:24:45.942483Z",
     "start_time": "2024-10-31T12:24:45.940572Z"
    }
   },
   "cell_type": "code",
   "source": [
    "best_balanced_parameters = grid_search.best_params_\n",
    "best_balanced_val_acc = grid_search.best_score_\n",
    "print('Best Parameters:', best_balanced_parameters)\n",
    "print('Best Cross-Validation-Accuracy:', best_balanced_val_acc)\n",
    "best_balanced_parameters = {k.replace('xgb__', ''): v for k, v in best_balanced_parameters.items()}"
   ],
   "id": "a476a4317371eac4",
   "outputs": [
    {
     "name": "stdout",
     "output_type": "stream",
     "text": [
      "Best Parameters: {'xgb__colsample_bytree': 1.0, 'xgb__gamma': 0, 'xgb__learning_rate': 0.4, 'xgb__max_depth': 4, 'xgb__min_child_weight': 2, 'xgb__n_estimators': 100, 'xgb__subsample': 0.8}\n",
      "Best Cross-Validation-Accuracy: 0.8103896103896104\n"
     ]
    }
   ],
   "execution_count": 9
  },
  {
   "cell_type": "markdown",
   "source": [
    "## Evaluation"
   ],
   "metadata": {
    "collapsed": false
   },
   "id": "9e0a0593d2ee785a"
  },
  {
   "metadata": {
    "ExecuteTime": {
     "end_time": "2024-10-31T12:24:50.442709Z",
     "start_time": "2024-10-31T12:24:46.047150Z"
    }
   },
   "cell_type": "code",
   "source": [
    "if best_balanced_val_acc >= best_unbalanced_val_acc:\n",
    "\n",
    "    best_model = Pipeline([\n",
    "        ('scaler', StandardScaler()),\n",
    "        ('xgb', XGBClassifier(**best_balanced_parameters, random_state=SEED))\n",
    "    ])\n",
    "    best_model.fit(X_train, y_train, xgb__sample_weight=sample_weight)\n",
    "    print(\n",
    "        f'Trained balanced model because {best_balanced_val_acc:.4f} is greater or equal than {best_unbalanced_val_acc:.4f}')\n",
    "\n",
    "else:\n",
    "\n",
    "    best_model = Pipeline([\n",
    "        ('scaler', StandardScaler()),\n",
    "        ('xgb', XGBClassifier(**best_unbalanced_parameters, random_state=SEED))\n",
    "    ])\n",
    "    best_model.fit(X_train, y_train)\n",
    "    print(f'Trained unbalanced model because {best_unbalanced_val_acc:.4f} is greater than {best_balanced_val_acc:.4f}')\n"
   ],
   "id": "ad37504b18b352e3",
   "outputs": [
    {
     "name": "stdout",
     "output_type": "stream",
     "text": [
      "Trained unbalanced model because 0.8156 is greater than 0.8104\n"
     ]
    }
   ],
   "execution_count": 10
  },
  {
   "metadata": {
    "ExecuteTime": {
     "end_time": "2024-10-31T12:24:50.526724Z",
     "start_time": "2024-10-31T12:24:50.506922Z"
    }
   },
   "cell_type": "code",
   "source": [
    "from sklearn.metrics import accuracy_score\n",
    "\n",
    "y_val_pred = best_model.predict(X_val)\n",
    "val_accuracy = accuracy_score(y_val, y_val_pred)\n",
    "print(f\"Validation Accuracy with optimized Hyperparameters: {val_accuracy:.4f}\")"
   ],
   "id": "af24fb625b1cc1d9",
   "outputs": [
    {
     "name": "stdout",
     "output_type": "stream",
     "text": [
      "Validation Accuracy with optimized Hyperparameters: 0.8156\n"
     ]
    }
   ],
   "execution_count": 11
  },
  {
   "cell_type": "code",
   "source": [
    "test_df = pd.read_csv(base_directory / 'test_set.csv')\n",
    "print(f'Number of Test Samples: {len(test_df)}')\n",
    "X_test, y_test = test_df.drop(['Label', 'timestamp', 'participant_id'], axis=1), test_df['Label']"
   ],
   "metadata": {
    "collapsed": false,
    "ExecuteTime": {
     "end_time": "2024-10-31T12:24:50.613751Z",
     "start_time": "2024-10-31T12:24:50.607424Z"
    }
   },
   "id": "a2e7cd402ec7c8cf",
   "outputs": [
    {
     "name": "stdout",
     "output_type": "stream",
     "text": [
      "Number of Test Samples: 378\n"
     ]
    }
   ],
   "execution_count": 12
  },
  {
   "cell_type": "code",
   "source": [
    "y_test_pred = best_model.predict(X_test)\n",
    "test_accuracy = accuracy_score(y_test, y_test_pred)\n",
    "print(f\"Test Accuracy with optimized Hyperparameters: {test_accuracy:.4f}\")"
   ],
   "metadata": {
    "collapsed": false,
    "ExecuteTime": {
     "end_time": "2024-10-31T12:24:50.700952Z",
     "start_time": "2024-10-31T12:24:50.682682Z"
    }
   },
   "id": "de1cc84eae370de1",
   "outputs": [
    {
     "name": "stdout",
     "output_type": "stream",
     "text": [
      "Test Accuracy with optimized Hyperparameters: 0.7011\n"
     ]
    }
   ],
   "execution_count": 13
  },
  {
   "cell_type": "code",
   "source": [
    "from sklearn.metrics import classification_report\n",
    "\n",
    "emotion_to_id = {'Neutral': 0, 'Happiness': 1, 'Sadness': 2, 'Surprise': 3, 'Fear': 4, 'Disgust': 5, 'Anger': 6}\n",
    "\n",
    "print(\"Classification Report (Test Set):\")\n",
    "print(classification_report(y_test, y_test_pred, target_names=emotion_to_id.keys(), digits=4))"
   ],
   "metadata": {
    "collapsed": false,
    "ExecuteTime": {
     "end_time": "2024-10-31T12:24:50.744666Z",
     "start_time": "2024-10-31T12:24:50.740149Z"
    }
   },
   "id": "d7721d99397e73d9",
   "outputs": [
    {
     "name": "stdout",
     "output_type": "stream",
     "text": [
      "Classification Report (Test Set):\n",
      "              precision    recall  f1-score   support\n",
      "\n",
      "     Neutral     0.7679    0.7963    0.7818        54\n",
      "   Happiness     0.7681    0.9815    0.8618        54\n",
      "     Sadness     0.8913    0.7593    0.8200        54\n",
      "    Surprise     0.7719    0.8148    0.7928        54\n",
      "        Fear     0.6296    0.6296    0.6296        54\n",
      "     Disgust     0.4429    0.5741    0.5000        54\n",
      "       Anger     0.7308    0.3519    0.4750        54\n",
      "\n",
      "    accuracy                         0.7011       378\n",
      "   macro avg     0.7146    0.7011    0.6944       378\n",
      "weighted avg     0.7146    0.7011    0.6944       378\n",
      "\n"
     ]
    }
   ],
   "execution_count": 14
  },
  {
   "cell_type": "code",
   "source": [
    "import matplotlib.pyplot as plt\n",
    "import seaborn as sns\n",
    "from sklearn.metrics import confusion_matrix\n",
    "import numpy as np\n",
    "\n",
    "\n",
    "def plot_confusion_matrix(y_true, y_pred, classes, normalize=False, title='Confusion Matrix', cmap=plt.cm.Blues):\n",
    "    cm = confusion_matrix(y_true, y_pred)\n",
    "\n",
    "    if normalize:\n",
    "        cm = cm.astype('float') / cm.sum(axis=1)[:, np.newaxis]\n",
    "        print(\"Normalized Confusion Matrix\")\n",
    "    else:\n",
    "        print('Confusion Matrix, without normalization')\n",
    "\n",
    "    print(cm)\n",
    "\n",
    "    plt.figure(figsize=(10, 7))\n",
    "    sns.heatmap(cm, annot=True, fmt='.2f' if normalize else 'd', cmap=cmap,\n",
    "                xticklabels=classes, yticklabels=classes)\n",
    "    plt.title(title)\n",
    "    plt.xlabel('Predicted Label')\n",
    "    plt.ylabel('True Label')\n",
    "    plt.show()\n",
    "\n",
    "\n",
    "plot_confusion_matrix(y_test, y_test_pred, classes=emotion_to_id.keys(), title='Confusion Matrix')"
   ],
   "metadata": {
    "collapsed": false,
    "ExecuteTime": {
     "end_time": "2024-10-31T12:24:50.909418Z",
     "start_time": "2024-10-31T12:24:50.781952Z"
    }
   },
   "id": "76ba75b5aa44e0fb",
   "outputs": [
    {
     "name": "stdout",
     "output_type": "stream",
     "text": [
      "Confusion Matrix, without normalization\n",
      "[[43  3  1  0  6  1  0]\n",
      " [ 0 53  0  0  0  1  0]\n",
      " [ 6  0 41  0  4  1  2]\n",
      " [ 0  0  1 44  6  3  0]\n",
      " [ 4  3  0  8 34  5  0]\n",
      " [ 0  8  3  4  3 31  5]\n",
      " [ 3  2  0  1  1 28 19]]\n"
     ]
    },
    {
     "data": {
      "text/plain": [
       "<Figure size 1000x700 with 2 Axes>"
      ],
      "image/png": "[encoded data removed]"
     },
     "metadata": {},
     "output_type": "display_data"
    }
   ],
   "execution_count": 15
  },
  {
   "cell_type": "code",
   "source": [],
   "metadata": {
    "collapsed": false,
    "ExecuteTime": {
     "end_time": "2024-10-31T12:24:50.946366Z",
     "start_time": "2024-10-31T12:24:50.945210Z"
    }
   },
   "id": "e79d3ec9fb79feda",
   "outputs": [],
   "execution_count": null
  }
 ],
 "metadata": {
  "kernelspec": {
   "display_name": "Python 3",
   "language": "python",
   "name": "python3"
  },
  "language_info": {
   "codemirror_mode": {
    "name": "ipython",
    "version": 2
   },
   "file_extension": ".py",
   "mimetype": "text/x-python",
   "name": "python",
   "nbconvert_exporter": "python",
   "pygments_lexer": "ipython2",
   "version": "2.7.6"
  }
 },
 "nbformat": 4,
 "nbformat_minor": 5
}
