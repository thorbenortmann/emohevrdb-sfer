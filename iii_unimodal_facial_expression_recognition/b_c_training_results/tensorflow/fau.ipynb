{
 "cells": [
  {
   "cell_type": "markdown",
   "source": [
    "# Facial Action Unit Activations"
   ],
   "metadata": {
    "collapsed": false
   },
   "id": "cb3580b964bfd5e5"
  },
  {
   "cell_type": "markdown",
   "source": [
    "## Prepare Data"
   ],
   "metadata": {
    "collapsed": false
   },
   "id": "6a9a214e26b0416e"
  },
  {
   "cell_type": "code",
   "source": [
    "from pathlib import Path\n",
    "import numpy as np\n",
    "import random\n",
    "import tensorflow as tf\n",
    "\n",
    "\n",
    "name_of_this_notebook = 'fau.ipynb'\n",
    "\n",
    "BATCH_SIZE = 32\n",
    "LR = 1e-3\n",
    "\n",
    "SEED = 42\n",
    "random.seed(SEED)\n",
    "np.random.seed(SEED)\n",
    "tf.random.set_seed(SEED)\n",
    "\n",
    "experiment_name = f'batch-{BATCH_SIZE}-lr-{LR:.0e}'\n",
    "\n",
    "dataset_path = Path(r'/home/thor/Desktop/datasets/emoji-hero-multimodal/facial_action_unit_activations')"
   ],
   "metadata": {
    "collapsed": false,
    "ExecuteTime": {
     "end_time": "2024-10-31T16:48:05.860777Z",
     "start_time": "2024-10-31T16:48:04.837323Z"
    }
   },
   "id": "e4dbeea4c1ef309b",
   "outputs": [
    {
     "name": "stderr",
     "output_type": "stream",
     "text": [
      "2024-10-31 17:48:04.945555: I tensorflow/core/util/port.cc:113] oneDNN custom operations are on. You may see slightly different numerical results due to floating-point round-off errors from different computation orders. To turn them off, set the environment variable `TF_ENABLE_ONEDNN_OPTS=0`.\n",
      "2024-10-31 17:48:04.966576: E external/local_xla/xla/stream_executor/cuda/cuda_dnn.cc:9261] Unable to register cuDNN factory: Attempting to register factory for plugin cuDNN when one has already been registered\n",
      "2024-10-31 17:48:04.966594: E external/local_xla/xla/stream_executor/cuda/cuda_fft.cc:607] Unable to register cuFFT factory: Attempting to register factory for plugin cuFFT when one has already been registered\n",
      "2024-10-31 17:48:04.967167: E external/local_xla/xla/stream_executor/cuda/cuda_blas.cc:1515] Unable to register cuBLAS factory: Attempting to register factory for plugin cuBLAS when one has already been registered\n",
      "2024-10-31 17:48:04.970812: I tensorflow/core/platform/cpu_feature_guard.cc:182] This TensorFlow binary is optimized to use available CPU instructions in performance-critical operations.\n",
      "To enable the following instructions: AVX2 AVX_VNNI FMA, in other operations, rebuild TensorFlow with the appropriate compiler flags.\n",
      "2024-10-31 17:48:05.434571: W tensorflow/compiler/tf2tensorrt/utils/py_utils.cc:38] TF-TRT Warning: Could not find TensorRT\n"
     ]
    }
   ],
   "execution_count": 1
  },
  {
   "cell_type": "code",
   "source": [
    "import pandas as pd\n",
    "\n",
    "train_df = pd.read_csv(str(dataset_path / 'training_set.csv'))\n",
    "val_df = pd.read_csv(str(dataset_path / 'validation_set.csv'))\n",
    "test_df = pd.read_csv(str(dataset_path / 'test_set.csv'))\n",
    "\n",
    "\n",
    "def prepare_data(df):\n",
    "    X = df.iloc[:, 2:-1].values  # All columns except timestamp, participant_id, and label\n",
    "    y = df.iloc[:, -1].values  # The last column is the label\n",
    "    return X, y\n",
    "\n",
    "\n",
    "X_train, y_train = prepare_data(train_df)\n",
    "X_val, y_val = prepare_data(val_df)\n",
    "X_test, y_test = prepare_data(test_df)"
   ],
   "metadata": {
    "collapsed": false,
    "ExecuteTime": {
     "end_time": "2024-10-31T16:48:05.880247Z",
     "start_time": "2024-10-31T16:48:05.862759Z"
    }
   },
   "id": "65a9dac7488dc118",
   "outputs": [],
   "execution_count": 2
  },
  {
   "cell_type": "code",
   "source": [
    "import tensorflow as tf\n",
    "\n",
    "\n",
    "def create_dataset(X, y, batch_size, reshuffle_each_iteration):\n",
    "    dataset = tf.data.Dataset.from_tensor_slices((X, y))\n",
    "    dataset = dataset.shuffle(len(X), seed=SEED, reshuffle_each_iteration=reshuffle_each_iteration).batch(batch_size)\n",
    "    return dataset\n",
    "\n",
    "\n",
    "train_dataset = create_dataset(X_train, y_train, BATCH_SIZE, True)\n",
    "val_dataset = create_dataset(X_val, y_val, BATCH_SIZE, False)\n",
    "test_dataset = create_dataset(X_test, y_test, BATCH_SIZE, False)"
   ],
   "metadata": {
    "collapsed": false,
    "ExecuteTime": {
     "end_time": "2024-10-31T16:48:05.965780Z",
     "start_time": "2024-10-31T16:48:05.933280Z"
    }
   },
   "id": "ec78271a906908ae",
   "outputs": [
    {
     "name": "stderr",
     "output_type": "stream",
     "text": [
      "2024-10-31 17:48:05.937944: E external/local_xla/xla/stream_executor/cuda/cuda_driver.cc:274] failed call to cuInit: CUDA_ERROR_UNKNOWN: unknown error\n",
      "2024-10-31 17:48:05.937957: I external/local_xla/xla/stream_executor/cuda/cuda_diagnostics.cc:129] retrieving CUDA diagnostic information for host: ubu-pcgh\n",
      "2024-10-31 17:48:05.937959: I external/local_xla/xla/stream_executor/cuda/cuda_diagnostics.cc:136] hostname: ubu-pcgh\n",
      "2024-10-31 17:48:05.938039: I external/local_xla/xla/stream_executor/cuda/cuda_diagnostics.cc:159] libcuda reported version is: 535.183.1\n",
      "2024-10-31 17:48:05.938046: I external/local_xla/xla/stream_executor/cuda/cuda_diagnostics.cc:163] kernel reported version is: 535.183.1\n",
      "2024-10-31 17:48:05.938048: I external/local_xla/xla/stream_executor/cuda/cuda_diagnostics.cc:241] kernel version seems to match DSO: 535.183.1\n"
     ]
    }
   ],
   "execution_count": 3
  },
  {
   "cell_type": "markdown",
   "source": [
    "### Prepare Class Frequencies for Loss Function "
   ],
   "metadata": {
    "collapsed": false
   },
   "id": "aded15db00d05d2b"
  },
  {
   "cell_type": "code",
   "source": [
    "id_to_emotion = {\n",
    "    0: 'Neutral',\n",
    "    1: 'Happy',\n",
    "    2: 'Sad',\n",
    "    3: 'Surprise',\n",
    "    4: 'Fear',\n",
    "    5: 'Disgust',\n",
    "    6: 'Anger',\n",
    "}\n",
    "\n",
    "class_frequencies = train_df['Label'].value_counts()\n",
    "print(f'--- Training Set Class Frequencies ---')\n",
    "for class_id, frequency in class_frequencies.items():\n",
    "    print(f'{class_id} - {id_to_emotion[class_id]:<9} : {frequency:>8}')\n",
    "\n",
    "inverse_class_frequencies = 1 / class_frequencies\n",
    "normalized_inverse_class_frequencies = inverse_class_frequencies / inverse_class_frequencies.sum()\n",
    "class_weights = normalized_inverse_class_frequencies.to_dict()\n",
    "print(f'\\nClass Weights:\\n {class_weights}')"
   ],
   "metadata": {
    "collapsed": false,
    "ExecuteTime": {
     "end_time": "2024-10-31T16:48:05.983903Z",
     "start_time": "2024-10-31T16:48:05.981195Z"
    }
   },
   "id": "e77d333c1c34ba63",
   "outputs": [
    {
     "name": "stdout",
     "output_type": "stream",
     "text": [
      "--- Training Set Class Frequencies ---\n",
      "0 - Neutral   :      197\n",
      "1 - Happy     :      191\n",
      "3 - Surprise  :      172\n",
      "2 - Sad       :      131\n",
      "4 - Fear      :      105\n",
      "5 - Disgust   :      102\n",
      "6 - Anger     :       66\n",
      "\n",
      "Class Weights:\n",
      " {0: 0.08716123123128974, 1: 0.08989928037991667, 3: 0.09983001484048884, 2: 0.13107452330201588, 4: 0.16353107192918173, 5: 0.16834080933886353, 6: 0.26016306897824365}\n"
     ]
    }
   ],
   "execution_count": 4
  },
  {
   "cell_type": "markdown",
   "source": [
    "## Define Network Architecture"
   ],
   "metadata": {
    "collapsed": false
   },
   "id": "d2800cc5d1c5fe66"
  },
  {
   "cell_type": "code",
   "source": [
    "from tensorflow.keras.layers import Input, Dense, Dropout\n",
    "from tensorflow.keras.models import Model\n",
    "\n",
    "fau_input = Input(shape=(63,), name='fau_input')\n",
    "x = Dense(128, activation='relu')(fau_input)\n",
    "x = Dropout(0.2, name='fau_dropout_1')(x)\n",
    "x = Dense(64, activation='relu')(x)\n",
    "x = Dropout(0.2, name='fau_dropout_2')(x)\n",
    "fau_output = Dense(7, activation='softmax')(x)\n",
    "\n",
    "fau_model = Model(inputs=fau_input, outputs=fau_output)\n",
    "fau_model.summary()"
   ],
   "metadata": {
    "collapsed": false,
    "ExecuteTime": {
     "end_time": "2024-10-31T16:48:06.072156Z",
     "start_time": "2024-10-31T16:48:06.025961Z"
    }
   },
   "id": "d55ccfae75f83991",
   "outputs": [
    {
     "name": "stdout",
     "output_type": "stream",
     "text": [
      "Model: \"model\"\n",
      "_________________________________________________________________\n",
      " Layer (type)                Output Shape              Param #   \n",
      "=================================================================\n",
      " fau_input (InputLayer)      [(None, 63)]              0         \n",
      "                                                                 \n",
      " dense (Dense)               (None, 128)               8192      \n",
      "                                                                 \n",
      " fau_dropout_1 (Dropout)     (None, 128)               0         \n",
      "                                                                 \n",
      " dense_1 (Dense)             (None, 64)                8256      \n",
      "                                                                 \n",
      " fau_dropout_2 (Dropout)     (None, 64)                0         \n",
      "                                                                 \n",
      " dense_2 (Dense)             (None, 7)                 455       \n",
      "                                                                 \n",
      "=================================================================\n",
      "Total params: 16903 (66.03 KB)\n",
      "Trainable params: 16903 (66.03 KB)\n",
      "Non-trainable params: 0 (0.00 Byte)\n",
      "_________________________________________________________________\n"
     ]
    }
   ],
   "execution_count": 5
  },
  {
   "cell_type": "markdown",
   "source": [
    "## Train the Network"
   ],
   "metadata": {
    "collapsed": false
   },
   "id": "dd2188c8655aeda7"
  },
  {
   "cell_type": "code",
   "source": [
    "from datetime import datetime\n",
    "from tensorflow.keras.optimizers import Adam\n",
    "from tensorflow.keras.callbacks import ModelCheckpoint, ReduceLROnPlateau, EarlyStopping\n",
    "\n",
    "optimizer = Adam(learning_rate=LR)\n",
    "\n",
    "timestamp = datetime.now().strftime(\"%Y%m%d-%H%M\")\n",
    "checkpoint_dir = Path(f'{timestamp}-checkpoint-{experiment_name}')\n",
    "model_checkpoint_callback = ModelCheckpoint(filepath=f'{checkpoint_dir / \"fau_model\"}.keras',\n",
    "                                            save_weights_only=False,\n",
    "                                            monitor='val_accuracy',\n",
    "                                            mode='max',\n",
    "                                            save_best_only=True)\n",
    "early_stopping_callback = EarlyStopping(monitor='val_accuracy', mode='max', patience=20, restore_best_weights=True)\n",
    "reduce_lr_callback = ReduceLROnPlateau(monitor='val_accuracy', mode='max', factor=0.2, patience=8, min_lr=1e-6)\n",
    "\n",
    "callbacks = [model_checkpoint_callback, early_stopping_callback, reduce_lr_callback]\n",
    "\n",
    "fau_model.compile(optimizer=optimizer, loss='sparse_categorical_crossentropy', metrics=['accuracy'])"
   ],
   "metadata": {
    "collapsed": false,
    "ExecuteTime": {
     "end_time": "2024-10-31T16:48:06.121006Z",
     "start_time": "2024-10-31T16:48:06.110816Z"
    }
   },
   "id": "3004cb85dbee053a",
   "outputs": [],
   "execution_count": 6
  },
  {
   "cell_type": "code",
   "source": [
    "history = fau_model.fit(train_dataset,\n",
    "                        validation_data=val_dataset,\n",
    "                        class_weight=class_weights,\n",
    "                        callbacks=callbacks,\n",
    "                        epochs=200)"
   ],
   "metadata": {
    "collapsed": false,
    "ExecuteTime": {
     "end_time": "2024-10-31T16:48:08.202862Z",
     "start_time": "2024-10-31T16:48:06.156389Z"
    }
   },
   "id": "26ed3b78441a21d6",
   "outputs": [
    {
     "name": "stdout",
     "output_type": "stream",
     "text": [
      "Epoch 1/200\n",
      "31/31 [==============================] - 0s 4ms/step - loss: 0.2295 - accuracy: 0.3558 - val_loss: 1.5907 - val_accuracy: 0.5870 - lr: 0.0010\n",
      "Epoch 2/200\n",
      "31/31 [==============================] - 0s 2ms/step - loss: 0.1822 - accuracy: 0.6131 - val_loss: 1.1043 - val_accuracy: 0.6805 - lr: 0.0010\n",
      "Epoch 3/200\n",
      "31/31 [==============================] - 0s 1ms/step - loss: 0.1355 - accuracy: 0.7324 - val_loss: 0.8234 - val_accuracy: 0.7325 - lr: 0.0010\n",
      "Epoch 4/200\n",
      "31/31 [==============================] - 0s 1ms/step - loss: 0.1082 - accuracy: 0.7728 - val_loss: 0.7189 - val_accuracy: 0.7403 - lr: 0.0010\n",
      "Epoch 5/200\n",
      "31/31 [==============================] - 0s 1ms/step - loss: 0.0977 - accuracy: 0.7863 - val_loss: 0.6521 - val_accuracy: 0.7429 - lr: 0.0010\n",
      "Epoch 6/200\n",
      "31/31 [==============================] - 0s 1ms/step - loss: 0.0899 - accuracy: 0.7925 - val_loss: 0.6203 - val_accuracy: 0.7688 - lr: 0.0010\n",
      "Epoch 7/200\n",
      "31/31 [==============================] - 0s 874us/step - loss: 0.0822 - accuracy: 0.8050 - val_loss: 0.6055 - val_accuracy: 0.7429 - lr: 0.0010\n",
      "Epoch 8/200\n",
      "31/31 [==============================] - 0s 1ms/step - loss: 0.0819 - accuracy: 0.8071 - val_loss: 0.5851 - val_accuracy: 0.7714 - lr: 0.0010\n",
      "Epoch 9/200\n",
      "31/31 [==============================] - 0s 1ms/step - loss: 0.0803 - accuracy: 0.8050 - val_loss: 0.5579 - val_accuracy: 0.7870 - lr: 0.0010\n",
      "Epoch 10/200\n",
      "31/31 [==============================] - 0s 941us/step - loss: 0.0754 - accuracy: 0.8185 - val_loss: 0.5571 - val_accuracy: 0.7818 - lr: 0.0010\n",
      "Epoch 11/200\n",
      "31/31 [==============================] - 0s 1ms/step - loss: 0.0693 - accuracy: 0.8371 - val_loss: 0.5426 - val_accuracy: 0.7922 - lr: 0.0010\n",
      "Epoch 12/200\n",
      "31/31 [==============================] - 0s 896us/step - loss: 0.0710 - accuracy: 0.8288 - val_loss: 0.5490 - val_accuracy: 0.7896 - lr: 0.0010\n",
      "Epoch 13/200\n",
      "31/31 [==============================] - 0s 857us/step - loss: 0.0663 - accuracy: 0.8216 - val_loss: 0.5354 - val_accuracy: 0.7922 - lr: 0.0010\n",
      "Epoch 14/200\n",
      "31/31 [==============================] - 0s 897us/step - loss: 0.0672 - accuracy: 0.8330 - val_loss: 0.5370 - val_accuracy: 0.7870 - lr: 0.0010\n",
      "Epoch 15/200\n",
      "31/31 [==============================] - 0s 1ms/step - loss: 0.0649 - accuracy: 0.8340 - val_loss: 0.5378 - val_accuracy: 0.7974 - lr: 0.0010\n",
      "Epoch 16/200\n",
      "31/31 [==============================] - 0s 1ms/step - loss: 0.0657 - accuracy: 0.8371 - val_loss: 0.5301 - val_accuracy: 0.8000 - lr: 0.0010\n",
      "Epoch 17/200\n",
      "31/31 [==============================] - 0s 1ms/step - loss: 0.0633 - accuracy: 0.8288 - val_loss: 0.5205 - val_accuracy: 0.8026 - lr: 0.0010\n",
      "Epoch 18/200\n",
      "31/31 [==============================] - 0s 1ms/step - loss: 0.0614 - accuracy: 0.8392 - val_loss: 0.5241 - val_accuracy: 0.8052 - lr: 0.0010\n",
      "Epoch 19/200\n",
      "31/31 [==============================] - 0s 856us/step - loss: 0.0607 - accuracy: 0.8434 - val_loss: 0.5175 - val_accuracy: 0.8052 - lr: 0.0010\n",
      "Epoch 20/200\n",
      "31/31 [==============================] - 0s 906us/step - loss: 0.0598 - accuracy: 0.8454 - val_loss: 0.5100 - val_accuracy: 0.8000 - lr: 0.0010\n",
      "Epoch 21/200\n",
      "31/31 [==============================] - 0s 1ms/step - loss: 0.0594 - accuracy: 0.8496 - val_loss: 0.5104 - val_accuracy: 0.8078 - lr: 0.0010\n",
      "Epoch 22/200\n",
      "31/31 [==============================] - 0s 902us/step - loss: 0.0579 - accuracy: 0.8444 - val_loss: 0.5160 - val_accuracy: 0.7974 - lr: 0.0010\n",
      "Epoch 23/200\n",
      "31/31 [==============================] - 0s 1ms/step - loss: 0.0557 - accuracy: 0.8558 - val_loss: 0.5205 - val_accuracy: 0.8156 - lr: 0.0010\n",
      "Epoch 24/200\n",
      "31/31 [==============================] - 0s 863us/step - loss: 0.0550 - accuracy: 0.8620 - val_loss: 0.5131 - val_accuracy: 0.8078 - lr: 0.0010\n",
      "Epoch 25/200\n",
      "31/31 [==============================] - 0s 901us/step - loss: 0.0536 - accuracy: 0.8693 - val_loss: 0.5131 - val_accuracy: 0.8104 - lr: 0.0010\n",
      "Epoch 26/200\n",
      "31/31 [==============================] - 0s 892us/step - loss: 0.0519 - accuracy: 0.8641 - val_loss: 0.5153 - val_accuracy: 0.7974 - lr: 0.0010\n",
      "Epoch 27/200\n",
      "31/31 [==============================] - 0s 896us/step - loss: 0.0524 - accuracy: 0.8724 - val_loss: 0.5070 - val_accuracy: 0.8130 - lr: 0.0010\n",
      "Epoch 28/200\n",
      "31/31 [==============================] - 0s 940us/step - loss: 0.0533 - accuracy: 0.8527 - val_loss: 0.5380 - val_accuracy: 0.7766 - lr: 0.0010\n",
      "Epoch 29/200\n",
      "31/31 [==============================] - 0s 895us/step - loss: 0.0532 - accuracy: 0.8641 - val_loss: 0.5187 - val_accuracy: 0.8130 - lr: 0.0010\n",
      "Epoch 30/200\n",
      "31/31 [==============================] - 0s 872us/step - loss: 0.0497 - accuracy: 0.8755 - val_loss: 0.5160 - val_accuracy: 0.7974 - lr: 0.0010\n",
      "Epoch 31/200\n",
      "31/31 [==============================] - 0s 867us/step - loss: 0.0495 - accuracy: 0.8714 - val_loss: 0.5077 - val_accuracy: 0.8156 - lr: 0.0010\n",
      "Epoch 32/200\n",
      "31/31 [==============================] - 0s 981us/step - loss: 0.0472 - accuracy: 0.8734 - val_loss: 0.5109 - val_accuracy: 0.8104 - lr: 2.0000e-04\n",
      "Epoch 33/200\n",
      "31/31 [==============================] - 0s 1ms/step - loss: 0.0473 - accuracy: 0.8662 - val_loss: 0.5111 - val_accuracy: 0.8104 - lr: 2.0000e-04\n",
      "Epoch 34/200\n",
      "31/31 [==============================] - 0s 901us/step - loss: 0.0470 - accuracy: 0.8724 - val_loss: 0.5117 - val_accuracy: 0.8130 - lr: 2.0000e-04\n",
      "Epoch 35/200\n",
      "31/31 [==============================] - 0s 870us/step - loss: 0.0487 - accuracy: 0.8734 - val_loss: 0.5118 - val_accuracy: 0.8130 - lr: 2.0000e-04\n",
      "Epoch 36/200\n",
      "31/31 [==============================] - 0s 879us/step - loss: 0.0451 - accuracy: 0.8817 - val_loss: 0.5125 - val_accuracy: 0.8078 - lr: 2.0000e-04\n",
      "Epoch 37/200\n",
      "31/31 [==============================] - 0s 893us/step - loss: 0.0473 - accuracy: 0.8662 - val_loss: 0.5108 - val_accuracy: 0.8130 - lr: 2.0000e-04\n",
      "Epoch 38/200\n",
      "31/31 [==============================] - 0s 1ms/step - loss: 0.0461 - accuracy: 0.8745 - val_loss: 0.5146 - val_accuracy: 0.8104 - lr: 2.0000e-04\n",
      "Epoch 39/200\n",
      "31/31 [==============================] - 0s 919us/step - loss: 0.0450 - accuracy: 0.8828 - val_loss: 0.5169 - val_accuracy: 0.8104 - lr: 2.0000e-04\n",
      "Epoch 40/200\n",
      "31/31 [==============================] - 0s 1ms/step - loss: 0.0453 - accuracy: 0.8786 - val_loss: 0.5169 - val_accuracy: 0.8130 - lr: 4.0000e-05\n",
      "Epoch 41/200\n",
      "31/31 [==============================] - 0s 984us/step - loss: 0.0481 - accuracy: 0.8734 - val_loss: 0.5165 - val_accuracy: 0.8104 - lr: 4.0000e-05\n",
      "Epoch 42/200\n",
      "31/31 [==============================] - 0s 1ms/step - loss: 0.0443 - accuracy: 0.8734 - val_loss: 0.5155 - val_accuracy: 0.8130 - lr: 4.0000e-05\n",
      "Epoch 43/200\n",
      "31/31 [==============================] - 0s 1ms/step - loss: 0.0474 - accuracy: 0.8703 - val_loss: 0.5158 - val_accuracy: 0.8104 - lr: 4.0000e-05\n"
     ]
    }
   ],
   "execution_count": 7
  },
  {
   "cell_type": "code",
   "source": [
    "import matplotlib.pyplot as plt\n",
    "\n",
    "\n",
    "def plot_and_save_combined_history(hist, checkpoint_dir):\n",
    "    acc = hist.history[\"accuracy\"]\n",
    "    val_acc = hist.history[\"val_accuracy\"]\n",
    "\n",
    "    epochs = range(1, len(acc) + 1)\n",
    "\n",
    "    plt.plot(epochs, acc, label=\"training\")\n",
    "    plt.plot(epochs, val_acc, label=\"validation\")\n",
    "    plt.title(\"model accuracy\")\n",
    "    plt.ylabel(\"accuracy\")\n",
    "    plt.xlabel(\"epoch\")\n",
    "    plt.legend(loc=\"upper left\")\n",
    "\n",
    "    plt.savefig(str(checkpoint_dir / 'training_history.png'))\n",
    "\n",
    "    plt.show()\n",
    "\n",
    "\n",
    "plot_and_save_combined_history(history, checkpoint_dir)"
   ],
   "metadata": {
    "collapsed": false,
    "ExecuteTime": {
     "end_time": "2024-10-31T16:48:08.334910Z",
     "start_time": "2024-10-31T16:48:08.218968Z"
    }
   },
   "id": "5741e3ec4fc2b951",
   "outputs": [
    {
     "data": {
      "text/plain": [
       "<Figure size 640x480 with 1 Axes>"
      ],
      "image/png": "[encoded data removed]"
     },
     "metadata": {},
     "output_type": "display_data"
    }
   ],
   "execution_count": 8
  },
  {
   "cell_type": "markdown",
   "source": [
    "## Evaluate Model"
   ],
   "metadata": {
    "collapsed": false
   },
   "id": "86cf0bdfd62ff1a7"
  },
  {
   "cell_type": "code",
   "source": [
    "from tensorflow.keras.models import load_model\n",
    "\n",
    "best_checkpoint = str(checkpoint_dir / \"fau_model.keras\")\n",
    "best_model = load_model(best_checkpoint)"
   ],
   "metadata": {
    "collapsed": false,
    "ExecuteTime": {
     "end_time": "2024-10-31T16:48:08.387558Z",
     "start_time": "2024-10-31T16:48:08.351110Z"
    }
   },
   "id": "d0d5bff6f94aeb82",
   "outputs": [],
   "execution_count": 9
  },
  {
   "cell_type": "code",
   "source": [
    "val_loss, val_acc = best_model.evaluate(val_dataset)\n",
    "print(f\"Validation accuracy: {val_acc}\\nValidation loss: {val_loss}\")"
   ],
   "metadata": {
    "collapsed": false,
    "ExecuteTime": {
     "end_time": "2024-10-31T16:48:08.494067Z",
     "start_time": "2024-10-31T16:48:08.408875Z"
    }
   },
   "id": "c8590356b348a978",
   "outputs": [
    {
     "name": "stdout",
     "output_type": "stream",
     "text": [
      "13/13 [==============================] - 0s 692us/step - loss: 0.5205 - accuracy: 0.8156\n",
      "Validation accuracy: 0.8155844211578369\n",
      "Validation loss: 0.5204571485519409\n"
     ]
    }
   ],
   "execution_count": 10
  },
  {
   "cell_type": "code",
   "source": [
    "test_loss, test_acc = best_model.evaluate(test_dataset)\n",
    "print(f\"Test accuracy: {test_acc}\")"
   ],
   "metadata": {
    "collapsed": false,
    "ExecuteTime": {
     "end_time": "2024-10-31T16:48:08.531130Z",
     "start_time": "2024-10-31T16:48:08.513204Z"
    }
   },
   "id": "cb6a22c3c15f64b5",
   "outputs": [
    {
     "name": "stdout",
     "output_type": "stream",
     "text": [
      "12/12 [==============================] - 0s 775us/step - loss: 0.9676 - accuracy: 0.7169\n",
      "Test accuracy: 0.7169312238693237\n"
     ]
    }
   ],
   "execution_count": 11
  },
  {
   "cell_type": "code",
   "source": [
    "import numpy as np\n",
    "from sklearn.metrics import classification_report\n",
    "\n",
    "y_pred_vectors = best_model.predict(test_dataset)\n",
    "y_pred = np.argmax(y_pred_vectors, axis=1)\n",
    "y_true = np.concatenate([y for _, y in test_dataset], axis=0)\n",
    "\n",
    "report = classification_report(y_true, y_pred, target_names=id_to_emotion.values(), digits=4)\n",
    "print(report)"
   ],
   "metadata": {
    "collapsed": false,
    "ExecuteTime": {
     "end_time": "2024-10-31T16:48:08.714090Z",
     "start_time": "2024-10-31T16:48:08.555380Z"
    }
   },
   "id": "cc144733c59046a4",
   "outputs": [
    {
     "name": "stdout",
     "output_type": "stream",
     "text": [
      "12/12 [==============================] - 0s 618us/step\n",
      "              precision    recall  f1-score   support\n",
      "\n",
      "     Neutral     0.6923    0.8333    0.7563        54\n",
      "       Happy     0.7910    0.9815    0.8760        54\n",
      "         Sad     0.9231    0.6667    0.7742        54\n",
      "    Surprise     0.7705    0.8704    0.8174        54\n",
      "        Fear     0.6458    0.5741    0.6078        54\n",
      "     Disgust     0.5410    0.6111    0.5739        54\n",
      "       Anger     0.7027    0.4815    0.5714        54\n",
      "\n",
      "    accuracy                         0.7169       378\n",
      "   macro avg     0.7238    0.7169    0.7110       378\n",
      "weighted avg     0.7238    0.7169    0.7110       378\n",
      "\n"
     ]
    }
   ],
   "execution_count": 12
  },
  {
   "cell_type": "code",
   "source": [
    "from sklearn.metrics import confusion_matrix\n",
    "import seaborn as sns\n",
    "\n",
    "\n",
    "def plot_confusion_matrix(y_true, y_pred):\n",
    "    class_names = id_to_emotion.values()\n",
    "\n",
    "    cm = confusion_matrix(y_true, y_pred)\n",
    "    print(cm)\n",
    "\n",
    "    fig = plt.figure(figsize=(10, 8))\n",
    "    sns.heatmap(cm, annot=True, fmt='d', cmap='Blues', xticklabels=class_names, yticklabels=class_names)\n",
    "    plt.title('Confusion Matrix')\n",
    "    plt.xlabel('Predicted Class')\n",
    "    plt.ylabel('Actual Class')\n",
    "    plt.tight_layout()\n",
    "    plt.show()\n",
    "\n",
    "    return fig\n",
    "\n",
    "\n",
    "cm_figure = plot_confusion_matrix(y_true, y_pred)"
   ],
   "metadata": {
    "collapsed": false,
    "ExecuteTime": {
     "end_time": "2024-10-31T16:48:08.868241Z",
     "start_time": "2024-10-31T16:48:08.729712Z"
    }
   },
   "id": "e15236d97be39144",
   "outputs": [
    {
     "name": "stdout",
     "output_type": "stream",
     "text": [
      "[[45  2  1  0  5  1  0]\n",
      " [ 0 53  0  0  1  0  0]\n",
      " [ 8  0 36  0  2  1  7]\n",
      " [ 2  0  0 47  4  1  0]\n",
      " [ 6  3  0 11 31  3  0]\n",
      " [ 0  8  2  3  4 33  4]\n",
      " [ 4  1  0  0  1 22 26]]\n"
     ]
    },
    {
     "data": {
      "text/plain": [
       "<Figure size 1000x800 with 2 Axes>"
      ],
      "image/png": "[encoded data removed]"
     },
     "metadata": {},
     "output_type": "display_data"
    }
   ],
   "execution_count": 13
  },
  {
   "cell_type": "code",
   "source": [
    "def save_evaluation_results(report, cm_figure, checkpoint_dir):\n",
    "    with (checkpoint_dir / 'classification_report.txt').open(mode='w') as f:\n",
    "        f.write(report)\n",
    "    cm_figure.savefig(str(checkpoint_dir / 'confusion_matrix.png'))\n",
    "\n",
    "\n",
    "save_evaluation_results(report, cm_figure, checkpoint_dir)"
   ],
   "metadata": {
    "collapsed": false,
    "ExecuteTime": {
     "end_time": "2024-10-31T16:48:08.944279Z",
     "start_time": "2024-10-31T16:48:08.887122Z"
    }
   },
   "id": "5c368f9bf62afcd1",
   "outputs": [],
   "execution_count": 14
  },
  {
   "cell_type": "code",
   "source": [
    "import time\n",
    "\n",
    "time.sleep(5)"
   ],
   "metadata": {
    "collapsed": false,
    "ExecuteTime": {
     "end_time": "2024-10-31T16:48:13.961214Z",
     "start_time": "2024-10-31T16:48:08.959680Z"
    }
   },
   "id": "26b58a3e8ebca4e6",
   "outputs": [],
   "execution_count": 15
  },
  {
   "cell_type": "code",
   "source": [
    "def add_test_acc_to_checkpoint_dir_name(checkpoint_dir, val_acc, test_acc):\n",
    "    new_name = checkpoint_dir.name + f'_val_{str(val_acc)[2:6]}_test_{str(test_acc)[2:6]}'\n",
    "    new_path = checkpoint_dir.parent / new_name\n",
    "    checkpoint_dir.rename(new_path)\n",
    "    return new_path\n",
    "\n",
    "\n",
    "new_checkpoint_dir = add_test_acc_to_checkpoint_dir_name(checkpoint_dir, val_acc, test_acc)"
   ],
   "metadata": {
    "collapsed": false,
    "ExecuteTime": {
     "end_time": "2024-10-31T16:48:13.980201Z",
     "start_time": "2024-10-31T16:48:13.978299Z"
    }
   },
   "id": "c1274a5303429257",
   "outputs": [],
   "execution_count": 16
  },
  {
   "cell_type": "code",
   "source": [
    "time.sleep(5)"
   ],
   "metadata": {
    "collapsed": false,
    "ExecuteTime": {
     "end_time": "2024-10-31T16:48:19.008776Z",
     "start_time": "2024-10-31T16:48:13.995135Z"
    }
   },
   "id": "35272e79289002d4",
   "outputs": [],
   "execution_count": 17
  },
  {
   "cell_type": "code",
   "source": [
    "import shutil\n",
    "\n",
    "shutil.copy2((Path() / name_of_this_notebook), (new_checkpoint_dir / name_of_this_notebook))"
   ],
   "metadata": {
    "collapsed": false,
    "ExecuteTime": {
     "end_time": "2024-10-31T16:48:19.026912Z",
     "start_time": "2024-10-31T16:48:19.024761Z"
    }
   },
   "id": "e248052f55d3c722",
   "outputs": [
    {
     "data": {
      "text/plain": [
       "PosixPath('20241031-1748-checkpoint-batch-32-lr-1e-03_val_8155_test_7169/fau.ipynb')"
      ]
     },
     "execution_count": 18,
     "metadata": {},
     "output_type": "execute_result"
    }
   ],
   "execution_count": 18
  },
  {
   "metadata": {
    "ExecuteTime": {
     "end_time": "2024-10-31T16:48:19.068949Z",
     "start_time": "2024-10-31T16:48:19.067619Z"
    }
   },
   "cell_type": "code",
   "source": "",
   "id": "c77e0fc92db748fc",
   "outputs": [],
   "execution_count": null
  }
 ],
 "metadata": {
  "kernelspec": {
   "display_name": "Python 3",
   "language": "python",
   "name": "python3"
  },
  "language_info": {
   "codemirror_mode": {
    "name": "ipython",
    "version": 2
   },
   "file_extension": ".py",
   "mimetype": "text/x-python",
   "name": "python",
   "nbconvert_exporter": "python",
   "pygments_lexer": "ipython2",
   "version": "2.7.6"
  }
 },
 "nbformat": 4,
 "nbformat_minor": 5
}
