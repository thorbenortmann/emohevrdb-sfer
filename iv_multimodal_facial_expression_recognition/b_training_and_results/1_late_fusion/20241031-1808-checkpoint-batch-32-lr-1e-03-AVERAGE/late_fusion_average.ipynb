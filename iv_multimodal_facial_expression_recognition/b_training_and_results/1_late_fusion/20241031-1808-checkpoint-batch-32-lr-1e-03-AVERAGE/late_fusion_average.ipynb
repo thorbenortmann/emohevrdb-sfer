{
 "cells": [
  {
   "cell_type": "markdown",
   "source": [
    "# Multimodal\n",
    "Combining images with facial action unit activations. "
   ],
   "metadata": {
    "collapsed": false
   },
   "id": "cb3580b964bfd5e5"
  },
  {
   "metadata": {
    "collapsed": false,
    "ExecuteTime": {
     "end_time": "2024-12-18T15:31:55.986871Z",
     "start_time": "2024-12-18T15:31:55.984763Z"
    }
   },
   "cell_type": "code",
   "source": [
    "name_of_this_notebook = 'late_fusion_average.ipynb'\n",
    "\n",
    "BATCH_SIZE = 32\n",
    "LR = 1e-3\n",
    "\n",
    "experiment_name = f'batch-{BATCH_SIZE}-lr-{LR:.0e}-AVERAGE'\n"
   ],
   "id": "5338febc41bcd0ad",
   "outputs": [],
   "execution_count": 1
  },
  {
   "metadata": {
    "ExecuteTime": {
     "end_time": "2024-12-18T15:31:57.021040Z",
     "start_time": "2024-12-18T15:31:56.031978Z"
    }
   },
   "cell_type": "code",
   "source": [
    "import random\n",
    "import numpy as np\n",
    "import tensorflow as tf\n",
    "\n",
    "SEED = 42\n",
    "random.seed(SEED)\n",
    "np.random.seed(SEED)\n",
    "tf.random.set_seed(SEED)"
   ],
   "id": "7d8740bdeac4888",
   "outputs": [
    {
     "name": "stderr",
     "output_type": "stream",
     "text": [
      "2024-12-18 16:31:56.141170: I tensorflow/core/util/port.cc:113] oneDNN custom operations are on. You may see slightly different numerical results due to floating-point round-off errors from different computation orders. To turn them off, set the environment variable `TF_ENABLE_ONEDNN_OPTS=0`.\n",
      "2024-12-18 16:31:56.162455: E external/local_xla/xla/stream_executor/cuda/cuda_dnn.cc:9261] Unable to register cuDNN factory: Attempting to register factory for plugin cuDNN when one has already been registered\n",
      "2024-12-18 16:31:56.162473: E external/local_xla/xla/stream_executor/cuda/cuda_fft.cc:607] Unable to register cuFFT factory: Attempting to register factory for plugin cuFFT when one has already been registered\n",
      "2024-12-18 16:31:56.163044: E external/local_xla/xla/stream_executor/cuda/cuda_blas.cc:1515] Unable to register cuBLAS factory: Attempting to register factory for plugin cuBLAS when one has already been registered\n",
      "2024-12-18 16:31:56.166629: I tensorflow/core/platform/cpu_feature_guard.cc:182] This TensorFlow binary is optimized to use available CPU instructions in performance-critical operations.\n",
      "To enable the following instructions: AVX2 AVX_VNNI FMA, in other operations, rebuild TensorFlow with the appropriate compiler flags.\n",
      "2024-12-18 16:31:56.605679: W tensorflow/compiler/tf2tensorrt/utils/py_utils.cc:38] TF-TRT Warning: Could not find TensorRT\n"
     ]
    }
   ],
   "execution_count": 2
  },
  {
   "cell_type": "markdown",
   "source": [
    "## Prepare Data"
   ],
   "metadata": {
    "collapsed": false
   },
   "id": "f00c9d48d0834a1b"
  },
  {
   "cell_type": "code",
   "source": [
    "from pathlib import Path\n",
    "\n",
    "dataset_path = Path(r'/home/thor/Desktop/datasets/emoji-hero-multimodal/')"
   ],
   "metadata": {
    "collapsed": false,
    "ExecuteTime": {
     "end_time": "2024-12-18T15:31:57.064618Z",
     "start_time": "2024-12-18T15:31:57.063075Z"
    }
   },
   "id": "e4dbeea4c1ef309b",
   "outputs": [],
   "execution_count": 3
  },
  {
   "cell_type": "markdown",
   "source": [
    "### Prepare FAU Data"
   ],
   "metadata": {
    "collapsed": false
   },
   "id": "6a9a214e26b0416e"
  },
  {
   "cell_type": "code",
   "source": [
    "import pandas as pd\n",
    "\n",
    "fau_data_path = dataset_path / 'facial_action_unit_activations'\n",
    "\n",
    "fau_train_df = pd.read_csv(str(fau_data_path / 'training_set.csv')).sort_values(by='timestamp').reset_index(drop=True)\n",
    "fau_val_df = pd.read_csv(str(fau_data_path / 'validation_set.csv')).sort_values(by='timestamp').reset_index(drop=True)\n",
    "fau_test_df = pd.read_csv(str(fau_data_path / 'test_set.csv')).sort_values(by='timestamp').reset_index(drop=True)\n",
    "\n",
    "\n",
    "def prepare_fau_data(df):\n",
    "    X = df.iloc[:, 2:-1].values  # All columns except timestamp, participant_id, and label\n",
    "    y = df.iloc[:, -1].values  # The last column is the label\n",
    "    return X, y\n",
    "\n",
    "\n",
    "fau_X_train, fau_y_train = prepare_fau_data(fau_train_df)\n",
    "fau_X_val, fau_y_val = prepare_fau_data(fau_val_df)\n",
    "fau_X_test, fau_y_test = prepare_fau_data(fau_test_df)"
   ],
   "metadata": {
    "collapsed": false,
    "ExecuteTime": {
     "end_time": "2024-12-18T15:31:57.097163Z",
     "start_time": "2024-12-18T15:31:57.069360Z"
    }
   },
   "id": "65a9dac7488dc118",
   "outputs": [],
   "execution_count": 4
  },
  {
   "cell_type": "markdown",
   "source": [
    "### Combine FAU with Image Data"
   ],
   "metadata": {
    "collapsed": false
   },
   "id": "a0db6d0507acd1af"
  },
  {
   "cell_type": "markdown",
   "source": "Make sure that we have exactly two images (central and 45° side-view) for each FAU activations record. It is expected that there is not data for participant 7 (`<timestamp>-7-<camera-index>.jpg`). ",
   "metadata": {
    "collapsed": false
   },
   "id": "fb2dba1ee783f0b2"
  },
  {
   "cell_type": "code",
   "source": [
    "image_dataset_path = dataset_path / 'images'\n",
    "image_train_set_path = image_dataset_path / 'training_set'\n",
    "image_val_set_path = image_dataset_path / 'validation_set'\n",
    "image_test_set_path = image_dataset_path / 'test_set'\n",
    "\n",
    "\n",
    "def load_image_paths(image_set_path, fau_df):\n",
    "    print(f'\\nLoading images from {image_set_path}...')\n",
    "    image_paths = []\n",
    "    labels = []\n",
    "    fau_records = []\n",
    "    for label_dir in image_set_path.iterdir():\n",
    "        for img_file in label_dir.iterdir():\n",
    "            timestamp = int(img_file.name.split('-')[0])\n",
    "            matching_fau = fau_df[fau_df['timestamp'] == timestamp]\n",
    "            if not matching_fau.empty:\n",
    "                image_paths.append(str(img_file))\n",
    "                labels.append(int(label_dir.name))\n",
    "                fau_records.append(matching_fau.iloc[0, 2:-1].values)\n",
    "            else:\n",
    "                print(f'Could not find FAU data for image {img_file.name}')\n",
    "    print(f'Found {len(image_paths)} images with corresponding fau data in {image_set_path}\\n')\n",
    "    return fau_records, image_paths, labels\n",
    "\n",
    "\n",
    "fau_train_records, image_train_paths, train_labels = load_image_paths(image_train_set_path, fau_train_df)\n",
    "fau_val_records, image_val_paths, val_labels = load_image_paths(image_val_set_path, fau_val_df)\n",
    "fau_test_records, image_test_paths, test_labels = load_image_paths(image_test_set_path, fau_test_df)"
   ],
   "metadata": {
    "collapsed": false,
    "ExecuteTime": {
     "end_time": "2024-12-18T15:31:57.584682Z",
     "start_time": "2024-12-18T15:31:57.112043Z"
    }
   },
   "id": "fb552260c6a64cc8",
   "outputs": [
    {
     "name": "stdout",
     "output_type": "stream",
     "text": [
      "\n",
      "Loading images from /home/thor/Desktop/datasets/emoji-hero-multimodal/images/training_set...\n",
      "Could not find FAU data for image 1700566596617-7-1.jpg\n",
      "Could not find FAU data for image 1700566771764-7-1.jpg\n",
      "Could not find FAU data for image 1700566743230-7-0.jpg\n",
      "Could not find FAU data for image 1700566457312-7-1.jpg\n",
      "Could not find FAU data for image 1700566609011-7-0.jpg\n",
      "Could not find FAU data for image 1700566596617-7-0.jpg\n",
      "Could not find FAU data for image 1700566743230-7-1.jpg\n",
      "Could not find FAU data for image 1700566785956-7-1.jpg\n",
      "Could not find FAU data for image 1700566785956-7-0.jpg\n",
      "Could not find FAU data for image 1700566471449-7-1.jpg\n",
      "Could not find FAU data for image 1700566457312-7-0.jpg\n",
      "Could not find FAU data for image 1700566771764-7-0.jpg\n",
      "Could not find FAU data for image 1700566609011-7-1.jpg\n",
      "Could not find FAU data for image 1700566577455-7-1.jpg\n",
      "Could not find FAU data for image 1700566471449-7-0.jpg\n",
      "Could not find FAU data for image 1700566577455-7-0.jpg\n",
      "Could not find FAU data for image 1700566594120-7-0.jpg\n",
      "Could not find FAU data for image 1700566747392-7-0.jpg\n",
      "Could not find FAU data for image 1700566451956-7-1.jpg\n",
      "Could not find FAU data for image 1700566480238-7-0.jpg\n",
      "Could not find FAU data for image 1700566745158-7-0.jpg\n",
      "Could not find FAU data for image 1700566594120-7-1.jpg\n",
      "Could not find FAU data for image 1700566451956-7-0.jpg\n",
      "Could not find FAU data for image 1700566469866-7-0.jpg\n",
      "Could not find FAU data for image 1700566599215-7-1.jpg\n",
      "Could not find FAU data for image 1700566741767-7-0.jpg\n",
      "Could not find FAU data for image 1700566741767-7-1.jpg\n",
      "Could not find FAU data for image 1700566569894-7-1.jpg\n",
      "Could not find FAU data for image 1700566745158-7-1.jpg\n",
      "Could not find FAU data for image 1700566747392-7-1.jpg\n",
      "Could not find FAU data for image 1700566480238-7-1.jpg\n",
      "Could not find FAU data for image 1700566599215-7-0.jpg\n",
      "Could not find FAU data for image 1700566769680-7-1.jpg\n",
      "Could not find FAU data for image 1700566469866-7-1.jpg\n",
      "Could not find FAU data for image 1700566769680-7-0.jpg\n",
      "Could not find FAU data for image 1700566569894-7-0.jpg\n",
      "Could not find FAU data for image 1700566468011-7-0.jpg\n",
      "Could not find FAU data for image 1700566754162-7-1.jpg\n",
      "Could not find FAU data for image 1700566782497-7-0.jpg\n",
      "Could not find FAU data for image 1700566754162-7-0.jpg\n",
      "Could not find FAU data for image 1700566603144-7-0.jpg\n",
      "Could not find FAU data for image 1700566468011-7-1.jpg\n",
      "Could not find FAU data for image 1700566603144-7-1.jpg\n",
      "Could not find FAU data for image 1700566782497-7-1.jpg\n",
      "Could not find FAU data for image 1700566460103-7-0.jpg\n",
      "Could not find FAU data for image 1700566460103-7-1.jpg\n",
      "Could not find FAU data for image 1700566780730-7-0.jpg\n",
      "Could not find FAU data for image 1700566578554-7-1.jpg\n",
      "Could not find FAU data for image 1700566748186-7-0.jpg\n",
      "Could not find FAU data for image 1700566593020-7-1.jpg\n",
      "Could not find FAU data for image 1700566604908-7-1.jpg\n",
      "Could not find FAU data for image 1700566578554-7-0.jpg\n",
      "Could not find FAU data for image 1700566380398-7-1.jpg\n",
      "Could not find FAU data for image 1700566365489-7-0.jpg\n",
      "Could not find FAU data for image 1700566380398-7-0.jpg\n",
      "Could not find FAU data for image 1700566365489-7-1.jpg\n",
      "Could not find FAU data for image 1700566780730-7-1.jpg\n",
      "Could not find FAU data for image 1700566757865-7-1.jpg\n",
      "Could not find FAU data for image 1700566375750-7-0.jpg\n",
      "Could not find FAU data for image 1700566593020-7-0.jpg\n",
      "Could not find FAU data for image 1700566748186-7-1.jpg\n",
      "Could not find FAU data for image 1700566757865-7-0.jpg\n",
      "Could not find FAU data for image 1700566375750-7-1.jpg\n",
      "Could not find FAU data for image 1700566604908-7-0.jpg\n",
      "Could not find FAU data for image 1700566589454-7-0.jpg\n",
      "Could not find FAU data for image 1701188073794-31-0.jpg\n",
      "Could not find FAU data for image 1700566738359-7-1.jpg\n",
      "Could not find FAU data for image 1700566462521-7-1.jpg\n",
      "Could not find FAU data for image 1700566738359-7-0.jpg\n",
      "Could not find FAU data for image 1700566589454-7-1.jpg\n",
      "Could not find FAU data for image 1700566462521-7-0.jpg\n",
      "Could not find FAU data for image 1701188073794-31-1.jpg\n",
      "Could not find FAU data for image 1700566584746-7-0.jpg\n",
      "Could not find FAU data for image 1700566739900-7-1.jpg\n",
      "Could not find FAU data for image 1700566584746-7-1.jpg\n",
      "Could not find FAU data for image 1700566378592-7-0.jpg\n",
      "Could not find FAU data for image 1700566601149-7-0.jpg\n",
      "Could not find FAU data for image 1700566768553-7-0.jpg\n",
      "Could not find FAU data for image 1700566378592-7-1.jpg\n",
      "Could not find FAU data for image 1700566582653-7-1.jpg\n",
      "Could not find FAU data for image 1700566739900-7-0.jpg\n",
      "Could not find FAU data for image 1700566768553-7-1.jpg\n",
      "Could not find FAU data for image 1700566601149-7-1.jpg\n",
      "Could not find FAU data for image 1700566582653-7-0.jpg\n",
      "Could not find FAU data for image 1700566360473-7-0.jpg\n",
      "Could not find FAU data for image 1700566763172-7-1.jpg\n",
      "Could not find FAU data for image 1700566750284-7-0.jpg\n",
      "Could not find FAU data for image 1700566776707-7-1.jpg\n",
      "Could not find FAU data for image 1700566360473-7-1.jpg\n",
      "Could not find FAU data for image 1700566591118-7-1.jpg\n",
      "Could not find FAU data for image 1700566776707-7-0.jpg\n",
      "Could not find FAU data for image 1700566591118-7-0.jpg\n",
      "Could not find FAU data for image 1700566756199-7-1.jpg\n",
      "Could not find FAU data for image 1700566368554-7-1.jpg\n",
      "Could not find FAU data for image 1700566575385-7-0.jpg\n",
      "Could not find FAU data for image 1700566575385-7-1.jpg\n",
      "Could not find FAU data for image 1700566370537-7-0.jpg\n",
      "Could not find FAU data for image 1700566756199-7-0.jpg\n",
      "Could not find FAU data for image 1700566750284-7-1.jpg\n",
      "Could not find FAU data for image 1700566763172-7-0.jpg\n",
      "Could not find FAU data for image 1700566368554-7-0.jpg\n",
      "Could not find FAU data for image 1700566370537-7-1.jpg\n",
      "Found 1928 images with corresponding fau data in /home/thor/Desktop/datasets/emoji-hero-multimodal/images/training_set\n",
      "\n",
      "\n",
      "Loading images from /home/thor/Desktop/datasets/emoji-hero-multimodal/images/validation_set...\n",
      "Found 770 images with corresponding fau data in /home/thor/Desktop/datasets/emoji-hero-multimodal/images/validation_set\n",
      "\n",
      "\n",
      "Loading images from /home/thor/Desktop/datasets/emoji-hero-multimodal/images/test_set...\n",
      "Found 756 images with corresponding fau data in /home/thor/Desktop/datasets/emoji-hero-multimodal/images/test_set\n",
      "\n"
     ]
    }
   ],
   "execution_count": 5
  },
  {
   "cell_type": "code",
   "source": [
    "import tensorflow as tf\n",
    "\n",
    "IMAGE_SIZE = (224, 224)\n",
    "\n",
    "\n",
    "def parse_image(filename):\n",
    "    image_string = tf.io.read_file(filename)\n",
    "    image = tf.image.decode_jpeg(image_string, channels=3)\n",
    "    image = tf.image.resize(image, IMAGE_SIZE)\n",
    "    return image\n",
    "\n",
    "\n",
    "def load_combined_data(fau_records, image_paths, labels, batch_size):\n",
    "    fau_dataset = tf.data.Dataset.from_tensor_slices(fau_records)\n",
    "\n",
    "    image_dataset = tf.data.Dataset.from_tensor_slices(image_paths)\n",
    "    image_dataset = image_dataset.map(parse_image, num_parallel_calls=tf.data.experimental.AUTOTUNE)\n",
    "\n",
    "    label_dataset = tf.data.Dataset.from_tensor_slices(labels)\n",
    "\n",
    "    dataset = tf.data.Dataset.zip(((image_dataset, fau_dataset), label_dataset))\n",
    "\n",
    "    dataset = dataset.batch(batch_size).prefetch(tf.data.experimental.AUTOTUNE)\n",
    "    return dataset\n",
    "\n",
    "\n",
    "train_dataset = load_combined_data(fau_train_records, image_train_paths, train_labels, BATCH_SIZE)\n",
    "val_dataset = load_combined_data(fau_val_records, image_val_paths, val_labels, BATCH_SIZE)\n",
    "test_dataset = load_combined_data(fau_test_records, image_test_paths, test_labels, BATCH_SIZE)\n"
   ],
   "metadata": {
    "collapsed": false,
    "ExecuteTime": {
     "end_time": "2024-12-18T15:31:57.905525Z",
     "start_time": "2024-12-18T15:31:57.598396Z"
    }
   },
   "id": "df84978e4b888a0a",
   "outputs": [
    {
     "name": "stderr",
     "output_type": "stream",
     "text": [
      "2024-12-18 16:31:57.618587: I external/local_xla/xla/stream_executor/cuda/cuda_executor.cc:901] successful NUMA node read from SysFS had negative value (-1), but there must be at least one NUMA node, so returning NUMA node zero. See more at https://github.com/torvalds/linux/blob/v6.0/Documentation/ABI/testing/sysfs-bus-pci#L344-L355\n",
      "2024-12-18 16:31:57.638085: I external/local_xla/xla/stream_executor/cuda/cuda_executor.cc:901] successful NUMA node read from SysFS had negative value (-1), but there must be at least one NUMA node, so returning NUMA node zero. See more at https://github.com/torvalds/linux/blob/v6.0/Documentation/ABI/testing/sysfs-bus-pci#L344-L355\n",
      "2024-12-18 16:31:57.638225: I external/local_xla/xla/stream_executor/cuda/cuda_executor.cc:901] successful NUMA node read from SysFS had negative value (-1), but there must be at least one NUMA node, so returning NUMA node zero. See more at https://github.com/torvalds/linux/blob/v6.0/Documentation/ABI/testing/sysfs-bus-pci#L344-L355\n",
      "2024-12-18 16:31:57.639372: I external/local_xla/xla/stream_executor/cuda/cuda_executor.cc:901] successful NUMA node read from SysFS had negative value (-1), but there must be at least one NUMA node, so returning NUMA node zero. See more at https://github.com/torvalds/linux/blob/v6.0/Documentation/ABI/testing/sysfs-bus-pci#L344-L355\n",
      "2024-12-18 16:31:57.639458: I external/local_xla/xla/stream_executor/cuda/cuda_executor.cc:901] successful NUMA node read from SysFS had negative value (-1), but there must be at least one NUMA node, so returning NUMA node zero. See more at https://github.com/torvalds/linux/blob/v6.0/Documentation/ABI/testing/sysfs-bus-pci#L344-L355\n",
      "2024-12-18 16:31:57.639508: I external/local_xla/xla/stream_executor/cuda/cuda_executor.cc:901] successful NUMA node read from SysFS had negative value (-1), but there must be at least one NUMA node, so returning NUMA node zero. See more at https://github.com/torvalds/linux/blob/v6.0/Documentation/ABI/testing/sysfs-bus-pci#L344-L355\n",
      "2024-12-18 16:31:57.683915: I external/local_xla/xla/stream_executor/cuda/cuda_executor.cc:901] successful NUMA node read from SysFS had negative value (-1), but there must be at least one NUMA node, so returning NUMA node zero. See more at https://github.com/torvalds/linux/blob/v6.0/Documentation/ABI/testing/sysfs-bus-pci#L344-L355\n",
      "2024-12-18 16:31:57.684010: I external/local_xla/xla/stream_executor/cuda/cuda_executor.cc:901] successful NUMA node read from SysFS had negative value (-1), but there must be at least one NUMA node, so returning NUMA node zero. See more at https://github.com/torvalds/linux/blob/v6.0/Documentation/ABI/testing/sysfs-bus-pci#L344-L355\n",
      "2024-12-18 16:31:57.684073: I external/local_xla/xla/stream_executor/cuda/cuda_executor.cc:901] successful NUMA node read from SysFS had negative value (-1), but there must be at least one NUMA node, so returning NUMA node zero. See more at https://github.com/torvalds/linux/blob/v6.0/Documentation/ABI/testing/sysfs-bus-pci#L344-L355\n",
      "2024-12-18 16:31:57.684120: I tensorflow/core/common_runtime/gpu/gpu_device.cc:1929] Created device /job:localhost/replica:0/task:0/device:GPU:0 with 21910 MB memory:  -> device: 0, name: NVIDIA GeForce RTX 3090, pci bus id: 0000:01:00.0, compute capability: 8.6\n"
     ]
    }
   ],
   "execution_count": 6
  },
  {
   "cell_type": "markdown",
   "source": [
    "### Prepare Class Frequencies for Loss Function "
   ],
   "metadata": {
    "collapsed": false
   },
   "id": "aded15db00d05d2b"
  },
  {
   "cell_type": "code",
   "source": [
    "id_to_emotion = {\n",
    "    0: 'Neutral',\n",
    "    1: 'Happy',\n",
    "    2: 'Sad',\n",
    "    3: 'Surprise',\n",
    "    4: 'Fear',\n",
    "    5: 'Disgust',\n",
    "    6: 'Anger',\n",
    "}\n",
    "\n",
    "class_frequencies = fau_train_df['Label'].value_counts()\n",
    "print(f'--- Training Set Class Frequencies ---')\n",
    "for class_id, frequency in class_frequencies.items():\n",
    "    print(f'{class_id} - {id_to_emotion[class_id]:<9} : {frequency:>8}')\n",
    "\n",
    "inverse_class_frequencies = 1 / class_frequencies\n",
    "normalized_inverse_class_frequencies = inverse_class_frequencies / inverse_class_frequencies.sum()\n",
    "class_weights = normalized_inverse_class_frequencies.to_dict()\n",
    "print('\\nClass Weights:\\n', class_weights)"
   ],
   "metadata": {
    "collapsed": false,
    "ExecuteTime": {
     "end_time": "2024-12-18T15:31:57.925553Z",
     "start_time": "2024-12-18T15:31:57.922561Z"
    }
   },
   "id": "e77d333c1c34ba63",
   "outputs": [
    {
     "name": "stdout",
     "output_type": "stream",
     "text": [
      "--- Training Set Class Frequencies ---\n",
      "0 - Neutral   :      197\n",
      "1 - Happy     :      191\n",
      "3 - Surprise  :      172\n",
      "2 - Sad       :      131\n",
      "4 - Fear      :      105\n",
      "5 - Disgust   :      102\n",
      "6 - Anger     :       66\n",
      "\n",
      "Class Weights:\n",
      " {0: 0.08716123123128974, 1: 0.08989928037991667, 3: 0.09983001484048884, 2: 0.13107452330201588, 4: 0.16353107192918173, 5: 0.16834080933886353, 6: 0.26016306897824365}\n"
     ]
    }
   ],
   "execution_count": 7
  },
  {
   "cell_type": "markdown",
   "source": [
    "## Define Network Architecture"
   ],
   "metadata": {
    "collapsed": false
   },
   "id": "d2800cc5d1c5fe66"
  },
  {
   "cell_type": "markdown",
   "source": [
    "### Load Pretrained Models"
   ],
   "metadata": {
    "collapsed": false
   },
   "id": "9cc098512c417de6"
  },
  {
   "cell_type": "code",
   "source": [
    "from tensorflow.keras.models import load_model\n",
    "\n",
    "models_base_path = Path(r'/home/thor/Desktop/repos/emoji-hero-baseline')\n",
    "\n",
    "img_model_path = models_base_path / '2_image' / 'emojihero_transfer_imagenet_20240320-1526' / 'best_model_phase_5.keras'\n",
    "fau_model_path = models_base_path / '1_face_expressions' / '20241031-1748-checkpoint-batch-32-lr-1e-03_val_8155_test_7169' / 'fau_model.keras'\n",
    "img_model = load_model(str(img_model_path))\n",
    "fau_model = load_model(str(fau_model_path))"
   ],
   "metadata": {
    "collapsed": false,
    "ExecuteTime": {
     "end_time": "2024-12-18T15:32:09.148390Z",
     "start_time": "2024-12-18T15:31:57.966949Z"
    }
   },
   "id": "b20383eb49a41081",
   "outputs": [],
   "execution_count": 8
  },
  {
   "cell_type": "code",
   "source": [
    "img_test_dataset = test_dataset.map(lambda inputs, labels: (inputs[0], labels))\n",
    "img_loss, img_accuracy = img_model.evaluate(img_test_dataset)\n",
    "print(f'Image Model - Test Loss: {img_loss}, Test Accuracy: {img_accuracy}')"
   ],
   "metadata": {
    "collapsed": false,
    "ExecuteTime": {
     "end_time": "2024-12-18T15:32:11.415816Z",
     "start_time": "2024-12-18T15:32:09.162768Z"
    }
   },
   "id": "3bb950d58a0ac3c5",
   "outputs": [
    {
     "name": "stderr",
     "output_type": "stream",
     "text": [
      "2024-12-18 16:32:10.243222: I external/local_tsl/tsl/platform/default/subprocess.cc:304] Start cannot spawn child process: No such file or directory\n",
      "2024-12-18 16:32:10.463558: I external/local_xla/xla/stream_executor/cuda/cuda_dnn.cc:454] Loaded cuDNN version 8904\n",
      "2024-12-18 16:32:10.504905: I external/local_tsl/tsl/platform/default/subprocess.cc:304] Start cannot spawn child process: No such file or directory\n"
     ]
    },
    {
     "name": "stdout",
     "output_type": "stream",
     "text": [
      "24/24 [==============================] - 2s 29ms/step - loss: 1.5114 - accuracy: 0.6984\n",
      "Image Model - Test Loss: 1.5113862752914429, Test Accuracy: 0.6984127163887024\n"
     ]
    }
   ],
   "execution_count": 9
  },
  {
   "cell_type": "code",
   "source": [
    "fau_test_dataset = test_dataset.map(lambda inputs, labels: (inputs[1], labels))\n",
    "fau_loss, fau_accuracy = fau_model.evaluate(fau_test_dataset)\n",
    "print(f'FAU Model - Test Loss: {fau_loss}, Test Accuracy: {fau_accuracy}')"
   ],
   "metadata": {
    "collapsed": false,
    "ExecuteTime": {
     "end_time": "2024-12-18T15:32:11.636229Z",
     "start_time": "2024-12-18T15:32:11.446057Z"
    }
   },
   "id": "2760af68bb9b4889",
   "outputs": [
    {
     "name": "stdout",
     "output_type": "stream",
     "text": [
      "24/24 [==============================] - 0s 794us/step - loss: 0.9676 - accuracy: 0.7169\n",
      "FAU Model - Test Loss: 0.967613935470581, Test Accuracy: 0.7169312238693237\n"
     ]
    }
   ],
   "execution_count": 10
  },
  {
   "cell_type": "code",
   "source": [
    "from keras.src.layers import Average\n",
    "from tensorflow.keras.layers import Input\n",
    "from tensorflow.keras.models import Model\n",
    "\n",
    "image_input = Input(shape=(*IMAGE_SIZE, 3), name='image_input')\n",
    "fau_input = Input(shape=(63,), name='fau_input')\n",
    "\n",
    "image_output = img_model(image_input)\n",
    "fau_output = fau_model(fau_input)\n",
    "\n",
    "img_model.trainable = False\n",
    "fau_model.trainable = False\n",
    "\n",
    "combined_features = Average()([image_output, fau_output])\n",
    "\n",
    "combined_model = Model(inputs=[image_input, fau_input], outputs=combined_features)\n",
    "combined_model.summary()"
   ],
   "metadata": {
    "collapsed": false,
    "ExecuteTime": {
     "end_time": "2024-12-18T15:32:12.069200Z",
     "start_time": "2024-12-18T15:32:11.691100Z"
    }
   },
   "id": "d55ccfae75f83991",
   "outputs": [
    {
     "name": "stdout",
     "output_type": "stream",
     "text": [
      "Model: \"model\"\n",
      "__________________________________________________________________________________________________\n",
      " Layer (type)                Output Shape                 Param #   Connected to                  \n",
      "==================================================================================================\n",
      " image_input (InputLayer)    [(None, 224, 224, 3)]        0         []                            \n",
      "                                                                                                  \n",
      " fau_input (InputLayer)      [(None, 63)]                 0         []                            \n",
      "                                                                                                  \n",
      " EfficientNet (Functional)   (None, 7)                    4058538   ['image_input[0][0]']         \n",
      "                                                                                                  \n",
      " model (Functional)          (None, 7)                    16903     ['fau_input[0][0]']           \n",
      "                                                                                                  \n",
      " average (Average)           (None, 7)                    0         ['EfficientNet[0][0]',        \n",
      "                                                                     'model[0][0]']               \n",
      "                                                                                                  \n",
      "==================================================================================================\n",
      "Total params: 4075441 (15.55 MB)\n",
      "Trainable params: 0 (0.00 Byte)\n",
      "Non-trainable params: 4075441 (15.55 MB)\n",
      "__________________________________________________________________________________________________\n"
     ]
    }
   ],
   "execution_count": 11
  },
  {
   "cell_type": "markdown",
   "source": "## Compile the Network",
   "metadata": {
    "collapsed": false
   },
   "id": "dd2188c8655aeda7"
  },
  {
   "cell_type": "code",
   "source": [
    "import datetime\n",
    "from tensorflow.keras.optimizers import Adam\n",
    "\n",
    "timestamp = datetime.datetime.now().strftime(\"%Y%m%d-%H%M\")\n",
    "checkpoint_dir = Path(f'{timestamp}-checkpoint-{experiment_name}')\n",
    "checkpoint_dir.mkdir()\n",
    "optimizer = Adam(learning_rate=LR)\n",
    "\n",
    "combined_model.compile(optimizer=optimizer, loss='sparse_categorical_crossentropy', metrics=['accuracy'])"
   ],
   "metadata": {
    "collapsed": false,
    "ExecuteTime": {
     "end_time": "2024-12-18T15:32:12.225672Z",
     "start_time": "2024-12-18T15:32:12.216078Z"
    }
   },
   "id": "3004cb85dbee053a",
   "outputs": [],
   "execution_count": 12
  },
  {
   "metadata": {},
   "cell_type": "markdown",
   "source": "## Save Model",
   "id": "aea9ac2f3cf66e96"
  },
  {
   "metadata": {
    "ExecuteTime": {
     "end_time": "2024-12-18T15:32:12.648811Z",
     "start_time": "2024-12-18T15:32:12.242677Z"
    }
   },
   "cell_type": "code",
   "source": "combined_model.save(str(checkpoint_dir / 'average_model.keras'))",
   "id": "60865e04da6d3f7a",
   "outputs": [],
   "execution_count": 13
  },
  {
   "cell_type": "markdown",
   "source": [
    "### Training Accuracy"
   ],
   "metadata": {
    "collapsed": false
   },
   "id": "ee896f58e4c4107f"
  },
  {
   "cell_type": "code",
   "source": [
    "train_loss, train_acc = combined_model.evaluate(train_dataset)\n",
    "print(f\"Training accuracy of combined model : {train_acc}\")\n",
    "print(f\"Training loss of combined model : {train_loss}\")"
   ],
   "metadata": {
    "collapsed": false,
    "ExecuteTime": {
     "end_time": "2024-12-18T15:32:15.736922Z",
     "start_time": "2024-12-18T15:32:12.665076Z"
    }
   },
   "id": "69cba312144bb18a",
   "outputs": [
    {
     "name": "stdout",
     "output_type": "stream",
     "text": [
      "61/61 [==============================] - 3s 28ms/step - loss: 0.1449 - accuracy: 0.9907\n",
      "Training accuracy of combined model : 0.9906638860702515\n",
      "Training loss of combined model : 0.14492179453372955\n"
     ]
    }
   ],
   "execution_count": 14
  },
  {
   "cell_type": "code",
   "source": [
    "import numpy as np\n",
    "from sklearn.metrics import classification_report\n",
    "\n",
    "y_pred_vectors_train = combined_model.predict(train_dataset)\n",
    "y_pred_train = np.argmax(y_pred_vectors_train, axis=1)\n",
    "y_true_train = np.concatenate([y for _, y in train_dataset], axis=0)\n",
    "\n",
    "report = classification_report(y_true_train, y_pred_train, target_names=id_to_emotion.values(), digits=4)\n",
    "print(report)"
   ],
   "metadata": {
    "collapsed": false,
    "ExecuteTime": {
     "end_time": "2024-12-18T15:32:17.828995Z",
     "start_time": "2024-12-18T15:32:15.752143Z"
    }
   },
   "id": "aa4a3ef08d244294",
   "outputs": [
    {
     "name": "stdout",
     "output_type": "stream",
     "text": [
      "61/61 [==============================] - 2s 21ms/step\n",
      "              precision    recall  f1-score   support\n",
      "\n",
      "     Neutral     1.0000    0.9949    0.9975       394\n",
      "       Happy     0.9948    0.9974    0.9961       382\n",
      "         Sad     0.9885    0.9885    0.9885       262\n",
      "    Surprise     0.9884    0.9942    0.9913       344\n",
      "        Fear     0.9857    0.9857    0.9857       210\n",
      "     Disgust     1.0000    0.9706    0.9851       204\n",
      "       Anger     0.9562    0.9924    0.9740       132\n",
      "\n",
      "    accuracy                         0.9907      1928\n",
      "   macro avg     0.9877    0.9891    0.9883      1928\n",
      "weighted avg     0.9908    0.9907    0.9907      1928\n",
      "\n"
     ]
    }
   ],
   "execution_count": 15
  },
  {
   "cell_type": "markdown",
   "source": [
    "### Validation Accuracy"
   ],
   "metadata": {
    "collapsed": false
   },
   "id": "1d90157e4a123290"
  },
  {
   "cell_type": "code",
   "source": [
    "import numpy as np\n",
    "from sklearn.metrics import classification_report\n",
    "\n",
    "y_pred_vectors_val = combined_model.predict(val_dataset)\n",
    "y_pred_val = np.argmax(y_pred_vectors_val, axis=1)\n",
    "y_true_val = np.concatenate([y for _, y in val_dataset], axis=0)\n",
    "\n",
    "report = classification_report(y_true_val, y_pred_val, target_names=id_to_emotion.values(), digits=4)\n",
    "print(report)"
   ],
   "metadata": {
    "collapsed": false,
    "ExecuteTime": {
     "end_time": "2024-12-18T15:32:18.451328Z",
     "start_time": "2024-12-18T15:32:17.844724Z"
    }
   },
   "id": "b0540c0883191d4e",
   "outputs": [
    {
     "name": "stdout",
     "output_type": "stream",
     "text": [
      "25/25 [==============================] - 1s 22ms/step\n",
      "              precision    recall  f1-score   support\n",
      "\n",
      "     Neutral     0.7535    0.9727    0.8492       110\n",
      "       Happy     0.7622    0.9909    0.8617       110\n",
      "         Sad     0.7724    0.8636    0.8155       110\n",
      "    Surprise     0.9027    0.9273    0.9148       110\n",
      "        Fear     0.8409    0.6727    0.7475       110\n",
      "     Disgust     0.7391    0.6182    0.6733       110\n",
      "       Anger     0.8406    0.5273    0.6480       110\n",
      "\n",
      "    accuracy                         0.7961       770\n",
      "   macro avg     0.8016    0.7961    0.7871       770\n",
      "weighted avg     0.8016    0.7961    0.7871       770\n",
      "\n"
     ]
    }
   ],
   "execution_count": 16
  },
  {
   "cell_type": "code",
   "source": [
    "from sklearn.metrics import confusion_matrix\n",
    "import seaborn as sns\n",
    "import matplotlib.pyplot as plt\n",
    "\n",
    "\n",
    "def plot_confusion_matrix(y_true, y_pred):\n",
    "    class_names = id_to_emotion.values()\n",
    "\n",
    "    cm = confusion_matrix(y_true, y_pred)\n",
    "    print(cm)\n",
    "\n",
    "    fig = plt.figure(figsize=(10, 8))\n",
    "    sns.heatmap(cm, annot=True, fmt='d', cmap='Blues', xticklabels=class_names, yticklabels=class_names)\n",
    "    plt.title('Confusion Matrix')\n",
    "    plt.xlabel('Predicted Class')\n",
    "    plt.ylabel('Actual Class')\n",
    "    plt.tight_layout()\n",
    "    plt.show()\n",
    "\n",
    "    return fig\n",
    "\n",
    "\n",
    "val_cm = plot_confusion_matrix(y_true_val, y_pred_val)"
   ],
   "metadata": {
    "collapsed": false,
    "ExecuteTime": {
     "end_time": "2024-12-18T15:32:18.625421Z",
     "start_time": "2024-12-18T15:32:18.466842Z"
    }
   },
   "id": "9e92903ffb8119c3",
   "outputs": [
    {
     "name": "stdout",
     "output_type": "stream",
     "text": [
      "[[107   3   0   0   0   0   0]\n",
      " [  1 109   0   0   0   0   0]\n",
      " [  9   2  95   0   0   3   1]\n",
      " [  0   2   0 102   6   0   0]\n",
      " [  7  11   0   9  74   9   0]\n",
      " [  4   8  10   2   8  68  10]\n",
      " [ 14   8  18   0   0  12  58]]\n"
     ]
    },
    {
     "data": {
      "text/plain": [
       "<Figure size 1000x800 with 2 Axes>"
      ],
      "image/png": "[encoded data removed]"
     },
     "metadata": {},
     "output_type": "display_data"
    }
   ],
   "execution_count": 17
  },
  {
   "cell_type": "markdown",
   "source": [
    "## Evaluate Model"
   ],
   "metadata": {
    "collapsed": false
   },
   "id": "86cf0bdfd62ff1a7"
  },
  {
   "cell_type": "code",
   "source": [
    "test_loss, test_acc = combined_model.evaluate(test_dataset)\n",
    "print(f\"Test accuracy of combined model : {test_acc}\")"
   ],
   "metadata": {
    "collapsed": false,
    "ExecuteTime": {
     "end_time": "2024-12-18T15:32:19.196688Z",
     "start_time": "2024-12-18T15:32:18.648472Z"
    }
   },
   "id": "cb6a22c3c15f64b5",
   "outputs": [
    {
     "name": "stdout",
     "output_type": "stream",
     "text": [
      "24/24 [==============================] - 1s 22ms/step - loss: 0.7554 - accuracy: 0.7646\n",
      "Test accuracy of combined model : 0.7645502686500549\n"
     ]
    }
   ],
   "execution_count": 18
  },
  {
   "cell_type": "code",
   "source": [
    "y_pred_vectors = combined_model.predict(test_dataset)\n",
    "y_pred = np.argmax(y_pred_vectors, axis=1)\n",
    "y_true = np.concatenate([y for _, y in test_dataset], axis=0)\n",
    "\n",
    "report = classification_report(y_true, y_pred, target_names=id_to_emotion.values(), digits=4)\n",
    "print(report)"
   ],
   "metadata": {
    "collapsed": false,
    "ExecuteTime": {
     "end_time": "2024-12-18T15:32:19.765180Z",
     "start_time": "2024-12-18T15:32:19.212359Z"
    }
   },
   "id": "cc144733c59046a4",
   "outputs": [
    {
     "name": "stdout",
     "output_type": "stream",
     "text": [
      "24/24 [==============================] - 0s 20ms/step\n",
      "              precision    recall  f1-score   support\n",
      "\n",
      "     Neutral     0.8273    0.8426    0.8349       108\n",
      "       Happy     0.7647    0.9630    0.8525       108\n",
      "         Sad     0.9059    0.7130    0.7979       108\n",
      "    Surprise     0.8750    0.8426    0.8585       108\n",
      "        Fear     0.7895    0.6944    0.7389       108\n",
      "     Disgust     0.6032    0.7037    0.6496       108\n",
      "       Anger     0.6400    0.5926    0.6154       108\n",
      "\n",
      "    accuracy                         0.7646       756\n",
      "   macro avg     0.7722    0.7646    0.7639       756\n",
      "weighted avg     0.7722    0.7646    0.7639       756\n",
      "\n"
     ]
    }
   ],
   "execution_count": 19
  },
  {
   "cell_type": "code",
   "source": [
    "cm_figure = plot_confusion_matrix(y_true, y_pred)"
   ],
   "metadata": {
    "collapsed": false,
    "ExecuteTime": {
     "end_time": "2024-12-18T15:32:19.918036Z",
     "start_time": "2024-12-18T15:32:19.781813Z"
    }
   },
   "id": "e15236d97be39144",
   "outputs": [
    {
     "name": "stdout",
     "output_type": "stream",
     "text": [
      "[[ 91   4   3   0   0   3   7]\n",
      " [  0 104   0   0   1   0   3]\n",
      " [ 10   0  77   0   1   0  20]\n",
      " [  0   0   1  91  14   1   1]\n",
      " [  4   8   0   9  75  12   0]\n",
      " [  0  19   3   3   2  76   5]\n",
      " [  5   1   1   1   2  34  64]]\n"
     ]
    },
    {
     "data": {
      "text/plain": [
       "<Figure size 1000x800 with 2 Axes>"
      ],
      "image/png": "[encoded data removed]"
     },
     "metadata": {},
     "output_type": "display_data"
    }
   ],
   "execution_count": 20
  },
  {
   "cell_type": "code",
   "source": [
    "def save_evaluation_results(report, cm_figure, checkpoint_dir):\n",
    "    with (checkpoint_dir / 'classification_report.txt').open(mode='w') as f:\n",
    "        f.write(report)\n",
    "    cm_figure.savefig(str(checkpoint_dir / 'confusion_matrix.png'))\n",
    "\n",
    "\n",
    "save_evaluation_results(report, cm_figure, checkpoint_dir)"
   ],
   "metadata": {
    "collapsed": false,
    "ExecuteTime": {
     "end_time": "2024-12-18T15:32:19.993357Z",
     "start_time": "2024-12-18T15:32:19.934594Z"
    }
   },
   "id": "5c368f9bf62afcd1",
   "outputs": [],
   "execution_count": 21
  },
  {
   "cell_type": "code",
   "source": [
    "import time\n",
    "\n",
    "time.sleep(3)"
   ],
   "metadata": {
    "collapsed": false,
    "ExecuteTime": {
     "end_time": "2024-12-18T15:32:23.011822Z",
     "start_time": "2024-12-18T15:32:20.009725Z"
    }
   },
   "id": "6d7f2f46dc268726",
   "outputs": [],
   "execution_count": 22
  },
  {
   "cell_type": "code",
   "source": [
    "import shutil\n",
    "\n",
    "shutil.copy2((Path() / name_of_this_notebook), (checkpoint_dir / name_of_this_notebook))"
   ],
   "metadata": {
    "collapsed": false,
    "ExecuteTime": {
     "end_time": "2024-12-18T15:32:23.030645Z",
     "start_time": "2024-12-18T15:32:23.028506Z"
    }
   },
   "id": "23b77cad9e232681",
   "outputs": [
    {
     "data": {
      "text/plain": [
       "PosixPath('20241218-1632-checkpoint-batch-32-lr-1e-03-AVERAGE/late_fusion_average.ipynb')"
      ]
     },
     "execution_count": 23,
     "metadata": {},
     "output_type": "execute_result"
    }
   ],
   "execution_count": 23
  },
  {
   "metadata": {
    "ExecuteTime": {
     "end_time": "2024-12-18T15:32:23.075502Z",
     "start_time": "2024-12-18T15:32:23.073977Z"
    }
   },
   "cell_type": "code",
   "source": "",
   "id": "6d09aed40ec69dd8",
   "outputs": [],
   "execution_count": null
  }
 ],
 "metadata": {
  "kernelspec": {
   "display_name": "Python 3",
   "language": "python",
   "name": "python3"
  },
  "language_info": {
   "codemirror_mode": {
    "name": "ipython",
    "version": 2
   },
   "file_extension": ".py",
   "mimetype": "text/x-python",
   "name": "python",
   "nbconvert_exporter": "python",
   "pygments_lexer": "ipython2",
   "version": "2.7.6"
  }
 },
 "nbformat": 4,
 "nbformat_minor": 5
}
